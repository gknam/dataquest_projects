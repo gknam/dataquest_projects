{
 "cells": [
  {
   "cell_type": "markdown",
   "metadata": {},
   "source": [
    "# What this code is about\n",
    "\n",
    "This is the first guided project of DataQuest's Data science path.\n",
    "A CSV file has been loaded, which contains number of births per day of several years from 1994. The final output indicates the number of births per day of the week.\n",
    "\n",
    "This data is the basis of [Some People Are Too Superstitious To Have A Baby On Friday The 13th](http://fivethirtyeight.com/features/some-people-are-too-superstitious-to-have-a-baby-on-friday-the-13th/)\n",
    "\n",
    "# CSV file structure\n",
    "The CSV file contains header and data. Below is a list of header names and their definitions as seen at [here](http://bit.ly/2ljWQuP)\n",
    "\n",
    "Header | Definition\n",
    "-|-\n",
    "`year` | Year\n",
    "`month` | Month\n",
    "`date_of_month` | Day number of the month\n",
    "`day_of_week` | Day of week, where 1 is Monday and 7 is Sunday\n",
    "`births` | Number of births"
   ]
  },
  {
   "cell_type": "code",
   "execution_count": 9,
   "metadata": {
    "scrolled": true
   },
   "outputs": [
    {
     "data": {
      "text/plain": [
       "['year,month,date_of_month,day_of_week,births',\n",
       " '1994,1,1,6,8096',\n",
       " '1994,1,2,7,7772',\n",
       " '1994,1,3,1,10142',\n",
       " '1994,1,4,2,11248',\n",
       " '1994,1,5,3,11053',\n",
       " '1994,1,6,4,11406',\n",
       " '1994,1,7,5,11251',\n",
       " '1994,1,8,6,8653',\n",
       " '1994,1,9,7,7910']"
      ]
     },
     "execution_count": 9,
     "metadata": {},
     "output_type": "execute_result"
    }
   ],
   "source": [
    "# load file and split by lines\n",
    "with open(\"births.csv\", \"r\") as f:\n",
    "    rowsStr = f.read()\n",
    "rowsLst = rowsStr.split(\"\\n\")\n",
    "rowsLst_len = len(rowsLst)\n",
    "\n",
    "# display top 10 rows\n",
    "rowsLst[:10]"
   ]
  },
  {
   "cell_type": "code",
   "execution_count": 10,
   "metadata": {},
   "outputs": [
    {
     "data": {
      "text/plain": [
       "[['year', 'month', 'date_of_month', 'day_of_week', 'births'],\n",
       " ['1994', '1', '1', '6', '8096'],\n",
       " ['1994', '1', '2', '7', '7772'],\n",
       " ['1994', '1', '3', '1', '10142'],\n",
       " ['1994', '1', '4', '2', '11248'],\n",
       " ['1994', '1', '5', '3', '11053'],\n",
       " ['1994', '1', '6', '4', '11406'],\n",
       " ['1994', '1', '7', '5', '11251'],\n",
       " ['1994', '1', '8', '6', '8653'],\n",
       " ['1994', '1', '9', '7', '7910']]"
      ]
     },
     "execution_count": 10,
     "metadata": {},
     "output_type": "execute_result"
    }
   ],
   "source": [
    "# split each line by comma\n",
    "rows = []\n",
    "for row in rowsLst:\n",
    "    rows.append(row.split(\",\"))\n",
    "\n",
    "# display top 10 rows\n",
    "rows[:10]"
   ]
  },
  {
   "cell_type": "code",
   "execution_count": 11,
   "metadata": {},
   "outputs": [
    {
     "data": {
      "text/plain": [
       "{1: 5789166,\n",
       " 2: 6446196,\n",
       " 3: 6322855,\n",
       " 4: 6288429,\n",
       " 5: 6233657,\n",
       " 6: 4562111,\n",
       " 7: 4079723}"
      ]
     },
     "execution_count": 11,
     "metadata": {},
     "output_type": "execute_result"
    }
   ],
   "source": [
    "# get number of births per \"day_of_week\"\n",
    "numBirthPerDay = {}\n",
    "rows = rows[1:]\n",
    "for r in rows:\n",
    "    day = int(r[3])\n",
    "    births = int(r[4])\n",
    "    if day in numBirthPerDay:\n",
    "        numBirthPerDay[day] += births\n",
    "    else:\n",
    "        numBirthPerDay[day] = births\n",
    "numBirthPerDay"
   ]
  }
 ],
 "metadata": {
  "anaconda-cloud": {},
  "kernelspec": {
   "display_name": "Python 3",
   "language": "python",
   "name": "python3"
  },
  "language_info": {
   "codemirror_mode": {
    "name": "ipython",
    "version": 3
   },
   "file_extension": ".py",
   "mimetype": "text/x-python",
   "name": "python",
   "nbconvert_exporter": "python",
   "pygments_lexer": "ipython3",
   "version": "3.6.3"
  }
 },
 "nbformat": 4,
 "nbformat_minor": 1
}
