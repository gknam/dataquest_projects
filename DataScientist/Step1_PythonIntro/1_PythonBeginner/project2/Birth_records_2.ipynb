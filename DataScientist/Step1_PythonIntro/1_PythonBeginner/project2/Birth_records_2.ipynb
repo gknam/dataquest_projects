{
 "cells": [
  {
   "cell_type": "markdown",
   "metadata": {},
   "source": [
    "This is a guided project at [DataQuest](https://www.dataquest.io).\n",
    "\n",
    "A CDC dataset form [here](https://github.com/fivethirtyeight/data/tree/master/births) with birth records will be briefly explored."
   ]
  },
  {
   "cell_type": "markdown",
   "metadata": {},
   "source": [
    "# [CDC Dataset](https://github.com/fivethirtyeight/data/blob/master/births/US_births_1994-2003_CDC_NCHS.csv)"
   ]
  },
  {
   "cell_type": "code",
   "execution_count": 1,
   "metadata": {},
   "outputs": [
    {
     "data": {
      "text/plain": [
       "['year,month,date_of_month,day_of_week,births',\n",
       " '1994,1,1,6,8096',\n",
       " '1994,1,2,7,7772',\n",
       " '1994,1,3,1,10142',\n",
       " '1994,1,4,2,11248',\n",
       " '1994,1,5,3,11053',\n",
       " '1994,1,6,4,11406',\n",
       " '1994,1,7,5,11251',\n",
       " '1994,1,8,6,8653',\n",
       " '1994,1,9,7,7910']"
      ]
     },
     "execution_count": 1,
     "metadata": {},
     "output_type": "execute_result"
    }
   ],
   "source": [
    "with open(\"US_births_1994-2003_CDC_NCHS.csv\", \"r\") as f:\n",
    "    # extract rows\n",
    "    data = f.read().split(\"\\n\")\n",
    "data[:10]"
   ]
  },
  {
   "cell_type": "markdown",
   "metadata": {},
   "source": [
    "# Get dataset ready for analysis"
   ]
  },
  {
   "cell_type": "code",
   "execution_count": 2,
   "metadata": {},
   "outputs": [
    {
     "data": {
      "text/plain": [
       "[[1994, 1, 1, 6, 8096],\n",
       " [1994, 1, 2, 7, 7772],\n",
       " [1994, 1, 3, 1, 10142],\n",
       " [1994, 1, 4, 2, 11248],\n",
       " [1994, 1, 5, 3, 11053],\n",
       " [1994, 1, 6, 4, 11406],\n",
       " [1994, 1, 7, 5, 11251],\n",
       " [1994, 1, 8, 6, 8653],\n",
       " [1994, 1, 9, 7, 7910],\n",
       " [1994, 1, 10, 1, 10498]]"
      ]
     },
     "execution_count": 2,
     "metadata": {},
     "output_type": "execute_result"
    }
   ],
   "source": [
    "def read_csv(filename):\n",
    "    \n",
    "    with open(filename, \"r\") as f:\n",
    "        data = f.read().split(\"\\n\")\n",
    "    \n",
    "    string_list = data[1:]\n",
    "    final_list = []\n",
    "    \n",
    "    for row in string_list:\n",
    "        int_fields = []\n",
    "        string_fields = row.split(',')\n",
    "\n",
    "        for s in string_fields:\n",
    "            int_fields.append(int(s))\n",
    "        \n",
    "        final_list.append(int_fields)\n",
    "    \n",
    "    return final_list\n",
    "\n",
    "cdc_list = read_csv(\"US_births_1994-2003_CDC_NCHS.csv\")\n",
    "cdc_list[:10]"
   ]
  },
  {
   "cell_type": "markdown",
   "metadata": {},
   "source": [
    "# Calculate total births per month"
   ]
  },
  {
   "cell_type": "code",
   "execution_count": 3,
   "metadata": {},
   "outputs": [
    {
     "data": {
      "text/plain": [
       "{1: 3232517,\n",
       " 2: 3018140,\n",
       " 3: 3322069,\n",
       " 4: 3185314,\n",
       " 5: 3350907,\n",
       " 6: 3296530,\n",
       " 7: 3498783,\n",
       " 8: 3525858,\n",
       " 9: 3439698,\n",
       " 10: 3378814,\n",
       " 11: 3171647,\n",
       " 12: 3301860}"
      ]
     },
     "execution_count": 3,
     "metadata": {},
     "output_type": "execute_result"
    }
   ],
   "source": [
    "def month_births(data):\n",
    "    births_per_month = {}\n",
    "    \n",
    "    for row in data:\n",
    "        month = row[1]\n",
    "        births = row[4]\n",
    "        \n",
    "        if month in births_per_month:\n",
    "            births_per_month[month] += births\n",
    "        else:\n",
    "            births_per_month[month] = births\n",
    "\n",
    "    return births_per_month\n",
    "\n",
    "cdc_month_births = month_births(cdc_list)\n",
    "cdc_month_births"
   ]
  },
  {
   "cell_type": "markdown",
   "metadata": {},
   "source": [
    "# Calculate total births per day of week"
   ]
  },
  {
   "cell_type": "code",
   "execution_count": 4,
   "metadata": {},
   "outputs": [
    {
     "data": {
      "text/plain": [
       "{1: 5789166,\n",
       " 2: 6446196,\n",
       " 3: 6322855,\n",
       " 4: 6288429,\n",
       " 5: 6233657,\n",
       " 6: 4562111,\n",
       " 7: 4079723}"
      ]
     },
     "execution_count": 4,
     "metadata": {},
     "output_type": "execute_result"
    }
   ],
   "source": [
    "def dow_births(data):\n",
    "    births_per_day = {}\n",
    "    \n",
    "    for row in data:\n",
    "        day = row[3]\n",
    "        births = row[-1]\n",
    "        \n",
    "        if day in births_per_day:\n",
    "            births_per_day[day] += births\n",
    "        else:\n",
    "            births_per_day[day] = births\n",
    "    \n",
    "    return births_per_day\n",
    "\n",
    "cdc_day_births = dow_births(cdc_list)\n",
    "cdc_day_births"
   ]
  },
  {
   "cell_type": "markdown",
   "metadata": {},
   "source": [
    "# Refactor"
   ]
  },
  {
   "cell_type": "code",
   "execution_count": 5,
   "metadata": {},
   "outputs": [
    {
     "name": "stdout",
     "output_type": "stream",
     "text": [
      "Total births per year: \n",
      "{1994: 3952767, 1995: 3899589, 1996: 3891494, 1997: 3880894, 1998: 3941553, 1999: 3959417, 2000: 4058814, 2001: 4025933, 2002: 4021726, 2003: 4089950}\n",
      "\n",
      "Total births per month: \n",
      "{1: 3232517, 2: 3018140, 3: 3322069, 4: 3185314, 5: 3350907, 6: 3296530, 7: 3498783, 8: 3525858, 9: 3439698, 10: 3378814, 11: 3171647, 12: 3301860}\n",
      "\n",
      "Total births per day of month: \n",
      "{1: 1276557, 2: 1288739, 3: 1304499, 4: 1288154, 5: 1299953, 6: 1304474, 7: 1310459, 8: 1312297, 9: 1303292, 10: 1320764, 11: 1314361, 12: 1318437, 13: 1277684, 14: 1320153, 15: 1319171, 16: 1315192, 17: 1324953, 18: 1326855, 19: 1318727, 20: 1324821, 21: 1322897, 22: 1317381, 23: 1293290, 24: 1288083, 25: 1272116, 26: 1284796, 27: 1294395, 28: 1307685, 29: 1223161, 30: 1202095, 31: 746696}\n",
      "\n",
      "Total births per day of week: \n",
      "{6: 4562111, 7: 4079723, 1: 5789166, 2: 6446196, 3: 6322855, 4: 6288429, 5: 6233657}\n",
      "\n"
     ]
    }
   ],
   "source": [
    "def calc_counts(data, column):\n",
    "    totals = {}\n",
    "    \n",
    "    for row in data:\n",
    "        day = row[column]\n",
    "        births = row[-1]\n",
    "        \n",
    "        if day in totals:\n",
    "            totals[day] += births\n",
    "        else:\n",
    "            totals[day] = births\n",
    "    \n",
    "    return totals\n",
    "\n",
    "cdc_year_births = calc_counts(cdc_list, 0)\n",
    "cdc_month_births = calc_counts(cdc_list, 1)\n",
    "cdc_dom_births = calc_counts(cdc_list, 2)\n",
    "cdc_dow_births = calc_counts(cdc_list, 3)\n",
    "\n",
    "print(\"Total births per year: \\n\" + str(cdc_year_births) + \"\\n\")\n",
    "print(\"Total births per month: \\n\" + str(cdc_month_births) + \"\\n\")\n",
    "print(\"Total births per day of month: \\n\" + str(cdc_dom_births) + \"\\n\")\n",
    "print(\"Total births per day of week: \\n\" + str(cdc_dow_births) + \"\\n\")"
   ]
  },
  {
   "cell_type": "markdown",
   "metadata": {},
   "source": [
    "# Get minimum and maximum births per period unit"
   ]
  },
  {
   "cell_type": "code",
   "execution_count": 6,
   "metadata": {},
   "outputs": [
    {
     "name": "stdout",
     "output_type": "stream",
     "text": [
      "Min/Max births per year: \n",
      "{1997: 3880894, 2003: 4089950}\n",
      "\n",
      "Min/Max births per month: \n",
      "{2: 3018140, 8: 3525858}\n",
      "\n",
      "Min/Max births per day of month: \n",
      "{31: 746696, 18: 1326855}\n",
      "\n",
      "Min/Max births per day of week: \n",
      "{7: 4079723, 2: 6446196}\n",
      "\n"
     ]
    }
   ],
   "source": [
    "def getMinMax(dic):\n",
    "    \"\"\"\n",
    "    Returns key-value pairs whose values are minimum and maximum in dic\n",
    "    \"\"\"\n",
    "    minMaxDic = {}\n",
    "    \n",
    "    # get any value in dic as min and max\n",
    "    for key in dic:\n",
    "        minVal = dic[key]\n",
    "        maxVal = dic[key]\n",
    "        minKey = key\n",
    "        maxKey = key\n",
    "        break\n",
    "\n",
    "    # identify min and max\n",
    "    for key in dic:\n",
    "        val = dic[key]\n",
    "        if val < minVal:\n",
    "            minVal = val\n",
    "            minKey = key\n",
    "        elif val > maxVal:\n",
    "            maxVal = val\n",
    "            maxKey = key\n",
    "    \n",
    "    return {minKey: minVal, maxKey: maxVal}\n",
    "\n",
    "yearMinMax = getMinMax(cdc_year_births)\n",
    "monthMinMax = getMinMax(cdc_month_births)\n",
    "domMinMax = getMinMax(cdc_dom_births)\n",
    "dowMinMax = getMinMax(cdc_dow_births)\n",
    "\n",
    "print(\"Min/Max births per year: \\n\" + str(yearMinMax) + \"\\n\")\n",
    "print(\"Min/Max births per month: \\n\" + str(monthMinMax) + \"\\n\")\n",
    "print(\"Min/Max births per day of month: \\n\" + str(domMinMax) + \"\\n\")\n",
    "print(\"Min/Max births per day of week: \\n\" + str(dowMinMax) + \"\\n\")"
   ]
  },
  {
   "cell_type": "markdown",
   "metadata": {},
   "source": [
    "# Tracking changes"
   ]
  },
  {
   "cell_type": "code",
   "execution_count": 7,
   "metadata": {
    "scrolled": true
   },
   "outputs": [
    {
     "data": {
      "image/png": "[encoded data removed]",
      "text/plain": [
       "<matplotlib.figure.Figure at 0x7ff06fee57b8>"
      ]
     },
     "metadata": {},
     "output_type": "display_data"
    },
    {
     "data": {
      "image/png": "[encoded data removed]",
      "text/plain": [
       "<matplotlib.figure.Figure at 0x7ff0681fbeb8>"
      ]
     },
     "metadata": {},
     "output_type": "display_data"
    },
    {
     "data": {
      "image/png": "[encoded data removed]",
      "text/plain": [
       "<matplotlib.figure.Figure at 0x7ff044bc3550>"
      ]
     },
     "metadata": {},
     "output_type": "display_data"
    },
    {
     "data": {
      "image/png": "[encoded data removed]",
      "text/plain": [
       "<matplotlib.figure.Figure at 0x7ff04bbe4fd0>"
      ]
     },
     "metadata": {},
     "output_type": "display_data"
    }
   ],
   "source": [
    "%matplotlib inline\n",
    "\n",
    "import matplotlib.pyplot as plt\n",
    "import numpy as np\n",
    "\n",
    "def getChanges(dic, xLabel, yLabel, title, graphType, xTicksRotation=0):\n",
    "    changes = []\n",
    "    \n",
    "    # get dic's keys and sort them\n",
    "    keys = [key for key in dic]\n",
    "    keys.sort()\n",
    "    \n",
    "    # get dic's values for each key\n",
    "    values = []\n",
    "    for key in keys:\n",
    "        values.append(dic[key])\n",
    "    \n",
    "    # display changes (source https://stackoverflow.com/a/24120377/7194743)\n",
    "    # note: plt.xlabel()\n",
    "    fig, ax = plt.subplots()\n",
    "    ax.set_xlabel(xLabel)\n",
    "    ax.set_ylabel(yLabel)\n",
    "    \n",
    "    plt.title(title)\n",
    "    \n",
    "    if graphType == 'bar':\n",
    "        ind = np.arange(len(dic))\n",
    "        plt.xticks(ind, keys, rotation=xTicksRotation)\n",
    "        plt.bar(ind, values, align='center')\n",
    "    elif graphType == 'line':\n",
    "        xtick_labels = [str(i) for i in keys]\n",
    "        plt.xticks(keys, xtick_labels, rotation=xTicksRotation)\n",
    "        plt.plot(keys, values)\n",
    "    plt.show()\n",
    "\n",
    "    \n",
    "getChanges(cdc_year_births, 'Year', 'Births', \\\n",
    "           'Births change across years', 'line')\n",
    "getChanges(cdc_month_births, 'Month', 'Births', \\\n",
    "           'Births per Month between 1994-2003', 'bar')\n",
    "getChanges(cdc_dom_births, 'Day of month', 'Births', \\\n",
    "           'Births per day of month between 1994-2003', \\\n",
    "           'bar', xTicksRotation=90)\n",
    "getChanges(cdc_dow_births, 'Day of week', 'Births', \\\n",
    "           'Births per day of week between 1994-2003', 'bar')"
   ]
  },
  {
   "cell_type": "markdown",
   "metadata": {},
   "source": [
    "# Combine CDC and [SSA](https://github.com/fivethirtyeight/data/blob/master/births/US_births_2000-2014_SSA.csv) datasets"
   ]
  },
  {
   "cell_type": "code",
   "execution_count": 8,
   "metadata": {},
   "outputs": [
    {
     "name": "stdout",
     "output_type": "stream",
     "text": [
      "[[1994, 1, 1, 6, 8096], [1994, 1, 2, 7, 7772], [1994, 1, 3, 1, 10142], [1994, 1, 4, 2, 11248], [1994, 1, 5, 3, 11053], [1994, 1, 6, 4, 11406], [1994, 1, 7, 5, 11251], [1994, 1, 8, 6, 8653], [1994, 1, 9, 7, 7910], [1994, 1, 10, 1, 10498]]\n",
      "\n",
      "2000-1-1-6: {'cdc': 8843, 'ssa': 9083, 'combined': 8963.0}\n",
      "2000-1-10-1: {'cdc': 11418, 'ssa': 11668, 'combined': 11543.0}\n",
      "2000-1-11-2: {'cdc': 12323, 'ssa': 12611, 'combined': 12467.0}\n",
      "2000-1-12-3: {'cdc': 12057, 'ssa': 12398, 'combined': 12227.5}\n",
      "2000-1-13-4: {'cdc': 11556, 'ssa': 11815, 'combined': 11685.5}\n",
      "2000-1-14-5: {'cdc': 11924, 'ssa': 12180, 'combined': 12052.0}\n",
      "2000-1-15-6: {'cdc': 8365, 'ssa': 8525, 'combined': 8445.0}\n",
      "2000-1-16-7: {'cdc': 7499, 'ssa': 7657, 'combined': 7578.0}\n",
      "2000-1-17-1: {'cdc': 10601, 'ssa': 10824, 'combined': 10712.5}\n",
      "2000-1-18-2: {'cdc': 12086, 'ssa': 12350, 'combined': 12218.0}\n"
     ]
    }
   ],
   "source": [
    "from collections import OrderedDict\n",
    "\n",
    "cdc_list = read_csv(\"US_births_1994-2003_CDC_NCHS.csv\")\n",
    "ssa_list = read_csv(\"US_births_2000-2014_SSA.csv\")\n",
    "combined_list = []\n",
    "\n",
    "def combineCdcSsa(cdc, ssa):\n",
    "    # add cdc to combined dataset\n",
    "    both = {}\n",
    "    for i in cdc:\n",
    "        cdc_fields = '-'.join(str(j) for j in i[:4])\n",
    "        both[cdc_fields] = i[-1]\n",
    "\n",
    "    # add ssa to combined dataset, dealing with overlapping records\n",
    "    overlap = {}\n",
    "    for i in ssa:\n",
    "        ssa_fields = '-'.join(str(j) for j in i[:4])\n",
    "        if ssa_fields in both:\n",
    "            overlap[ssa_fields] = {}\n",
    "            overlap[ssa_fields]['cdc'] = both[ssa_fields]\n",
    "            overlap[ssa_fields]['ssa'] = i[-1]\n",
    "            \n",
    "            # for overlapping records, take the mean\n",
    "            both[ssa_fields] = (both[ssa_fields] + i[-1]) / 2\n",
    "            \n",
    "            overlap[ssa_fields]['combined'] = both[ssa_fields]            \n",
    "        else:\n",
    "            both[ssa_fields] = i[-1]\n",
    "    overlap = OrderedDict(sorted(overlap.items(), key=lambda t: t[0]))\n",
    "\n",
    "    # convert the dataset to list of lists\n",
    "    both_list = []\n",
    "    for key in both:\n",
    "        row_fields = [int(k) for k in key.split('-')]\n",
    "        row_births = [both[key]]\n",
    "        row = row_fields + row_births\n",
    "        both_list.append(row)\n",
    "    \n",
    "    both_list.sort()\n",
    "    return both_list, overlap\n",
    "\n",
    "combined_list, overlap = combineCdcSsa(cdc_list, ssa_list)\n",
    "print(combined_list[:10])\n",
    "print()\n",
    "count = 0\n",
    "for key in overlap:\n",
    "    print(key + \": \" + str(overlap[key]))\n",
    "    count += 1\n",
    "    if count == 10:\n",
    "        break"
   ]
  }
 ],
 "metadata": {
  "anaconda-cloud": {},
  "kernelspec": {
   "display_name": "Python 3",
   "language": "python",
   "name": "python3"
  },
  "language_info": {
   "codemirror_mode": {
    "name": "ipython",
    "version": 3
   },
   "file_extension": ".py",
   "mimetype": "text/x-python",
   "name": "python",
   "nbconvert_exporter": "python",
   "pygments_lexer": "ipython3",
   "version": "3.6.3"
  }
 },
 "nbformat": 4,
 "nbformat_minor": 1
}
