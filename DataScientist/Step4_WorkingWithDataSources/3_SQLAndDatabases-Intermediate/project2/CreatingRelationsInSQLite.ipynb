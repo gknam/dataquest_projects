{
 "cells": [
  {
   "cell_type": "markdown",
   "metadata": {},
   "source": [
    "Project guide: https://www.dataquest.io/m/216/guided-project%3A-creating-relations-in-sqlite\n",
    "\n",
    "Solution by DataQuest: https://github.com/dataquestio/solutions/blob/master/Mission216Solutions.ipynb\n",
    "\n",
    "<br /><br />\n",
    "\n",
    "This uses a copy of `nominations.db`, a database produced in the project [PreparingDataForSQLite](../project1/PreparingDataForSQLite.ipynb).\n",
    "\n",
    "`nominations.db` is already in the directory. A copy will be made and named as `nominations2.db`.\n",
    "\n",
    "This project modifies the database. Therefore, a copy is used to allow running the codes more than once.\n",
    "\n",
    "# 1. Introduction to the data\n",
    "\n",
    "The only table in `nominations.db` is `nominations`. Its schema is shown below."
   ]
  },
  {
   "cell_type": "code",
   "execution_count": 1,
   "metadata": {},
   "outputs": [
    {
     "name": "stdout",
     "output_type": "stream",
     "text": [
      "(0, 'Year', 'INTEGER', 0, None, 0)\n",
      "(1, 'Category', 'TEXT', 0, None, 0)\n",
      "(2, 'Nominee', 'TEXT', 0, None, 0)\n",
      "(3, 'Won', 'INTEGER', 0, None, 0)\n",
      "(4, 'Movie', 'TEXT', 0, None, 0)\n",
      "(5, 'Character', 'TEXT', 0, None, 0)\n"
     ]
    }
   ],
   "source": [
    "import sqlite3\n",
    "from shutil import copy\n",
    "\n",
    "# make a copy of \"nominations.db\"\n",
    "copy(\"nominations.db\", \"nominations2.db\")\n",
    "\n",
    "# use the copy from this point on\n",
    "db = \"nominations2.db\"\n",
    "\n",
    "def runSqlite(query, db=db, inputList=None, foreignKey=False, returnOutput=False):\n",
    "    \"\"\"\n",
    "    Connect to \"nominations.db\",\n",
    "    execute SQLite query,\n",
    "    print output row by row,\n",
    "    and close connection.\n",
    "    \n",
    "    If inputList is provided,\n",
    "    its elements will be iteratively fed into query.\n",
    "    \n",
    "    If foreignKey is True,\n",
    "    foreign key contrains will be turned on.\n",
    "    \n",
    "    If returnOutput is True,\n",
    "    output of cursor.fetchall() will be returned.\n",
    "    \"\"\"\n",
    "    \n",
    "    # connect to database\n",
    "    conn = sqlite3.connect(db)\n",
    "    \n",
    "    # create cursor\n",
    "    cursor = conn.cursor()\n",
    "    \n",
    "    # turn on foreign key constraint if required\n",
    "    if foreignKey:\n",
    "        cursor.execute(\"PRAGMA foreign_keys = ON\")\n",
    "    \n",
    "    # execute query\n",
    "    if inputList is not None:\n",
    "        try:\n",
    "            cursor.executemany(query, inputList)\n",
    "        except:\n",
    "            conn.close()\n",
    "            raise\n",
    "    else:\n",
    "        try:\n",
    "            cursor.execute(query)\n",
    "        except:\n",
    "            conn.close()\n",
    "            raise\n",
    "    \n",
    "    output = cursor.fetchall()\n",
    "\n",
    "    # return output if required\n",
    "    if returnOutput:\n",
    "\n",
    "        # close connection\n",
    "        conn.close()\n",
    "        \n",
    "        return output\n",
    "    \n",
    "    # for PRAGMA or SELECT queries: print each row of output\n",
    "    query_lo = query.lower()\n",
    "    if query_lo.startswith((\"pragma\", \"select\")):\n",
    "        for row in output:\n",
    "            print(row)\n",
    "    # for INSERT or UPDATE queries: save changes\n",
    "    elif query_lo.startswith((\"insert\", \"update\")):\n",
    "        conn.commit()\n",
    "\n",
    "    # close connection\n",
    "    conn.close()\n",
    "\n",
    "# show schema of \"nominations\" table\n",
    "query = \"PRAGMA table_info(nominations)\"\n",
    "runSqlite(query)"
   ]
  },
  {
   "cell_type": "markdown",
   "metadata": {},
   "source": [
    "Following are first 10 rows of `nominations` table."
   ]
  },
  {
   "cell_type": "code",
   "execution_count": 2,
   "metadata": {},
   "outputs": [
    {
     "name": "stdout",
     "output_type": "stream",
     "text": [
      "(2010, 'Actor -- Leading Role', 'Javier Bardem', 0, 'Biutiful', 'Uxbal')\n",
      "(2010, 'Actor -- Leading Role', 'Jeff Bridges', 0, 'True Grit', 'Rooster Cogburn')\n",
      "(2010, 'Actor -- Leading Role', 'Jesse Eisenberg', 0, 'The Social Network', 'Mark Zuckerberg')\n",
      "(2010, 'Actor -- Leading Role', 'Colin Firth', 1, \"The King's Speech\", 'King George VI')\n",
      "(2010, 'Actor -- Leading Role', 'James Franco', 0, '127 Hours', 'Aron Ralston')\n",
      "(2010, 'Actor -- Supporting Role', 'Christian Bale', 1, 'The Fighter', 'Dicky Eklund')\n",
      "(2010, 'Actor -- Supporting Role', 'John Hawkes', 0, \"Winter's Bone\", 'Teardrop')\n",
      "(2010, 'Actor -- Supporting Role', 'Jeremy Renner', 0, 'The Town', 'James Coughlin')\n",
      "(2010, 'Actor -- Supporting Role', 'Mark Ruffalo', 0, 'The Kids Are All Right', 'Paul')\n",
      "(2010, 'Actor -- Supporting Role', 'Geoffrey Rush', 0, \"The King's Speech\", 'Lionel Logue')\n"
     ]
    }
   ],
   "source": [
    "# 2. show top 10 rows\n",
    "query = \"SELECT * FROM nominations LIMIT 10\"\n",
    "runSqlite(query)"
   ]
  },
  {
   "cell_type": "markdown",
   "metadata": {},
   "source": [
    "# 2. Demonstrate one-to-many relationship between tables\n",
    "\n",
    "`nominations` will be the \"many\" and `ceremonies` one. The latter will be created now.\n",
    "\n",
    "# 2.1. Create `ceremonies` table.\n",
    "\n",
    "`ceremonies` table will be added to `nominations.db`. It will include three columns.\n",
    "\n",
    "* `id` - Unique identifier for each row\n",
    "* `Year` - Year of ceremony\n",
    "* `Host` - Host of ceremony\n",
    "\n",
    "Data for this table is from https://en.wikipedia.org/wiki/List_of_Academy_Awards_ceremonies#Ceremonies. There were two hosts in 2010 ceremony, but only one will be kept for simplicity.\n",
    "\n",
    "Now, `ceremonies` table will be created and its schema displayed."
   ]
  },
  {
   "cell_type": "code",
   "execution_count": 3,
   "metadata": {},
   "outputs": [
    {
     "name": "stdout",
     "output_type": "stream",
     "text": [
      "(0, 'id', 'INTEGER', 0, None, 1)\n",
      "(1, 'Year', 'INTEGER', 0, None, 0)\n",
      "(2, 'Host', 'TEXT', 0, None, 0)\n"
     ]
    }
   ],
   "source": [
    "# years and hosts\n",
    "years_hosts = [(2010, \"Steve Martin\"),\n",
    "               (2009, \"Hugh Jackman\"),\n",
    "               (2008, \"Jon Stewart\"),\n",
    "               (2007, \"Ellen DeGeneres\"),\n",
    "               (2006, \"Jon Stewart\"),\n",
    "               (2005, \"Chris Rock\"),\n",
    "               (2004, \"Billy Crystal\"),\n",
    "               (2003, \"Steve Martin\"),\n",
    "               (2002, \"Whoopi Goldberg\"),\n",
    "               (2001, \"Steve Martin\")\n",
    "              ]\n",
    "\n",
    "# remove \"ceremonies\" table (if existing from previous run)\n",
    "query = \"DROP TABLE IF EXISTS ceremonies\"\n",
    "runSqlite(query)\n",
    "\n",
    "# create \"ceremonies\" table\n",
    "query = \\\n",
    "\"CREATE TABLE ceremonies(\\\n",
    "    id INTEGER PRIMARY KEY, \\\n",
    "    Year INTEGER, \\\n",
    "    Host TEXT)\"\n",
    "\n",
    "runSqlite(query)\n",
    "\n",
    "# display schema of \"ceremonies\" table\n",
    "query = \"PRAGMA table_info(ceremonies)\"\n",
    "runSqlite(query)"
   ]
  },
  {
   "cell_type": "markdown",
   "metadata": {},
   "source": [
    "The `ceremonies` table will be filled and its first 10 rows displayed below."
   ]
  },
  {
   "cell_type": "code",
   "execution_count": 4,
   "metadata": {},
   "outputs": [
    {
     "name": "stdout",
     "output_type": "stream",
     "text": [
      "(1, 2010, 'Steve Martin')\n",
      "(2, 2009, 'Hugh Jackman')\n",
      "(3, 2008, 'Jon Stewart')\n",
      "(4, 2007, 'Ellen DeGeneres')\n",
      "(5, 2006, 'Jon Stewart')\n",
      "(6, 2005, 'Chris Rock')\n",
      "(7, 2004, 'Billy Crystal')\n",
      "(8, 2003, 'Steve Martin')\n",
      "(9, 2002, 'Whoopi Goldberg')\n",
      "(10, 2001, 'Steve Martin')\n"
     ]
    }
   ],
   "source": [
    "# fill \"ceremonies\" table\n",
    "query = \"INSERT INTO ceremonies (Year, Host) VALUES(?, ?)\"\n",
    "runSqlite(query, inputList=years_hosts)\n",
    "\n",
    "query = \"SELECT * FROM ceremonies LIMIT 10\"\n",
    "runSqlite(query)"
   ]
  },
  {
   "cell_type": "markdown",
   "metadata": {},
   "source": [
    "## 2.2. Setting up one-to-many\n",
    "\n",
    "Next thing to do is to replace `Year` column in `nominations` table with a new column `ceremony_id`. The `ceremony_id` will be used as a foreign key linked to `id` of `ceremonies` table.\n",
    "\n",
    "As SQLite does not allow deleting columns, the following will be done instead.\n",
    "\n",
    "* Create a new table `nominations_two` which will be a copy of `nominations` with `ceremony_id` column added.\n",
    "* Remove `nominations` table.\n",
    "* Rename `nominations_two` table as `nominations`.\n",
    "\n",
    "So, `nominations_two` is created below and its schema displayed."
   ]
  },
  {
   "cell_type": "markdown",
   "metadata": {},
   "source": [
    "<a name=\"one_to_many\"></a>"
   ]
  },
  {
   "cell_type": "code",
   "execution_count": 5,
   "metadata": {},
   "outputs": [
    {
     "name": "stdout",
     "output_type": "stream",
     "text": [
      "(0, 'id', 'INTEGER', 0, None, 1)\n",
      "(1, 'category', 'TEXT', 0, None, 0)\n",
      "(2, 'nominee', 'TEXT', 0, None, 0)\n",
      "(3, 'movie', 'TEXT', 0, None, 0)\n",
      "(4, 'character', 'TEXT', 0, None, 0)\n",
      "(5, 'won', 'INTEGER', 0, None, 0)\n",
      "(6, 'ceremony_id', 'INTEGER', 0, None, 0)\n"
     ]
    }
   ],
   "source": [
    "# create \"nominations_two\" table\n",
    "query = \\\n",
    "\"CREATE TABLE IF NOT EXISTS nominations_two(\\\n",
    "    id INTEGER PRIMARY KEY, \\\n",
    "    category TEXT, \\\n",
    "    nominee TEXT, \\\n",
    "    movie TEXT, \\\n",
    "    character TEXT, \\\n",
    "    won INTEGER, \\\n",
    "    ceremony_id INTEGER, \\\n",
    "        FOREIGN KEY (ceremony_id) \\\n",
    "            REFERENCES ceremonies(id))\"\n",
    "\n",
    "runSqlite(query)\n",
    "\n",
    "# show schema of \"nominations_two\"\n",
    "query = \"PRAGMA table_info(nominations_two)\"\n",
    "runSqlite(query)"
   ]
  },
  {
   "cell_type": "markdown",
   "metadata": {},
   "source": [
    "Next, `nominations_two` gets filled and its first 10 rows gets displayed."
   ]
  },
  {
   "cell_type": "code",
   "execution_count": 6,
   "metadata": {},
   "outputs": [
    {
     "name": "stdout",
     "output_type": "stream",
     "text": [
      "(1, 'Actor -- Leading Role', 'Javier Bardem', 'Biutiful', 'Uxbal', 0, 1)\n",
      "(2, 'Actor -- Leading Role', 'Jeff Bridges', 'True Grit', 'Rooster Cogburn', 0, 1)\n",
      "(3, 'Actor -- Leading Role', 'Jesse Eisenberg', 'The Social Network', 'Mark Zuckerberg', 0, 1)\n",
      "(4, 'Actor -- Leading Role', 'Colin Firth', \"The King's Speech\", 'King George VI', 1, 1)\n",
      "(5, 'Actor -- Leading Role', 'James Franco', '127 Hours', 'Aron Ralston', 0, 1)\n",
      "(6, 'Actor -- Supporting Role', 'Christian Bale', 'The Fighter', 'Dicky Eklund', 1, 1)\n",
      "(7, 'Actor -- Supporting Role', 'John Hawkes', \"Winter's Bone\", 'Teardrop', 0, 1)\n",
      "(8, 'Actor -- Supporting Role', 'Jeremy Renner', 'The Town', 'James Coughlin', 0, 1)\n",
      "(9, 'Actor -- Supporting Role', 'Mark Ruffalo', 'The Kids Are All Right', 'Paul', 0, 1)\n",
      "(10, 'Actor -- Supporting Role', 'Geoffrey Rush', \"The King's Speech\", 'Lionel Logue', 0, 1)\n"
     ]
    }
   ],
   "source": [
    "# get all columns of \"nominations\" table and \n",
    "# \"id\" column of \"ceremonies\" table\n",
    "query = \\\n",
    "\"SELECT nominations.Category, \\\n",
    "        nominations.Nominee, \\\n",
    "        nominations.Movie, \\\n",
    "        nominations.Character, \\\n",
    "        nominations.Won, \\\n",
    "        ceremonies.id \\\n",
    "FROM nominations \\\n",
    "INNER JOIN ceremonies \\\n",
    "    ON nominations.Year == ceremonies.Year\"\n",
    "\n",
    "joined_nominations = runSqlite(query, returnOutput=True)\n",
    "\n",
    "# insert the output into \"nominations_two\" table\n",
    "query = \\\n",
    "\"INSERT INTO nominations_two \\\n",
    "    (category, nominee, movie, character, won, ceremony_id) \\\n",
    "    VALUES(?, ?, ?, ?, ?, ?)\"\n",
    "\n",
    "runSqlite(query, inputList=joined_nominations, foreignKey=True)\n",
    "\n",
    "# display first 10 rows.\n",
    "query = \"SELECT * FROM nominations_two LIMIT 10\"\n",
    "runSqlite(query)"
   ]
  },
  {
   "cell_type": "markdown",
   "metadata": {},
   "source": [
    "The old `nominations` will be removed. Then, `nominations_two` will be renamed as `nominations`. Finally, I will verify the outcome by displaying details of all tables in the database."
   ]
  },
  {
   "cell_type": "code",
   "execution_count": 7,
   "metadata": {},
   "outputs": [
    {
     "name": "stdout",
     "output_type": "stream",
     "text": [
      "('table', 'ceremonies', 'ceremonies', 7, 'CREATE TABLE ceremonies(    id INTEGER PRIMARY KEY,     Year INTEGER,     Host TEXT)')\n",
      "('table', 'nominations', 'nominations', 8, 'CREATE TABLE \"nominations\"(    id INTEGER PRIMARY KEY,     category TEXT,     nominee TEXT,     movie TEXT,     character TEXT,     won INTEGER,     ceremony_id INTEGER,         FOREIGN KEY (ceremony_id)             REFERENCES ceremonies(id))')\n"
     ]
    }
   ],
   "source": [
    "# remove \"nominations\" table\n",
    "query = \"DROP TABLE nominations\"\n",
    "runSqlite(query)\n",
    "\n",
    "# rename \"nominations_two\" table as \"nominations\"\n",
    "query = \\\n",
    "\"ALTER TABLE nominations_two \\\n",
    "RENAME TO nominations\"\n",
    "\n",
    "runSqlite(query)\n",
    "\n",
    "# verify the renaming - list of table details\n",
    "query = \"SELECT * FROM sqlite_master WHERE type='table'\"\n",
    "runSqlite(query)"
   ]
  },
  {
   "cell_type": "markdown",
   "metadata": {},
   "source": [
    "# 3. Demonstrate many-to-many relationship between tables\n",
    "\n",
    "I will create two tables first, named as `movies` and `actors`. Each will contain `movie` and `nominee` columns, respectively, from the `nominations` table. Then, I will create a `join table` to link the two in many-to-many relationship.\n",
    "\n",
    "First, `movies` table will be created and filled. Its first 10 rows will be displayed."
   ]
  },
  {
   "cell_type": "code",
   "execution_count": 8,
   "metadata": {},
   "outputs": [
    {
     "name": "stdout",
     "output_type": "stream",
     "text": [
      "(1, 'Biutiful')\n",
      "(2, 'True Grit')\n",
      "(3, 'The Social Network')\n",
      "(4, \"The King's Speech\")\n",
      "(5, '127 Hours')\n",
      "(6, 'The Fighter')\n",
      "(7, \"Winter's Bone\")\n",
      "(8, 'The Town')\n",
      "(9, 'The Kids Are All Right')\n",
      "(10, 'Rabbit Hole')\n"
     ]
    }
   ],
   "source": [
    "# create \"movies\" table\n",
    "query = \\\n",
    "\"CREATE TABLE IF NOT EXISTS movies (\\\n",
    "    id INTEGER PRIMARY KEY, \\\n",
    "    movie TEXT)\"\n",
    "\n",
    "runSqlite(query)\n",
    "\n",
    "# fill table with \"movie\" column of \"nominations\" table\n",
    "query = \\\n",
    "\"INSERT INTO movies (movie) \\\n",
    "    SELECT DISTINCT movie FROM nominations\"\n",
    "\n",
    "runSqlite(query)\n",
    "\n",
    "# display first 10 rows of \"movies\" table\n",
    "query = \"SELECT * FROM movies LIMIT 10\"\n",
    "runSqlite(query)"
   ]
  },
  {
   "cell_type": "markdown",
   "metadata": {},
   "source": [
    "The same will be done for the `actors` table."
   ]
  },
  {
   "cell_type": "code",
   "execution_count": 9,
   "metadata": {},
   "outputs": [
    {
     "name": "stdout",
     "output_type": "stream",
     "text": [
      "(1, 'Javier Bardem')\n",
      "(2, 'Jeff Bridges')\n",
      "(3, 'Jesse Eisenberg')\n",
      "(4, 'Colin Firth')\n",
      "(5, 'James Franco')\n",
      "(6, 'Christian Bale')\n",
      "(7, 'John Hawkes')\n",
      "(8, 'Jeremy Renner')\n",
      "(9, 'Mark Ruffalo')\n",
      "(10, 'Geoffrey Rush')\n"
     ]
    }
   ],
   "source": [
    "# create \"actors\" table\n",
    "query = \\\n",
    "\"CREATE TABLE IF NOT EXISTS actors (\\\n",
    "    id INTEGER PRIMARY KEY, \\\n",
    "    actor TEXT)\"\n",
    "\n",
    "runSqlite(query)\n",
    "\n",
    "# fill table with \"movie\" column of \"nominations\" table\n",
    "query = \\\n",
    "\"INSERT INTO actors (actor) \\\n",
    "    SELECT DISTINCT nominee FROM nominations\"\n",
    "\n",
    "runSqlite(query)\n",
    "\n",
    "# display first 10 rows of \"movies\" table\n",
    "query = \"SELECT * FROM actors LIMIT 10\"\n",
    "runSqlite(query)"
   ]
  },
  {
   "cell_type": "markdown",
   "metadata": {},
   "source": [
    "Finally, the `join table` will be created and filled. Then, its first 10 rows will be displayed."
   ]
  },
  {
   "cell_type": "markdown",
   "metadata": {},
   "source": [
    "<a name=\"join_table\"></a>"
   ]
  },
  {
   "cell_type": "code",
   "execution_count": 10,
   "metadata": {},
   "outputs": [
    {
     "name": "stdout",
     "output_type": "stream",
     "text": [
      "(1, 1, 1)\n",
      "(2, 2, 2)\n",
      "(3, 3, 3)\n",
      "(4, 4, 4)\n",
      "(5, 5, 5)\n",
      "(6, 6, 6)\n",
      "(7, 7, 7)\n",
      "(8, 8, 8)\n",
      "(9, 9, 9)\n",
      "(10, 4, 10)\n"
     ]
    }
   ],
   "source": [
    "# 1. create join table \"movies_actors\"\n",
    "query = \\\n",
    "\"CREATE TABLE IF NOT EXISTS movies_actors (\\\n",
    "    id INTEGER PRIMARY KEY, \\\n",
    "    movie_id INTEGER REFERENCES movies(id), \\\n",
    "    actor_id INTEGER REFERENCES actors(id))\"\n",
    "\n",
    "runSqlite(query)\n",
    "\n",
    "# 2. fill join table\n",
    "\n",
    "# 2.1. get movies and nominees from \"nominations\" table\n",
    "query = \\\n",
    "\"SELECT Movie, Nominee \\\n",
    "FROM nominations\"\n",
    "\n",
    "movies_nominees = runSqlite(query, returnOutput=True)\n",
    "\n",
    "# 2.2. fill join table with the movies and nominees (i.e. actors)\n",
    "query = \\\n",
    "\"INSERT INTO movies_actors (movie_id, actor_id) \\\n",
    "    VALUES(\\\n",
    "        (SELECT id FROM movies WHERE movie == ?), \\\n",
    "        (SELECT id FROM actors WHERE actor == ?))\"\n",
    "\n",
    "runSqlite(query, inputList=movies_nominees, foreignKey=True)\n",
    "\n",
    "# 3. display first 10 rows of join table\n",
    "query = \"SELECT * FROM movies_actors LIMIT 10\"\n",
    "runSqlite(query)"
   ]
  },
  {
   "cell_type": "markdown",
   "metadata": {},
   "source": [
    "# 6. Next steps\n",
    "\n",
    "Following questions are asked by DataQuest as further steps. My answers are provided for each question.\n",
    "\n",
    "## What other datasets can we add to the database?\n",
    "\n",
    "Demographics (e.g. age, gender) of nominees could be added in a separate table `demographics`. Then, a one-to-many relationship can be established (`demographics` as \"one\" and `nominations` as \"many\").\n",
    "\n",
    "## Based on what you know, brainstorm how you would populate the join table and the linked tables using data from `nominations`.\n",
    "\n",
    "These have been carried out above ([one-to-many](#one_to_many) and [many-to-many (join table)](#join_table)) - for many-to-many relationship, I referred to DataQuest's solution (go [here](https://github.com/dataquestio/solutions/blob/master/Mission216Solutions.ipynb) and see last section (\"Populating a join table\")).\n",
    "\n",
    "For both cases, following were done.\n",
    "\n",
    "* Relevant columns were extracted from `nominations`. The output was saved as a list of tuples. Let's refer to this as `output` for convenience.\n",
    "* Then, an INSERT query was built with a place holder for per column, which would be iteratively filled with each row of `output`.\n",
    "* Lastly, the query was executed with `sqlite3`'s [`executemany`](https://docs.python.org/3/library/sqlite3.html#sqlite3.Cursor.executemany) method."
   ]
  }
 ],
 "metadata": {
  "kernelspec": {
   "display_name": "Python 3",
   "language": "python",
   "name": "python3"
  },
  "language_info": {
   "codemirror_mode": {
    "name": "ipython",
    "version": 3
   },
   "file_extension": ".py",
   "mimetype": "text/x-python",
   "name": "python",
   "nbconvert_exporter": "python",
   "pygments_lexer": "ipython3",
   "version": "3.6.4"
  }
 },
 "nbformat": 4,
 "nbformat_minor": 2
}
