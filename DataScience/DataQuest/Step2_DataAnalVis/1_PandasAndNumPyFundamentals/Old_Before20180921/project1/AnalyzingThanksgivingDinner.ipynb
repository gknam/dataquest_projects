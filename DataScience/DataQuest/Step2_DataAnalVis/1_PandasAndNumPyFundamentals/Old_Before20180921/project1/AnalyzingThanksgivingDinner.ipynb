{
 "cells": [
  {
   "cell_type": "markdown",
   "metadata": {},
   "source": [
    "<h1 id=\"tocheading\">Table of Contents</h1>\n",
    "<br />\n",
    "<div id=\"toc\"><ul class=\"toc\"><li><a href=\"#1.-Read-in-data\">1. Read in data</a><a class=\"anchor-link\" href=\"#1.-Read-in-data\">¶</a></li><li><a href=\"#2.-Display-column-names-for-an-overview\">2. Display column names for an overview</a><a class=\"anchor-link\" href=\"#2.-Display-column-names-for-an-overview\">¶</a></li><li><a href=\"#3.-Exclude-respondents-who-do-not-celebrate-thanksgiving\">3. Exclude respondents who do not celebrate thanksgiving</a><a class=\"anchor-link\" href=\"#3.-Exclude-respondents-who-do-not-celebrate-thanksgiving\">¶</a></li><li><a href=\"#4.-Find-main-dishes-eaten-for-thanksgiving\">4. Find main dishes eaten for thanksgiving</a><a class=\"anchor-link\" href=\"#4.-Find-main-dishes-eaten-for-thanksgiving\">¶</a></li><ul class=\"toc\"><li><a href=\"#4.1.-Overview\">4.1. Overview</a><a class=\"anchor-link\" href=\"#4.1.-Overview\">¶</a></li><li><a href=\"#4.2.-Food-eaten-with-gravy\">4.2. Food eaten with gravy</a><a class=\"anchor-link\" href=\"#4.2.-Food-eaten-with-gravy\">¶</a></li><ul class=\"toc\"><li><a href=\"#4.2.1.-Tofurkey\">4.2.1. Tofurkey</a><a class=\"anchor-link\" href=\"#4.2.1.-Tofurkey\">¶</a></li><li><a href=\"#4.2.2.-Roast-beef\">4.2.2. Roast beef</a><a class=\"anchor-link\" href=\"#4.2.2.-Roast-beef\">¶</a></li></ul></ul><li><a href=\"#5.-Find-main-desserts-eaten-for-thanksgiving\">5. Find main desserts eaten for thanksgiving</a><a class=\"anchor-link\" href=\"#5.-Find-main-desserts-eaten-for-thanksgiving\">¶</a></li><li><a href=\"#6.-Distributions-of-respondents\">6. Distributions of respondents</a><a class=\"anchor-link\" href=\"#6.-Distributions-of-respondents\">¶</a></li><ul class=\"toc\"><li><a href=\"#6.1.-Age\">6.1. Age</a><a class=\"anchor-link\" href=\"#6.1.-Age\">¶</a></li><li><a href=\"#6.2.-Income\">6.2. Income</a><a class=\"anchor-link\" href=\"#6.2.-Income\">¶</a></li></ul><li><a href=\"#7.-Question:-Are-people-with-higher-income-more-likely-to-have-thanksgiving-at-home?\">7. Question: Are people with higher income more likely to have thanksgiving at home?</a><a class=\"anchor-link\" href=\"#7.-Question:-Are-people-with-higher-income-more-likely-to-have-thanksgiving-at-home?\">¶</a></li><li><a href=\"#8.-Question:-Are-younger-people-more-likely-to-have-thanksgiving-with-friends?\">8. Question: Are younger people more likely to have thanksgiving with friends?</a><a class=\"anchor-link\" href=\"#8.-Question:-Are-younger-people-more-likely-to-have-thanksgiving-with-friends?\">¶</a></li><li><a href=\"#9.-Quesiton:-Are-lower-earning-people-more-likely-to-have-thanksgiving-with-friends?\">9. Quesiton: Are lower-earning people more likely to have thanksgiving with friends?</a><a class=\"anchor-link\" href=\"#9.-Quesiton:-Are-lower-earning-people-more-likely-to-have-thanksgiving-with-friends?\">¶</a></li><li><a href=\"#10.-Additional-questions\">10. Additional questions</a><a class=\"anchor-link\" href=\"#10.-Additional-questions\">¶</a></li><ul class=\"toc\"><li><a href=\"#10.1.-How-popular-is-each-type-of-dessert?\">10.1. How popular is each type of dessert?</a><a class=\"anchor-link\" href=\"#10.1.-How-popular-is-each-type-of-dessert?\">¶</a></li><li><a href=\"#10.2.-Identify-how-many-people-work-on-Black-Friday.\">10.2. Identify how many people work on Black Friday.</a><a class=\"anchor-link\" href=\"#10.2.-Identify-how-many-people-work-on-Black-Friday.\">¶</a></li><li><a href=\"#10.3.-Find-regional-patterns-in-main-dish.\">10.3. Find regional patterns in main dish.</a><a class=\"anchor-link\" href=\"#10.3.-Find-regional-patterns-in-main-dish.\">¶</a></li><li><a href=\"#10.4.-Find-age,-gender,-and-income-based-patterns-in-dinner-menus.\">10.4. Find age, gender, and income based patterns in dinner menus.</a><a class=\"anchor-link\" href=\"#10.4.-Find-age,-gender,-and-income-based-patterns-in-dinner-menus.\">¶</a></li><ul class=\"toc\"><li><a href=\"#10.4.1.-Age\">10.4.1. Age</a><a class=\"anchor-link\" href=\"#10.4.1.-Age\">¶</a></li><li><a href=\"#10.4.2.-Gender\">10.4.2. Gender</a><a class=\"anchor-link\" href=\"#10.4.2.-Gender\">¶</a></li><li><a href=\"#10.4.3.-Income\">10.4.3. Income</a><a class=\"anchor-link\" href=\"#10.4.3.-Income\">¶</a></li></ul></ul></ul></div>"
   ]
  },
  {
   "cell_type": "markdown",
   "metadata": {},
   "source": [
    "Project guide: https://www.dataquest.io/m/219/guided-project%3A-analyzing-thanksgiving-dinner\n",
    "\n",
    "Solution by DataQuest: https://github.com/dataquestio/solutions/blob/master/Mission219Solution.ipynb\n",
    "\n",
    "This is a guided project by DataQuest intended to provide a chance to practise using **pandas** library. I will explore a data on what Americans eat during thanksgiving.\n",
    "\n",
    "The dataset is from [here](https://github.com/fivethirtyeight/data/tree/master/thanksgiving-2015). The data was collected via SurveyMonkey poll, from 1,058 respondents on 17 November 2015.\n",
    "\n",
    "Note that this project is exploratory, and uses only descriptive statistics. That is, any suggestions or ideas are not statistically sound.\n",
    "\n",
    "# 1. Read in data"
   ]
  },
  {
   "cell_type": "code",
   "execution_count": 1,
   "metadata": {},
   "outputs": [
    {
     "name": "stdout",
     "output_type": "stream",
     "text": [
      "Number of respondents: 1058\n"
     ]
    },
    {
     "data": {
      "text/html": [
       "<div>\n",
       "<style scoped>\n",
       "    .dataframe tbody tr th:only-of-type {\n",
       "        vertical-align: middle;\n",
       "    }\n",
       "\n",
       "    .dataframe tbody tr th {\n",
       "        vertical-align: top;\n",
       "    }\n",
       "\n",
       "    .dataframe thead th {\n",
       "        text-align: right;\n",
       "    }\n",
       "</style>\n",
       "<table border=\"1\" class=\"dataframe\">\n",
       "  <thead>\n",
       "    <tr style=\"text-align: right;\">\n",
       "      <th></th>\n",
       "      <th>RespondentID</th>\n",
       "      <th>Do you celebrate Thanksgiving?</th>\n",
       "      <th>What is typically the main dish at your Thanksgiving dinner?</th>\n",
       "      <th>What is typically the main dish at your Thanksgiving dinner? - Other (please specify)</th>\n",
       "      <th>How is the main dish typically cooked?</th>\n",
       "      <th>How is the main dish typically cooked? - Other (please specify)</th>\n",
       "      <th>What kind of stuffing/dressing do you typically have?</th>\n",
       "      <th>What kind of stuffing/dressing do you typically have? - Other (please specify)</th>\n",
       "      <th>What type of cranberry saucedo you typically have?</th>\n",
       "      <th>What type of cranberry saucedo you typically have? - Other (please specify)</th>\n",
       "      <th>...</th>\n",
       "      <th>Have you ever tried to meet up with hometown friends on Thanksgiving night?</th>\n",
       "      <th>Have you ever attended a \"Friendsgiving?\"</th>\n",
       "      <th>Will you shop any Black Friday sales on Thanksgiving Day?</th>\n",
       "      <th>Do you work in retail?</th>\n",
       "      <th>Will you employer make you work on Black Friday?</th>\n",
       "      <th>How would you describe where you live?</th>\n",
       "      <th>Age</th>\n",
       "      <th>What is your gender?</th>\n",
       "      <th>How much total combined money did all members of your HOUSEHOLD earn last year?</th>\n",
       "      <th>US Region</th>\n",
       "    </tr>\n",
       "  </thead>\n",
       "  <tbody>\n",
       "    <tr>\n",
       "      <th>0</th>\n",
       "      <td>4337954960</td>\n",
       "      <td>Yes</td>\n",
       "      <td>Turkey</td>\n",
       "      <td>NaN</td>\n",
       "      <td>Baked</td>\n",
       "      <td>NaN</td>\n",
       "      <td>Bread-based</td>\n",
       "      <td>NaN</td>\n",
       "      <td>None</td>\n",
       "      <td>NaN</td>\n",
       "      <td>...</td>\n",
       "      <td>Yes</td>\n",
       "      <td>No</td>\n",
       "      <td>No</td>\n",
       "      <td>No</td>\n",
       "      <td>NaN</td>\n",
       "      <td>Suburban</td>\n",
       "      <td>18 - 29</td>\n",
       "      <td>Male</td>\n",
       "      <td>$75,000 to $99,999</td>\n",
       "      <td>Middle Atlantic</td>\n",
       "    </tr>\n",
       "    <tr>\n",
       "      <th>1</th>\n",
       "      <td>4337951949</td>\n",
       "      <td>Yes</td>\n",
       "      <td>Turkey</td>\n",
       "      <td>NaN</td>\n",
       "      <td>Baked</td>\n",
       "      <td>NaN</td>\n",
       "      <td>Bread-based</td>\n",
       "      <td>NaN</td>\n",
       "      <td>Other (please specify)</td>\n",
       "      <td>Homemade cranberry gelatin ring</td>\n",
       "      <td>...</td>\n",
       "      <td>No</td>\n",
       "      <td>No</td>\n",
       "      <td>Yes</td>\n",
       "      <td>No</td>\n",
       "      <td>NaN</td>\n",
       "      <td>Rural</td>\n",
       "      <td>18 - 29</td>\n",
       "      <td>Female</td>\n",
       "      <td>$50,000 to $74,999</td>\n",
       "      <td>East South Central</td>\n",
       "    </tr>\n",
       "    <tr>\n",
       "      <th>2</th>\n",
       "      <td>4337935621</td>\n",
       "      <td>Yes</td>\n",
       "      <td>Turkey</td>\n",
       "      <td>NaN</td>\n",
       "      <td>Roasted</td>\n",
       "      <td>NaN</td>\n",
       "      <td>Rice-based</td>\n",
       "      <td>NaN</td>\n",
       "      <td>Homemade</td>\n",
       "      <td>NaN</td>\n",
       "      <td>...</td>\n",
       "      <td>Yes</td>\n",
       "      <td>Yes</td>\n",
       "      <td>Yes</td>\n",
       "      <td>No</td>\n",
       "      <td>NaN</td>\n",
       "      <td>Suburban</td>\n",
       "      <td>18 - 29</td>\n",
       "      <td>Male</td>\n",
       "      <td>$0 to $9,999</td>\n",
       "      <td>Mountain</td>\n",
       "    </tr>\n",
       "    <tr>\n",
       "      <th>3</th>\n",
       "      <td>4337933040</td>\n",
       "      <td>Yes</td>\n",
       "      <td>Turkey</td>\n",
       "      <td>NaN</td>\n",
       "      <td>Baked</td>\n",
       "      <td>NaN</td>\n",
       "      <td>Bread-based</td>\n",
       "      <td>NaN</td>\n",
       "      <td>Homemade</td>\n",
       "      <td>NaN</td>\n",
       "      <td>...</td>\n",
       "      <td>Yes</td>\n",
       "      <td>No</td>\n",
       "      <td>No</td>\n",
       "      <td>No</td>\n",
       "      <td>NaN</td>\n",
       "      <td>Urban</td>\n",
       "      <td>30 - 44</td>\n",
       "      <td>Male</td>\n",
       "      <td>$200,000 and up</td>\n",
       "      <td>Pacific</td>\n",
       "    </tr>\n",
       "    <tr>\n",
       "      <th>4</th>\n",
       "      <td>4337931983</td>\n",
       "      <td>Yes</td>\n",
       "      <td>Tofurkey</td>\n",
       "      <td>NaN</td>\n",
       "      <td>Baked</td>\n",
       "      <td>NaN</td>\n",
       "      <td>Bread-based</td>\n",
       "      <td>NaN</td>\n",
       "      <td>Canned</td>\n",
       "      <td>NaN</td>\n",
       "      <td>...</td>\n",
       "      <td>Yes</td>\n",
       "      <td>No</td>\n",
       "      <td>No</td>\n",
       "      <td>No</td>\n",
       "      <td>NaN</td>\n",
       "      <td>Urban</td>\n",
       "      <td>30 - 44</td>\n",
       "      <td>Male</td>\n",
       "      <td>$100,000 to $124,999</td>\n",
       "      <td>Pacific</td>\n",
       "    </tr>\n",
       "  </tbody>\n",
       "</table>\n",
       "<p>5 rows × 65 columns</p>\n",
       "</div>"
      ],
      "text/plain": [
       "   RespondentID Do you celebrate Thanksgiving?  \\\n",
       "0    4337954960                            Yes   \n",
       "1    4337951949                            Yes   \n",
       "2    4337935621                            Yes   \n",
       "3    4337933040                            Yes   \n",
       "4    4337931983                            Yes   \n",
       "\n",
       "  What is typically the main dish at your Thanksgiving dinner?  \\\n",
       "0                                             Turkey             \n",
       "1                                             Turkey             \n",
       "2                                             Turkey             \n",
       "3                                             Turkey             \n",
       "4                                           Tofurkey             \n",
       "\n",
       "  What is typically the main dish at your Thanksgiving dinner? - Other (please specify)  \\\n",
       "0                                                NaN                                      \n",
       "1                                                NaN                                      \n",
       "2                                                NaN                                      \n",
       "3                                                NaN                                      \n",
       "4                                                NaN                                      \n",
       "\n",
       "  How is the main dish typically cooked?  \\\n",
       "0                                  Baked   \n",
       "1                                  Baked   \n",
       "2                                Roasted   \n",
       "3                                  Baked   \n",
       "4                                  Baked   \n",
       "\n",
       "  How is the main dish typically cooked? - Other (please specify)  \\\n",
       "0                                                NaN                \n",
       "1                                                NaN                \n",
       "2                                                NaN                \n",
       "3                                                NaN                \n",
       "4                                                NaN                \n",
       "\n",
       "  What kind of stuffing/dressing do you typically have?  \\\n",
       "0                                        Bread-based      \n",
       "1                                        Bread-based      \n",
       "2                                         Rice-based      \n",
       "3                                        Bread-based      \n",
       "4                                        Bread-based      \n",
       "\n",
       "  What kind of stuffing/dressing do you typically have? - Other (please specify)  \\\n",
       "0                                                NaN                               \n",
       "1                                                NaN                               \n",
       "2                                                NaN                               \n",
       "3                                                NaN                               \n",
       "4                                                NaN                               \n",
       "\n",
       "  What type of cranberry saucedo you typically have?  \\\n",
       "0                                               None   \n",
       "1                             Other (please specify)   \n",
       "2                                           Homemade   \n",
       "3                                           Homemade   \n",
       "4                                             Canned   \n",
       "\n",
       "  What type of cranberry saucedo you typically have? - Other (please specify)  \\\n",
       "0                                                NaN                            \n",
       "1                    Homemade cranberry gelatin ring                            \n",
       "2                                                NaN                            \n",
       "3                                                NaN                            \n",
       "4                                                NaN                            \n",
       "\n",
       "   ...  \\\n",
       "0  ...   \n",
       "1  ...   \n",
       "2  ...   \n",
       "3  ...   \n",
       "4  ...   \n",
       "\n",
       "  Have you ever tried to meet up with hometown friends on Thanksgiving night?  \\\n",
       "0                                                Yes                            \n",
       "1                                                 No                            \n",
       "2                                                Yes                            \n",
       "3                                                Yes                            \n",
       "4                                                Yes                            \n",
       "\n",
       "  Have you ever attended a \"Friendsgiving?\"  \\\n",
       "0                                        No   \n",
       "1                                        No   \n",
       "2                                       Yes   \n",
       "3                                        No   \n",
       "4                                        No   \n",
       "\n",
       "  Will you shop any Black Friday sales on Thanksgiving Day?  \\\n",
       "0                                                 No          \n",
       "1                                                Yes          \n",
       "2                                                Yes          \n",
       "3                                                 No          \n",
       "4                                                 No          \n",
       "\n",
       "  Do you work in retail? Will you employer make you work on Black Friday?  \\\n",
       "0                     No                                              NaN   \n",
       "1                     No                                              NaN   \n",
       "2                     No                                              NaN   \n",
       "3                     No                                              NaN   \n",
       "4                     No                                              NaN   \n",
       "\n",
       "  How would you describe where you live?      Age What is your gender?  \\\n",
       "0                               Suburban  18 - 29                 Male   \n",
       "1                                  Rural  18 - 29               Female   \n",
       "2                               Suburban  18 - 29                 Male   \n",
       "3                                  Urban  30 - 44                 Male   \n",
       "4                                  Urban  30 - 44                 Male   \n",
       "\n",
       "  How much total combined money did all members of your HOUSEHOLD earn last year?  \\\n",
       "0                                 $75,000 to $99,999                                \n",
       "1                                 $50,000 to $74,999                                \n",
       "2                                       $0 to $9,999                                \n",
       "3                                    $200,000 and up                                \n",
       "4                               $100,000 to $124,999                                \n",
       "\n",
       "            US Region  \n",
       "0     Middle Atlantic  \n",
       "1  East South Central  \n",
       "2            Mountain  \n",
       "3             Pacific  \n",
       "4             Pacific  \n",
       "\n",
       "[5 rows x 65 columns]"
      ]
     },
     "execution_count": 1,
     "metadata": {},
     "output_type": "execute_result"
    }
   ],
   "source": [
    "import pandas as pd\n",
    "import numpy as np\n",
    "from IPython.display import display # for printing DataFrame in format (source http://bit.ly/2yRC0cz)\n",
    "from numbers import Number\n",
    "\n",
    "%matplotlib inline\n",
    "\n",
    "data = pd.read_csv(\"thanksgiving-2015-poll-data.csv\", encoding=\"Latin-1\")\n",
    "print(\"Number of respondents: \" + str(len(data)))\n",
    "\n",
    "# display first five rows\n",
    "data[:5]"
   ]
  },
  {
   "cell_type": "markdown",
   "metadata": {},
   "source": [
    "# 2. Display column names for an overview"
   ]
  },
  {
   "cell_type": "code",
   "execution_count": 2,
   "metadata": {
    "scrolled": true
   },
   "outputs": [
    {
     "data": {
      "text/plain": [
       "['RespondentID',\n",
       " 'Do you celebrate Thanksgiving?',\n",
       " 'What is typically the main dish at your Thanksgiving dinner?',\n",
       " 'What is typically the main dish at your Thanksgiving dinner? - Other (please specify)',\n",
       " 'How is the main dish typically cooked?',\n",
       " 'How is the main dish typically cooked? - Other (please specify)',\n",
       " 'What kind of stuffing/dressing do you typically have?',\n",
       " 'What kind of stuffing/dressing do you typically have? - Other (please specify)',\n",
       " 'What type of cranberry saucedo you typically have?',\n",
       " 'What type of cranberry saucedo you typically have? - Other (please specify)',\n",
       " 'Do you typically have gravy?',\n",
       " 'Which of these side dishes aretypically served at your Thanksgiving dinner? Please select all that apply. - Brussel sprouts',\n",
       " 'Which of these side dishes aretypically served at your Thanksgiving dinner? Please select all that apply. - Carrots',\n",
       " 'Which of these side dishes aretypically served at your Thanksgiving dinner? Please select all that apply. - Cauliflower',\n",
       " 'Which of these side dishes aretypically served at your Thanksgiving dinner? Please select all that apply. - Corn',\n",
       " 'Which of these side dishes aretypically served at your Thanksgiving dinner? Please select all that apply. - Cornbread',\n",
       " 'Which of these side dishes aretypically served at your Thanksgiving dinner? Please select all that apply. - Fruit salad',\n",
       " 'Which of these side dishes aretypically served at your Thanksgiving dinner? Please select all that apply. - Green beans/green bean casserole',\n",
       " 'Which of these side dishes aretypically served at your Thanksgiving dinner? Please select all that apply. - Macaroni and cheese',\n",
       " 'Which of these side dishes aretypically served at your Thanksgiving dinner? Please select all that apply. - Mashed potatoes',\n",
       " 'Which of these side dishes aretypically served at your Thanksgiving dinner? Please select all that apply. - Rolls/biscuits',\n",
       " 'Which of these side dishes aretypically served at your Thanksgiving dinner? Please select all that apply. - Squash',\n",
       " 'Which of these side dishes aretypically served at your Thanksgiving dinner? Please select all that apply. - Vegetable salad',\n",
       " 'Which of these side dishes aretypically served at your Thanksgiving dinner? Please select all that apply. - Yams/sweet potato casserole',\n",
       " 'Which of these side dishes aretypically served at your Thanksgiving dinner? Please select all that apply. - Other (please specify)',\n",
       " 'Which of these side dishes aretypically served at your Thanksgiving dinner? Please select all that apply. - Other (please specify).1',\n",
       " 'Which type of pie is typically served at your Thanksgiving dinner? Please select all that apply. - Apple',\n",
       " 'Which type of pie is typically served at your Thanksgiving dinner? Please select all that apply. - Buttermilk',\n",
       " 'Which type of pie is typically served at your Thanksgiving dinner? Please select all that apply. - Cherry',\n",
       " 'Which type of pie is typically served at your Thanksgiving dinner? Please select all that apply. - Chocolate',\n",
       " 'Which type of pie is typically served at your Thanksgiving dinner? Please select all that apply. - Coconut cream',\n",
       " 'Which type of pie is typically served at your Thanksgiving dinner? Please select all that apply. - Key lime',\n",
       " 'Which type of pie is typically served at your Thanksgiving dinner? Please select all that apply. - Peach',\n",
       " 'Which type of pie is typically served at your Thanksgiving dinner? Please select all that apply. - Pecan',\n",
       " 'Which type of pie is typically served at your Thanksgiving dinner? Please select all that apply. - Pumpkin',\n",
       " 'Which type of pie is typically served at your Thanksgiving dinner? Please select all that apply. - Sweet Potato',\n",
       " 'Which type of pie is typically served at your Thanksgiving dinner? Please select all that apply. - None',\n",
       " 'Which type of pie is typically served at your Thanksgiving dinner? Please select all that apply. - Other (please specify)',\n",
       " 'Which type of pie is typically served at your Thanksgiving dinner? Please select all that apply. - Other (please specify).1',\n",
       " 'Which of these desserts do you typically have at Thanksgiving dinner? Please select all that apply.   - Apple cobbler',\n",
       " 'Which of these desserts do you typically have at Thanksgiving dinner? Please select all that apply.   - Blondies',\n",
       " 'Which of these desserts do you typically have at Thanksgiving dinner? Please select all that apply.   - Brownies',\n",
       " 'Which of these desserts do you typically have at Thanksgiving dinner? Please select all that apply.   - Carrot cake',\n",
       " 'Which of these desserts do you typically have at Thanksgiving dinner? Please select all that apply.   - Cheesecake',\n",
       " 'Which of these desserts do you typically have at Thanksgiving dinner? Please select all that apply.   - Cookies',\n",
       " 'Which of these desserts do you typically have at Thanksgiving dinner? Please select all that apply.   - Fudge',\n",
       " 'Which of these desserts do you typically have at Thanksgiving dinner? Please select all that apply.   - Ice cream',\n",
       " 'Which of these desserts do you typically have at Thanksgiving dinner? Please select all that apply.   - Peach cobbler',\n",
       " 'Which of these desserts do you typically have at Thanksgiving dinner? Please select all that apply.   - None',\n",
       " 'Which of these desserts do you typically have at Thanksgiving dinner? Please select all that apply.   - Other (please specify)',\n",
       " 'Which of these desserts do you typically have at Thanksgiving dinner? Please select all that apply.   - Other (please specify).1',\n",
       " 'Do you typically pray before or after the Thanksgiving meal?',\n",
       " 'How far will you travel for Thanksgiving?',\n",
       " \"Will you watch any of the following programs on Thanksgiving? Please select all that apply. - Macy's Parade\",\n",
       " 'What\\'s the age cutoff at your \"kids\\' table\" at Thanksgiving?',\n",
       " 'Have you ever tried to meet up with hometown friends on Thanksgiving night?',\n",
       " 'Have you ever attended a \"Friendsgiving?\"',\n",
       " 'Will you shop any Black Friday sales on Thanksgiving Day?',\n",
       " 'Do you work in retail?',\n",
       " 'Will you employer make you work on Black Friday?',\n",
       " 'How would you describe where you live?',\n",
       " 'Age',\n",
       " 'What is your gender?',\n",
       " 'How much total combined money did all members of your HOUSEHOLD earn last year?',\n",
       " 'US Region']"
      ]
     },
     "execution_count": 2,
     "metadata": {},
     "output_type": "execute_result"
    }
   ],
   "source": [
    "data.columns.tolist()"
   ]
  },
  {
   "cell_type": "markdown",
   "metadata": {},
   "source": [
    "# 3. Exclude respondents who do not celebrate thanksgiving"
   ]
  },
  {
   "cell_type": "code",
   "execution_count": 3,
   "metadata": {},
   "outputs": [
    {
     "name": "stdout",
     "output_type": "stream",
     "text": [
      "Number of respondents celebrating thanksgiving: 980\n"
     ]
    }
   ],
   "source": [
    "# remove individuals from data if their response to \"Do you celebrate Thanksgiving?\" is not a \"Yes\".\n",
    "cInd = \"Do you celebrate Thanksgiving?\"\n",
    "data[cInd].value_counts()\n",
    "data = data[data[cInd] == \"Yes\"]\n",
    "print(\"Number of respondents celebrating thanksgiving: \" + str(len(data)))\n",
    "\n",
    "# this can also be done differently (source https://stackoverflow.com/a/27360130/7194743)\n",
    "#data.drop(data[data[\"Do you celebrate Thanksgiving?\"] != \"Yes\"].index)\n",
    "#print(\"Number of respondents celebrating thanksgiving: \" + str(len(data)))"
   ]
  },
  {
   "cell_type": "markdown",
   "metadata": {},
   "source": [
    "# 4. Find main dishes eaten for thanksgiving"
   ]
  },
  {
   "cell_type": "markdown",
   "metadata": {},
   "source": [
    "## 4.1. Overview"
   ]
  },
  {
   "cell_type": "code",
   "execution_count": 4,
   "metadata": {},
   "outputs": [
    {
     "name": "stdout",
     "output_type": "stream",
     "text": [
      "Turkey                    859\n",
      "Other (please specify)     35\n",
      "Ham/Pork                   29\n",
      "Tofurkey                   20\n",
      "Chicken                    12\n",
      "Roast beef                 11\n",
      "I don't know                5\n",
      "Turducken                   3\n",
      "Name: What is typically the main dish at your Thanksgiving dinner?, dtype: int64\n"
     ]
    },
    {
     "data": {
      "text/plain": [
       "<matplotlib.axes._subplots.AxesSubplot at 0x7f663e2cb8d0>"
      ]
     },
     "execution_count": 4,
     "metadata": {},
     "output_type": "execute_result"
    },
    {
     "data": {
      "image/png": "[encoded data removed]",
      "text/plain": [
       "<Figure size 432x288 with 1 Axes>"
      ]
     },
     "metadata": {
      "needs_background": "light"
     },
     "output_type": "display_data"
    }
   ],
   "source": [
    "main_dish_q = \"What is typically the main dish at your Thanksgiving dinner?\"\n",
    "\n",
    "main_dish_counts = data[main_dish_q].value_counts()\n",
    "print(main_dish_counts)\n",
    "\n",
    "main_dish_counts.sort_values().plot(kind=\"bar\")"
   ]
  },
  {
   "cell_type": "markdown",
   "metadata": {},
   "source": [
    "It looks like Turkey is undoubtedly the most consumed dish during the thanksgiving."
   ]
  },
  {
   "cell_type": "markdown",
   "metadata": {},
   "source": [
    "## 4.2. Food eaten with gravy"
   ]
  },
  {
   "cell_type": "markdown",
   "metadata": {},
   "source": [
    "Was turkey eaten with gravy?"
   ]
  },
  {
   "cell_type": "code",
   "execution_count": 5,
   "metadata": {},
   "outputs": [
    {
     "name": "stdout",
     "output_type": "stream",
     "text": [
      "Yes    814\n",
      "No      45\n",
      "Name: Do you typically have gravy?, dtype: int64\n"
     ]
    },
    {
     "data": {
      "text/plain": [
       "<matplotlib.axes._subplots.AxesSubplot at 0x7f663dfb3080>"
      ]
     },
     "execution_count": 5,
     "metadata": {},
     "output_type": "execute_result"
    },
    {
     "data": {
      "image/png": "[encoded data removed]",
      "text/plain": [
       "<Figure size 432x288 with 1 Axes>"
      ]
     },
     "metadata": {
      "needs_background": "light"
     },
     "output_type": "display_data"
    }
   ],
   "source": [
    "sub_dish_q = \"Do you typically have gravy?\"\n",
    "\n",
    "def findCombination(main_dish_q, sub_dish_q, dish):\n",
    "    \"\"\"\n",
    "    main_dish_q finds people eaten during thanksgiving.\n",
    "    sub_dish_q finds numbers of people eathing the dish a subdish\n",
    "    \"\"\"\n",
    "    dish_eaters = data[data[main_dish_q] == dish]\n",
    "\n",
    "    dish_eaters_withSubDish = dish_eaters[sub_dish_q]\n",
    "    \n",
    "    return dish_eaters_withSubDish.value_counts()\n",
    "\n",
    "turkey = findCombination(main_dish_q, sub_dish_q, \"Turkey\")\n",
    "print(turkey)\n",
    "turkey.plot(kind=\"bar\")"
   ]
  },
  {
   "cell_type": "markdown",
   "metadata": {},
   "source": [
    "Yes! Turkey was served with gravy for most of the people.\n",
    "\n",
    "What about others on the menu?\n",
    "\n",
    "Let's check Tofurkey and Roast beef.\n",
    "\n",
    "### 4.2.1. Tofurkey"
   ]
  },
  {
   "cell_type": "code",
   "execution_count": 6,
   "metadata": {},
   "outputs": [
    {
     "name": "stdout",
     "output_type": "stream",
     "text": [
      "Yes    12\n",
      "No      8\n",
      "Name: Do you typically have gravy?, dtype: int64\n"
     ]
    },
    {
     "data": {
      "text/plain": [
       "<matplotlib.axes._subplots.AxesSubplot at 0x7f663df5c4a8>"
      ]
     },
     "execution_count": 6,
     "metadata": {},
     "output_type": "execute_result"
    },
    {
     "data": {
      "image/png": "[encoded data removed]",
      "text/plain": [
       "<Figure size 432x288 with 1 Axes>"
      ]
     },
     "metadata": {
      "needs_background": "light"
     },
     "output_type": "display_data"
    }
   ],
   "source": [
    "\n",
    "def findCombination(main_dish_q, sub_dish_q, dish):\n",
    "    \"\"\"\n",
    "    main_dish_q finds people eaten during thanksgiving.\n",
    "    sub_dish_q finds numbers of people eathing the dish a subdish\n",
    "    \"\"\"\n",
    "    dish_eaters = data[data[main_dish_q] == dish]\n",
    "\n",
    "    dish_eaters_withSubDish = dish_eaters[sub_dish_q]\n",
    "    \n",
    "    return dish_eaters_withSubDish.value_counts()\n",
    " \n",
    "tofurkey = findCombination(main_dish_q, sub_dish_q, \"Tofurkey\")\n",
    "print(tofurkey)\n",
    "tofurkey.plot(kind=\"bar\")"
   ]
  },
  {
   "cell_type": "markdown",
   "metadata": {},
   "source": [
    "### 4.2.2. Roast beef"
   ]
  },
  {
   "cell_type": "code",
   "execution_count": 7,
   "metadata": {},
   "outputs": [
    {
     "name": "stdout",
     "output_type": "stream",
     "text": [
      "Yes    7\n",
      "No     4\n",
      "Name: Do you typically have gravy?, dtype: int64\n"
     ]
    },
    {
     "data": {
      "text/plain": [
       "<matplotlib.axes._subplots.AxesSubplot at 0x7f663df32518>"
      ]
     },
     "execution_count": 7,
     "metadata": {},
     "output_type": "execute_result"
    },
    {
     "data": {
      "image/png": "[encoded data removed]",
      "text/plain": [
       "<Figure size 432x288 with 1 Axes>"
      ]
     },
     "metadata": {
      "needs_background": "light"
     },
     "output_type": "display_data"
    }
   ],
   "source": [
    "r_beef = findCombination(main_dish_q, sub_dish_q, \"Roast beef\")\n",
    "print(r_beef)\n",
    "r_beef.plot(kind=\"bar\")"
   ]
  },
  {
   "cell_type": "markdown",
   "metadata": {},
   "source": [
    "Not as much as for Turkey, but gravy was also served with Tofurkey and Roast beef most of the time.\n",
    "\n",
    "Now let's check **desserts**."
   ]
  },
  {
   "cell_type": "markdown",
   "metadata": {},
   "source": [
    "# 5. Find main desserts eaten for thanksgiving"
   ]
  },
  {
   "cell_type": "code",
   "execution_count": 8,
   "metadata": {},
   "outputs": [
    {
     "name": "stdout",
     "output_type": "stream",
     "text": [
      "Ate at least one kind    876\n",
      "Ate none                 104\n",
      "dtype: int64\n"
     ]
    },
    {
     "data": {
      "text/plain": [
       "<matplotlib.axes._subplots.AxesSubplot at 0x7f663de45160>"
      ]
     },
     "execution_count": 8,
     "metadata": {},
     "output_type": "execute_result"
    },
    {
     "data": {
      "image/png": "[encoded data removed]",
      "text/plain": [
       "<Figure size 432x288 with 1 Axes>"
      ]
     },
     "metadata": {
      "needs_background": "light"
     },
     "output_type": "display_data"
    }
   ],
   "source": [
    "# get records for each type of pies\n",
    "app_p = \"Which type of pie is typically served at your Thanksgiving dinner? Please select all that apply. - Apple\"\n",
    "pec_p = \"Which type of pie is typically served at your Thanksgiving dinner? Please select all that apply. - Pecan\"\n",
    "pum_p = \"Which type of pie is typically served at your Thanksgiving dinner? Please select all that apply. - Pumpkin\"\n",
    "\n",
    "# find people who did NOT eat each type of pies\n",
    "apple_isnull = data[app_p].isnull()\n",
    "pecan_isnull = data[pec_p].isnull()\n",
    "pumpkin_isnull = data[pum_p].isnull()\n",
    "\n",
    "# find people who did NOT eat any type of pie\n",
    "ate_pies_not = apple_isnull & pecan_isnull & pumpkin_isnull\n",
    "ate_pies_not[ate_pies_not == False] = \"Ate at least one kind\"\n",
    "ate_pies_not[ate_pies_not == True] = \"Ate none\"\n",
    "\n",
    "ate_pies_not_c = ate_pies_not.value_counts()\n",
    "print(ate_pies_not_c)\n",
    "ate_pies_not_c.plot(kind=\"bar\")"
   ]
  },
  {
   "cell_type": "markdown",
   "metadata": {},
   "source": [
    "So, 876 people ate at least one among apple, pecan and pumpkin pies.\n",
    "\n",
    "Then, how many people ate all of them?"
   ]
  },
  {
   "cell_type": "code",
   "execution_count": 9,
   "metadata": {},
   "outputs": [
    {
     "name": "stdout",
     "output_type": "stream",
     "text": [
      "Did not eat all types    843\n",
      "Ate all types            137\n",
      "dtype: int64\n"
     ]
    },
    {
     "data": {
      "text/plain": [
       "<matplotlib.axes._subplots.AxesSubplot at 0x7f663de077b8>"
      ]
     },
     "execution_count": 9,
     "metadata": {},
     "output_type": "execute_result"
    },
    {
     "data": {
      "image/png": "[encoded data removed]",
      "text/plain": [
       "<Figure size 432x288 with 1 Axes>"
      ]
     },
     "metadata": {
      "needs_background": "light"
     },
     "output_type": "display_data"
    }
   ],
   "source": [
    "# find people who ate all types of pies\n",
    "apple_notnull = (apple_isnull == False)\n",
    "pecan_notnull = (pecan_isnull == False)\n",
    "pumpkin_notnull = (pumpkin_isnull == False)\n",
    "\n",
    "ate_allpies = apple_notnull & pecan_notnull & pumpkin_notnull\n",
    "ate_allpies[ate_allpies == False] = \"Did not eat all types\"\n",
    "ate_allpies[ate_allpies == True] = \"Ate all types\"\n",
    "\n",
    "ate_allpies_c = ate_allpies.value_counts()\n",
    "print(ate_allpies_c)\n",
    "ate_allpies_c.plot(kind=\"bar\")"
   ]
  },
  {
   "cell_type": "markdown",
   "metadata": {},
   "source": [
    "Only 137 people ate all three types of pies."
   ]
  },
  {
   "cell_type": "markdown",
   "metadata": {},
   "source": [
    "# 6. Distributions of respondents\n",
    "\n",
    "Now, let's find a bit about our respondents.\n",
    "\n",
    "How about the age distribution? Are they old? Young?\n",
    "\n",
    "## 6.1. Age\n",
    "\n",
    "So, how is the age data stored?"
   ]
  },
  {
   "cell_type": "code",
   "execution_count": 10,
   "metadata": {
    "scrolled": true
   },
   "outputs": [
    {
     "name": "stdout",
     "output_type": "stream",
     "text": [
      "['18 - 29' '30 - 44' '60+' '45 - 59' nan]\n"
     ]
    }
   ],
   "source": [
    "# show age groups in the data\n",
    "print(data[\"Age\"].unique())"
   ]
  },
  {
   "cell_type": "markdown",
   "metadata": {},
   "source": [
    "Well, ages are stored categorically, so they can be only approximated. For consistency, I will use the lower bound in each group (i.e. 18, 30, 45 and 60)."
   ]
  },
  {
   "cell_type": "code",
   "execution_count": 11,
   "metadata": {},
   "outputs": [
    {
     "data": {
      "text/plain": [
       "count    947.000000\n",
       "mean      40.089757\n",
       "std       15.352014\n",
       "min       18.000000\n",
       "25%       30.000000\n",
       "50%       45.000000\n",
       "75%       60.000000\n",
       "max       60.000000\n",
       "Name: int_age, dtype: float64"
      ]
     },
     "execution_count": 11,
     "metadata": {},
     "output_type": "execute_result"
    }
   ],
   "source": [
    "def strToNum(string, bound=\"lower\", delimiter=\" \", outUnit=int, remove=[], ignore=[None]):\n",
    "    \"\"\"\n",
    "    Extract number-like characters from string and convert them to integer.\n",
    "    \n",
    "    string: string to process\n",
    "    bound: This is either \"lower\" or \"upper\", for when string yields two values representing range.\n",
    "    delimiter: character to split string by\n",
    "    outUnit: units to convert strings to\n",
    "    remove1 and 2: list of characters to remove\n",
    "    ignore: return None if string matches this\n",
    "    \"\"\"\n",
    "    \n",
    "    # handle NULL values\n",
    "    if pd.isnull(string) or (string == ignore):\n",
    "        return None\n",
    "\n",
    "    # remove characters\n",
    "    for char in remove:\n",
    "        string = string.replace(char, \"\")\n",
    "    \n",
    "    # get first or last groups of characters\n",
    "    if bound == \"lower\":\n",
    "        output = outUnit(string.split(delimiter)[0])\n",
    "    elif bound == \"upper\":\n",
    "        upper = string.split(delimiter)[-1]\n",
    "        if upper:\n",
    "            output = outUnit(upper)\n",
    "        else:\n",
    "            return None\n",
    "    \n",
    "    # convert output to integer and return it\n",
    "    return output\n",
    "\n",
    "# get descriptive statistics for age, using lower bound of each age group\n",
    "int_age = data[\"Age\"].apply(lambda x: strToNum(x, remove=[\"+\"]))\n",
    "data[\"int_age\"] = int_age\n",
    "data[\"int_age\"].describe()"
   ]
  },
  {
   "cell_type": "markdown",
   "metadata": {},
   "source": [
    "The mean age is around 40. The median age (45) is greater than the mean, so the distribution is skewed to the left.\n",
    "\n",
    "This probably reflects that we took the lower bound from each age group. Let's check if this is true, by using an upper bound this time."
   ]
  },
  {
   "cell_type": "code",
   "execution_count": 12,
   "metadata": {
    "scrolled": true
   },
   "outputs": [
    {
     "data": {
      "text/plain": [
       "mean    49.689546\n",
       "50%     59.000000\n",
       "Name: Age, dtype: float64"
      ]
     },
     "execution_count": 12,
     "metadata": {},
     "output_type": "execute_result"
    }
   ],
   "source": [
    "# use upper bound of age groups to get descriptive statistics\n",
    "data[\"Age\"].apply(lambda x: strToNum(x, bound=\"upper\", remove=[\"+\"])).describe()[[\"mean\", \"50%\"]]"
   ]
  },
  {
   "cell_type": "markdown",
   "metadata": {},
   "source": [
    "Oh, no. Picking the upper bound still resulted in greater median than the mean.\n",
    "\n",
    "Does this mean the age distribution is truly skewed to the left? Unfortunately, I will not be able to answer that because I cannot access the upper bound of '60+' group.\n",
    "\n",
    "\n",
    "## 6.2. Income\n",
    "So, how about income distrubition? Shall we have a look?"
   ]
  },
  {
   "cell_type": "code",
   "execution_count": 13,
   "metadata": {},
   "outputs": [
    {
     "name": "stdout",
     "output_type": "stream",
     "text": [
      "['$75,000 to $99,999' '$50,000 to $74,999' '$0 to $9,999'\n",
      " '$200,000 and up' '$100,000 to $124,999' '$25,000 to $49,999'\n",
      " 'Prefer not to answer' '$10,000 to $24,999' '$175,000 to $199,999'\n",
      " '$150,000 to $174,999' '$125,000 to $149,999' nan]\n"
     ]
    }
   ],
   "source": [
    "# show income groups in the data\n",
    "column = \"How much total combined money did all members of your HOUSEHOLD earn last year?\"\n",
    "print(data[column].unique())"
   ]
  },
  {
   "cell_type": "markdown",
   "metadata": {},
   "source": [
    "OK, it's categorical data again. So, I'll use the lower bound this time as well."
   ]
  },
  {
   "cell_type": "code",
   "execution_count": 14,
   "metadata": {
    "scrolled": true
   },
   "outputs": [
    {
     "data": {
      "text/plain": [
       "count       829.000000\n",
       "mean      75965.018094\n",
       "std       59068.636748\n",
       "min           0.000000\n",
       "25%       25000.000000\n",
       "50%       75000.000000\n",
       "75%      100000.000000\n",
       "max      200000.000000\n",
       "Name: How much total combined money did all members of your HOUSEHOLD earn last year?, dtype: float64"
      ]
     },
     "execution_count": 14,
     "metadata": {},
     "output_type": "execute_result"
    }
   ],
   "source": [
    "# get descriptive statistics for income, using lower bound of each income group\n",
    "int_income = data[column].apply(lambda x: strToNum(x, outUnit=float, \\\n",
    "                               remove=[\"$\", \",\", \"and\", \"up\"], ignore=\"Prefer not to answer\"))\n",
    "data[\"int_income\"] = int_income\n",
    "int_income.describe()"
   ]
  },
  {
   "cell_type": "markdown",
   "metadata": {},
   "source": [
    "Wow, the huge standard deviation shows that there is a lot of variance in the data.\n",
    "\n",
    "On the other hand, the median and mean is very close, making it close to a normal distribution. Let's see what happens if we use upper bound of each income class."
   ]
  },
  {
   "cell_type": "code",
   "execution_count": 15,
   "metadata": {
    "scrolled": true
   },
   "outputs": [
    {
     "data": {
      "text/plain": [
       "count       753.000000\n",
       "mean      86612.545817\n",
       "std       48652.241615\n",
       "min        9999.000000\n",
       "25%       49999.000000\n",
       "50%       74999.000000\n",
       "75%      124999.000000\n",
       "max      199999.000000\n",
       "Name: How much total combined money did all members of your HOUSEHOLD earn last year?, dtype: float64"
      ]
     },
     "execution_count": 15,
     "metadata": {},
     "output_type": "execute_result"
    }
   ],
   "source": [
    "# use upper bound of income groups to get descriptive statistics\n",
    "data[column].apply(lambda x: strToNum(x, bound=\"upper\", outUnit=float, \\\n",
    "                  remove=[\"$\", \",\", \"and\", \"up\"], ignore=\"Prefer not to answer\")).describe()"
   ]
  },
  {
   "cell_type": "markdown",
   "metadata": {},
   "source": [
    "Now, that made the right-skewness a lot greater. But, again, the true distribution of income is obscure with the upper bound of the top income group unknown. To be more precise, I will not be able to go beyond making exploratory checks using categorical data."
   ]
  },
  {
   "cell_type": "markdown",
   "metadata": {},
   "source": [
    "# 7. Question: Are people with higher income more likely to have thanksgiving at home?\n",
    "\n",
    "The hypothesis made by DataQuest team is that people earning less money would be younger and travel to their parents' houses (who earn more). Let's see if the data supports the idea.\n",
    "\n",
    "First, how far do people earning less than $150,000 travel?"
   ]
  },
  {
   "cell_type": "code",
   "execution_count": 16,
   "metadata": {},
   "outputs": [
    {
     "name": "stdout",
     "output_type": "stream",
     "text": [
      "Thanksgiving is happening at my home--I won't travel at all                         281\n",
      "Thanksgiving is local--it will take place in the town I live in                     203\n",
      "Thanksgiving is out of town but not too far--it's a drive of a few hours or less    150\n",
      "Thanksgiving is out of town and far away--I have to drive several hours or fly       55\n",
      "Name: How far will you travel for Thanksgiving?, dtype: int64\n"
     ]
    },
    {
     "data": {
      "text/plain": [
       "<matplotlib.axes._subplots.AxesSubplot at 0x7f663dd9ddd8>"
      ]
     },
     "execution_count": 16,
     "metadata": {},
     "output_type": "execute_result"
    },
    {
     "data": {
      "image/png": "[encoded data removed]",
      "text/plain": [
       "<Figure size 432x288 with 1 Axes>"
      ]
     },
     "metadata": {
      "needs_background": "light"
     },
     "output_type": "display_data"
    }
   ],
   "source": [
    "# get travel distances of people earning < $150,000\n",
    "d_lo = data[int_income < 150000][\"How far will you travel for Thanksgiving?\"].value_counts()\n",
    "print(d_lo)\n",
    "d_lo.sort_values().plot(kind=\"bar\")"
   ]
  },
  {
   "cell_type": "markdown",
   "metadata": {},
   "source": [
    "Contrary to the hypothesis, this lower income group tends not to travel so much.\n",
    "\n",
    "What about the higher income group then, earning $150,000 or more?"
   ]
  },
  {
   "cell_type": "code",
   "execution_count": 17,
   "metadata": {},
   "outputs": [
    {
     "name": "stdout",
     "output_type": "stream",
     "text": [
      "Thanksgiving is happening at my home--I won't travel at all                         66\n",
      "Thanksgiving is local--it will take place in the town I live in                     34\n",
      "Thanksgiving is out of town but not too far--it's a drive of a few hours or less    25\n",
      "Thanksgiving is out of town and far away--I have to drive several hours or fly      15\n",
      "Name: How far will you travel for Thanksgiving?, dtype: int64\n"
     ]
    },
    {
     "data": {
      "text/plain": [
       "<matplotlib.axes._subplots.AxesSubplot at 0x7f663dd6c860>"
      ]
     },
     "execution_count": 17,
     "metadata": {},
     "output_type": "execute_result"
    },
    {
     "data": {
      "image/png": "[encoded data removed]",
      "text/plain": [
       "<Figure size 432x288 with 1 Axes>"
      ]
     },
     "metadata": {
      "needs_background": "light"
     },
     "output_type": "display_data"
    }
   ],
   "source": [
    "# get travel distances of people earning >= $150,000\n",
    "d_hi = data[int_income >= 150000][\"How far will you travel for Thanksgiving?\"].value_counts()\n",
    "print(d_hi)\n",
    "d_hi.sort_values().plot(kind=\"bar\")"
   ]
  },
  {
   "cell_type": "markdown",
   "metadata": {},
   "source": [
    "OK, the higher income group does not seem to travel much, either.\n",
    "\n",
    "So, overall, most people appear to have thanksgiving at home or somewhere not far regardless of their income level."
   ]
  },
  {
   "cell_type": "markdown",
   "metadata": {},
   "source": [
    "# 8. Question: Are younger people more likely to have thanksgiving with friends?\n",
    "\n",
    "This is another question proposed by the DataQuest team.\n",
    "\n",
    "Let's check the answers to two questions.\n",
    "\n",
    "*\"Have you ever tried to meet up with hometown friends on Thanksgiving night?\"*\n",
    "\n",
    "*'Have you ever attended a \"Friendsgiving?\"'*"
   ]
  },
  {
   "cell_type": "code",
   "execution_count": 18,
   "metadata": {
    "scrolled": true
   },
   "outputs": [
    {
     "data": {
      "text/html": [
       "<div>\n",
       "<style scoped>\n",
       "    .dataframe tbody tr th:only-of-type {\n",
       "        vertical-align: middle;\n",
       "    }\n",
       "\n",
       "    .dataframe tbody tr th {\n",
       "        vertical-align: top;\n",
       "    }\n",
       "\n",
       "    .dataframe thead th {\n",
       "        text-align: right;\n",
       "    }\n",
       "</style>\n",
       "<table border=\"1\" class=\"dataframe\">\n",
       "  <thead>\n",
       "    <tr style=\"text-align: right;\">\n",
       "      <th>Have you ever attended a \"Friendsgiving?\"</th>\n",
       "      <th>No</th>\n",
       "      <th>Yes</th>\n",
       "    </tr>\n",
       "    <tr>\n",
       "      <th>Have you ever tried to meet up with hometown friends on Thanksgiving night?</th>\n",
       "      <th></th>\n",
       "      <th></th>\n",
       "    </tr>\n",
       "  </thead>\n",
       "  <tbody>\n",
       "    <tr>\n",
       "      <th>No</th>\n",
       "      <td>42.283702</td>\n",
       "      <td>37.010526</td>\n",
       "    </tr>\n",
       "    <tr>\n",
       "      <th>Yes</th>\n",
       "      <td>41.475410</td>\n",
       "      <td>33.976744</td>\n",
       "    </tr>\n",
       "  </tbody>\n",
       "</table>\n",
       "</div>"
      ],
      "text/plain": [
       "Have you ever attended a \"Friendsgiving?\"                  No        Yes\n",
       "Have you ever tried to meet up with hometown fr...                      \n",
       "No                                                  42.283702  37.010526\n",
       "Yes                                                 41.475410  33.976744"
      ]
     },
     "execution_count": 18,
     "metadata": {},
     "output_type": "execute_result"
    }
   ],
   "source": [
    "# average ages of those who spent thanksgiving with friends\n",
    "data.pivot_table(index=\"Have you ever tried to meet up with hometown friends on Thanksgiving night?\", \\\n",
    "                 columns='Have you ever attended a \"Friendsgiving?\"', values=\"int_age\")"
   ]
  },
  {
   "cell_type": "markdown",
   "metadata": {},
   "source": [
    "The overall trend is consistent with the hypothesis.\n",
    "\n",
    "# 9. Quesiton: Are lower-earning people more likely to have thanksgiving with friends?\n",
    "\n",
    "Perhaps this is so, consideing that students generally have more time for friends and also earn less?"
   ]
  },
  {
   "cell_type": "code",
   "execution_count": 19,
   "metadata": {},
   "outputs": [
    {
     "data": {
      "text/html": [
       "<div>\n",
       "<style scoped>\n",
       "    .dataframe tbody tr th:only-of-type {\n",
       "        vertical-align: middle;\n",
       "    }\n",
       "\n",
       "    .dataframe tbody tr th {\n",
       "        vertical-align: top;\n",
       "    }\n",
       "\n",
       "    .dataframe thead th {\n",
       "        text-align: right;\n",
       "    }\n",
       "</style>\n",
       "<table border=\"1\" class=\"dataframe\">\n",
       "  <thead>\n",
       "    <tr style=\"text-align: right;\">\n",
       "      <th>Have you ever attended a \"Friendsgiving?\"</th>\n",
       "      <th>No</th>\n",
       "      <th>Yes</th>\n",
       "    </tr>\n",
       "    <tr>\n",
       "      <th>Have you ever tried to meet up with hometown friends on Thanksgiving night?</th>\n",
       "      <th></th>\n",
       "      <th></th>\n",
       "    </tr>\n",
       "  </thead>\n",
       "  <tbody>\n",
       "    <tr>\n",
       "      <th>No</th>\n",
       "      <td>78914.549654</td>\n",
       "      <td>72894.736842</td>\n",
       "    </tr>\n",
       "    <tr>\n",
       "      <th>Yes</th>\n",
       "      <td>78750.000000</td>\n",
       "      <td>66019.736842</td>\n",
       "    </tr>\n",
       "  </tbody>\n",
       "</table>\n",
       "</div>"
      ],
      "text/plain": [
       "Have you ever attended a \"Friendsgiving?\"                     No           Yes\n",
       "Have you ever tried to meet up with hometown fr...                            \n",
       "No                                                  78914.549654  72894.736842\n",
       "Yes                                                 78750.000000  66019.736842"
      ]
     },
     "execution_count": 19,
     "metadata": {},
     "output_type": "execute_result"
    }
   ],
   "source": [
    "# average income level of those who spent thanks giving with friends\n",
    "data.pivot_table(index=\"Have you ever tried to meet up with hometown friends on Thanksgiving night?\", \\\n",
    "                  columns='Have you ever attended a \"Friendsgiving?\"', values=\"int_income\")"
   ]
  },
  {
   "cell_type": "markdown",
   "metadata": {},
   "source": [
    "Again, the overall trend is consistent with the hypothesis.\n",
    "\n",
    "# 10. Additional questions\n",
    "\n",
    "Following are extra questions posed by DataQuest team, which I slighly modified."
   ]
  },
  {
   "cell_type": "markdown",
   "metadata": {},
   "source": [
    "## 10.1. How popular is each type of dessert?\n",
    "\n",
    "**Note**:\n",
    "Most questions on food and desserts asked about specific item. For example, there were one question asking about carrots, another question about cauliflower, etc.\n",
    "\n",
    "The following column regarding side dishes is being excluded. This is because it received various answers which are hard to extract information from consistently.\n",
    "\n",
    "`Which of these side dishes aretypically served at your Thanksgiving dinner? Please select all that apply. - Other (please specify).1`"
   ]
  },
  {
   "cell_type": "code",
   "execution_count": 20,
   "metadata": {
    "scrolled": false
   },
   "outputs": [
    {
     "name": "stdout",
     "output_type": "stream",
     "text": [
      "None                      295\n",
      "Ice cream                 266\n",
      "Cookies                   204\n",
      "Cheesecake                191\n",
      "Other (please specify)    134\n",
      "Brownies                  128\n",
      "Apple cobbler             110\n",
      "Peach cobbler             103\n",
      "Carrot cake                72\n",
      "Fudge                      43\n",
      "Blondies                   16\n",
      "dtype: int64\n"
     ]
    },
    {
     "data": {
      "text/plain": [
       "<matplotlib.axes._subplots.AxesSubplot at 0x7f663dcdfda0>"
      ]
     },
     "execution_count": 20,
     "metadata": {},
     "output_type": "execute_result"
    },
    {
     "data": {
      "image/png": "[encoded data removed]",
      "text/plain": [
       "<Figure size 432x288 with 1 Axes>"
      ]
     },
     "metadata": {
      "needs_background": "light"
     },
     "output_type": "display_data"
    }
   ],
   "source": [
    "def findMostCommon(data, cHead):\n",
    "    \"\"\"\n",
    "    This function counts the occurrences of values in columns whose name starts nwith cHead.\n",
    "\n",
    "    Returns a dictionary if item counts\n",
    "    (key is name of an item; value is item count)\n",
    "    \n",
    "    data: Data frame object\n",
    "    cHead: string which a column is expected to start with.\n",
    "    \"\"\"\n",
    "    \n",
    "    # 1. get column names containg itemName\n",
    "    item_columns = []\n",
    "    for c in data.columns:\n",
    "\n",
    "        # get all desserts questions\n",
    "        if (c.startswith(cHead)) and (not c.endswith(\".1\")):\n",
    "            item_columns.append(c)\n",
    "\n",
    "    # 2. get counts for all items\n",
    "    i_count_all = {}\n",
    "    for c in item_columns:\n",
    "\n",
    "        # get counts for each item\n",
    "        i_count = dict(data[c].value_counts())\n",
    "\n",
    "        # identify most prevelant item\n",
    "        for item, count in i_count.items():\n",
    "\n",
    "            # add or update item record\n",
    "            if item in i_count_all:\n",
    "                i_count_all[item] += count\n",
    "            else:\n",
    "                i_count_all[item] = count\n",
    "    \n",
    "    return i_count_all\n",
    "    \n",
    "# get counts for each dessert\n",
    "desserts = findMostCommon(data, \"Which of these desserts do you typically have at Thanksgiving dinner? Please select all that apply.\")\n",
    "\n",
    "# display dessert counts in descending order\n",
    "d_series = pd.Series(desserts).sort_values(ascending=False)\n",
    "print(d_series)\n",
    "\n",
    "# plot dessert counts\n",
    "d_series = pd.Series(desserts).sort_values()\n",
    "d_series.plot(kind=\"bar\")"
   ]
  },
  {
   "cell_type": "markdown",
   "metadata": {},
   "source": [
    "Surprisingly, the most common type of dessert was \"None\" (i.e. no dessert was eaten). Perhaps the appetite was down after a big meal?\n",
    "\n",
    "Among those dessert eaters, the most popular one was ice cream, followed by cookies, cheesecake, etc. The least popular one was blondies."
   ]
  },
  {
   "cell_type": "markdown",
   "metadata": {},
   "source": [
    "## 10.2. Identify how many people work on Black Friday."
   ]
  },
  {
   "cell_type": "code",
   "execution_count": 21,
   "metadata": {
    "scrolled": false
   },
   "outputs": [
    {
     "name": "stdout",
     "output_type": "stream",
     "text": [
      "Yes              43\n",
      "No               20\n",
      "Doesn't apply     7\n",
      "Name: Will you employer make you work on Black Friday?, dtype: int64\n"
     ]
    },
    {
     "data": {
      "text/plain": [
       "<matplotlib.axes._subplots.AxesSubplot at 0x7f663dc9f8d0>"
      ]
     },
     "execution_count": 21,
     "metadata": {},
     "output_type": "execute_result"
    },
    {
     "data": {
      "image/png": "[encoded data removed]",
      "text/plain": [
       "<Figure size 432x288 with 1 Axes>"
      ]
     },
     "metadata": {
      "needs_background": "light"
     },
     "output_type": "display_data"
    }
   ],
   "source": [
    "b_work_c = data['Will you employer make you work on Black Friday?'].value_counts()\n",
    "print(b_work_c)\n",
    "b_work_c.plot(kind=\"bar\")"
   ]
  },
  {
   "cell_type": "markdown",
   "metadata": {},
   "source": [
    "Oh, this is sad. Most people had to work on Black Friday.\n",
    "\n",
    "## 10.3. Find regional patterns in main dish."
   ]
  },
  {
   "cell_type": "code",
   "execution_count": 22,
   "metadata": {
    "scrolled": false
   },
   "outputs": [
    {
     "data": {
      "text/html": [
       "<div>\n",
       "<style scoped>\n",
       "    .dataframe tbody tr th:only-of-type {\n",
       "        vertical-align: middle;\n",
       "    }\n",
       "\n",
       "    .dataframe tbody tr th {\n",
       "        vertical-align: top;\n",
       "    }\n",
       "\n",
       "    .dataframe thead th {\n",
       "        text-align: right;\n",
       "    }\n",
       "</style>\n",
       "<table border=\"1\" class=\"dataframe\">\n",
       "  <thead>\n",
       "    <tr style=\"text-align: right;\">\n",
       "      <th></th>\n",
       "      <th>Rural</th>\n",
       "      <th>Suburban</th>\n",
       "      <th>Urban</th>\n",
       "    </tr>\n",
       "    <tr>\n",
       "      <th>What is typically the main dish at your Thanksgiving dinner?</th>\n",
       "      <th></th>\n",
       "      <th></th>\n",
       "      <th></th>\n",
       "    </tr>\n",
       "  </thead>\n",
       "  <tbody>\n",
       "    <tr>\n",
       "      <th>Chicken</th>\n",
       "      <td>2.0</td>\n",
       "      <td>3.0</td>\n",
       "      <td>7.0</td>\n",
       "    </tr>\n",
       "    <tr>\n",
       "      <th>Ham/Pork</th>\n",
       "      <td>7.0</td>\n",
       "      <td>17.0</td>\n",
       "      <td>4.0</td>\n",
       "    </tr>\n",
       "    <tr>\n",
       "      <th>I don't know</th>\n",
       "      <td>3.0</td>\n",
       "      <td>1.0</td>\n",
       "      <td>0.0</td>\n",
       "    </tr>\n",
       "    <tr>\n",
       "      <th>Other (please specify)</th>\n",
       "      <td>9.0</td>\n",
       "      <td>13.0</td>\n",
       "      <td>13.0</td>\n",
       "    </tr>\n",
       "    <tr>\n",
       "      <th>Roast beef</th>\n",
       "      <td>1.0</td>\n",
       "      <td>3.0</td>\n",
       "      <td>6.0</td>\n",
       "    </tr>\n",
       "    <tr>\n",
       "      <th>Tofurkey</th>\n",
       "      <td>3.0</td>\n",
       "      <td>9.0</td>\n",
       "      <td>8.0</td>\n",
       "    </tr>\n",
       "    <tr>\n",
       "      <th>Turducken</th>\n",
       "      <td>2.0</td>\n",
       "      <td>1.0</td>\n",
       "      <td>0.0</td>\n",
       "    </tr>\n",
       "    <tr>\n",
       "      <th>Turkey</th>\n",
       "      <td>189.0</td>\n",
       "      <td>449.0</td>\n",
       "      <td>198.0</td>\n",
       "    </tr>\n",
       "  </tbody>\n",
       "</table>\n",
       "</div>"
      ],
      "text/plain": [
       "                                                    Rural  Suburban  Urban\n",
       "What is typically the main dish at your Thanksg...                        \n",
       "Chicken                                               2.0       3.0    7.0\n",
       "Ham/Pork                                              7.0      17.0    4.0\n",
       "I don't know                                          3.0       1.0    0.0\n",
       "Other (please specify)                                9.0      13.0   13.0\n",
       "Roast beef                                            1.0       3.0    6.0\n",
       "Tofurkey                                              3.0       9.0    8.0\n",
       "Turducken                                             2.0       1.0    0.0\n",
       "Turkey                                              189.0     449.0  198.0"
      ]
     },
     "metadata": {},
     "output_type": "display_data"
    },
    {
     "data": {
      "text/plain": [
       "<matplotlib.axes._subplots.AxesSubplot at 0x7f663dcdf080>"
      ]
     },
     "execution_count": 22,
     "metadata": {},
     "output_type": "execute_result"
    },
    {
     "data": {
      "image/png": "[encoded data removed]",
      "text/plain": [
       "<Figure size 432x288 with 1 Axes>"
      ]
     },
     "metadata": {
      "needs_background": "light"
     },
     "output_type": "display_data"
    }
   ],
   "source": [
    "region_q = \"How would you describe where you live?\"\n",
    "main_dish_q = \"What is typically the main dish at your Thanksgiving dinner?\"\n",
    "\n",
    "# create a column for each region\n",
    "# (e.g. \"region_Urban\" column where 1 means True and 0 means False)\n",
    "\n",
    "def makePivotTable(indexColumn, valuesColumn, aggfunc=np.mean):\n",
    "    \"\"\"\n",
    "    Returns pivot table.\n",
    "    If valuesColumn is not numeric, a new column is created for\n",
    "    each value, where boolean value is stored.\n",
    "    \"\"\"    \n",
    "    # get unique values in valuesColumn\n",
    "    vc_values = data[valuesColumn].dropna()\n",
    "    vc_values_u = vc_values.unique()\n",
    "\n",
    "    # check if valuesColumn contains numeric values.\n",
    "    # otherwise, each value is to be binarised into booleans\n",
    "    # and added as new columns\n",
    "    binAndAdd_valCol = (not isinstance(vc_values.dropna().iloc[0], Number))\n",
    "    \n",
    "    new_vc_list = []\n",
    "    # binarise non-numeric values and add them into new columns\n",
    "    if binAndAdd_valCol:\n",
    "        for val in vc_values_u:\n",
    "            new_vc_label = val\n",
    "            data[new_vc_label] = (data[valuesColumn] == val)\n",
    "            aggfunc = np.sum\n",
    "            new_vc_list.append(new_vc_label)\n",
    "        \n",
    "    # determine \"values\" input for pivot table\n",
    "    # if binarising happened, use the binarised ones\n",
    "    if new_vc_list:\n",
    "        v = new_vc_list\n",
    "    # otherwise, use the original input\n",
    "    else:\n",
    "        v = valuesColumn\n",
    "\n",
    "    # create pivot table\n",
    "    pivot_t = data.pivot_table(index=indexColumn, values=v, aggfunc=aggfunc)\n",
    "    \n",
    "    # if there is only one \"values\" column, sort the pivot table\n",
    "    v_is_str = (type(v) == str)\n",
    "    v_is_list_withOneElement = (type(v) == list) and (len(v) == 1)\n",
    "    if v_is_str or v_is_list_withOneElement:\n",
    "        pivot_t = pivot_t.sort_values(by=valuesColumn)\n",
    "    \n",
    "    return pivot_t\n",
    "\n",
    "regions_dish = makePivotTable(main_dish_q, region_q)\n",
    "\n",
    "# display table \n",
    "display(regions_dish)\n",
    "# display table as plot\n",
    "regions_dish.plot(kind=\"bar\")"
   ]
  },
  {
   "cell_type": "markdown",
   "metadata": {},
   "source": [
    "Turkey was the most popular choice across all regions.\n",
    "\n",
    "The numbers for all the other dishes were so small that there seems to be no point in comparing them. For example, The second most poluar main dish were \"Other\" in urban (n=13) and rural areas (n=9) and \"Ham/Pork\" in suburbs (n=13).\n",
    "\n",
    "## 10.4. Find age, gender, and income based patterns in dinner menus.\n",
    "\n",
    "### 10.4.1. Age"
   ]
  },
  {
   "cell_type": "code",
   "execution_count": 23,
   "metadata": {},
   "outputs": [
    {
     "data": {
      "text/html": [
       "<div>\n",
       "<style scoped>\n",
       "    .dataframe tbody tr th:only-of-type {\n",
       "        vertical-align: middle;\n",
       "    }\n",
       "\n",
       "    .dataframe tbody tr th {\n",
       "        vertical-align: top;\n",
       "    }\n",
       "\n",
       "    .dataframe thead th {\n",
       "        text-align: right;\n",
       "    }\n",
       "</style>\n",
       "<table border=\"1\" class=\"dataframe\">\n",
       "  <thead>\n",
       "    <tr style=\"text-align: right;\">\n",
       "      <th></th>\n",
       "      <th>int_age</th>\n",
       "    </tr>\n",
       "    <tr>\n",
       "      <th>What is typically the main dish at your Thanksgiving dinner?</th>\n",
       "      <th></th>\n",
       "    </tr>\n",
       "  </thead>\n",
       "  <tbody>\n",
       "    <tr>\n",
       "      <th>I don't know</th>\n",
       "      <td>21.000000</td>\n",
       "    </tr>\n",
       "    <tr>\n",
       "      <th>Tofurkey</th>\n",
       "      <td>32.400000</td>\n",
       "    </tr>\n",
       "    <tr>\n",
       "      <th>Ham/Pork</th>\n",
       "      <td>33.857143</td>\n",
       "    </tr>\n",
       "    <tr>\n",
       "      <th>Chicken</th>\n",
       "      <td>39.500000</td>\n",
       "    </tr>\n",
       "    <tr>\n",
       "      <th>Roast beef</th>\n",
       "      <td>39.900000</td>\n",
       "    </tr>\n",
       "    <tr>\n",
       "      <th>Turducken</th>\n",
       "      <td>40.000000</td>\n",
       "    </tr>\n",
       "    <tr>\n",
       "      <th>Turkey</th>\n",
       "      <td>40.462275</td>\n",
       "    </tr>\n",
       "    <tr>\n",
       "      <th>Other (please specify)</th>\n",
       "      <td>43.028571</td>\n",
       "    </tr>\n",
       "  </tbody>\n",
       "</table>\n",
       "</div>"
      ],
      "text/plain": [
       "                                                      int_age\n",
       "What is typically the main dish at your Thanksg...           \n",
       "I don't know                                        21.000000\n",
       "Tofurkey                                            32.400000\n",
       "Ham/Pork                                            33.857143\n",
       "Chicken                                             39.500000\n",
       "Roast beef                                          39.900000\n",
       "Turducken                                           40.000000\n",
       "Turkey                                              40.462275\n",
       "Other (please specify)                              43.028571"
      ]
     },
     "metadata": {},
     "output_type": "display_data"
    },
    {
     "data": {
      "text/plain": [
       "<matplotlib.axes._subplots.AxesSubplot at 0x7f663dbd7438>"
      ]
     },
     "execution_count": 23,
     "metadata": {},
     "output_type": "execute_result"
    },
    {
     "data": {
      "image/png": "[encoded data removed]",
      "text/plain": [
       "<Figure size 432x288 with 1 Axes>"
      ]
     },
     "metadata": {
      "needs_background": "light"
     },
     "output_type": "display_data"
    }
   ],
   "source": [
    "age_dish = makePivotTable(main_dish_q, \"int_age\")\n",
    "\n",
    "# display table \n",
    "display(age_dish)\n",
    "# display table as plot\n",
    "age_dish.plot(kind=\"bar\")"
   ]
  },
  {
   "cell_type": "markdown",
   "metadata": {},
   "source": [
    "The oldest group chose this mistery dish over turkey. Or maybe they just didn't want to say what they had.\n",
    "\n",
    "### 10.4.2. Gender"
   ]
  },
  {
   "cell_type": "code",
   "execution_count": 24,
   "metadata": {},
   "outputs": [
    {
     "data": {
      "text/html": [
       "<div>\n",
       "<style scoped>\n",
       "    .dataframe tbody tr th:only-of-type {\n",
       "        vertical-align: middle;\n",
       "    }\n",
       "\n",
       "    .dataframe tbody tr th {\n",
       "        vertical-align: top;\n",
       "    }\n",
       "\n",
       "    .dataframe thead th {\n",
       "        text-align: right;\n",
       "    }\n",
       "</style>\n",
       "<table border=\"1\" class=\"dataframe\">\n",
       "  <thead>\n",
       "    <tr style=\"text-align: right;\">\n",
       "      <th></th>\n",
       "      <th>Female</th>\n",
       "      <th>Male</th>\n",
       "    </tr>\n",
       "    <tr>\n",
       "      <th>What is typically the main dish at your Thanksgiving dinner?</th>\n",
       "      <th></th>\n",
       "      <th></th>\n",
       "    </tr>\n",
       "  </thead>\n",
       "  <tbody>\n",
       "    <tr>\n",
       "      <th>Chicken</th>\n",
       "      <td>6.0</td>\n",
       "      <td>6.0</td>\n",
       "    </tr>\n",
       "    <tr>\n",
       "      <th>Ham/Pork</th>\n",
       "      <td>15.0</td>\n",
       "      <td>13.0</td>\n",
       "    </tr>\n",
       "    <tr>\n",
       "      <th>I don't know</th>\n",
       "      <td>2.0</td>\n",
       "      <td>2.0</td>\n",
       "    </tr>\n",
       "    <tr>\n",
       "      <th>Other (please specify)</th>\n",
       "      <td>22.0</td>\n",
       "      <td>13.0</td>\n",
       "    </tr>\n",
       "    <tr>\n",
       "      <th>Roast beef</th>\n",
       "      <td>4.0</td>\n",
       "      <td>6.0</td>\n",
       "    </tr>\n",
       "    <tr>\n",
       "      <th>Tofurkey</th>\n",
       "      <td>13.0</td>\n",
       "      <td>7.0</td>\n",
       "    </tr>\n",
       "    <tr>\n",
       "      <th>Turducken</th>\n",
       "      <td>1.0</td>\n",
       "      <td>2.0</td>\n",
       "    </tr>\n",
       "    <tr>\n",
       "      <th>Turkey</th>\n",
       "      <td>452.0</td>\n",
       "      <td>383.0</td>\n",
       "    </tr>\n",
       "  </tbody>\n",
       "</table>\n",
       "</div>"
      ],
      "text/plain": [
       "                                                    Female   Male\n",
       "What is typically the main dish at your Thanksg...               \n",
       "Chicken                                                6.0    6.0\n",
       "Ham/Pork                                              15.0   13.0\n",
       "I don't know                                           2.0    2.0\n",
       "Other (please specify)                                22.0   13.0\n",
       "Roast beef                                             4.0    6.0\n",
       "Tofurkey                                              13.0    7.0\n",
       "Turducken                                              1.0    2.0\n",
       "Turkey                                               452.0  383.0"
      ]
     },
     "metadata": {},
     "output_type": "display_data"
    },
    {
     "data": {
      "text/plain": [
       "<matplotlib.axes._subplots.AxesSubplot at 0x7f663dad3ac8>"
      ]
     },
     "execution_count": 24,
     "metadata": {},
     "output_type": "execute_result"
    },
    {
     "data": {
      "image/png": "[encoded data removed]",
      "text/plain": [
       "<Figure size 432x288 with 1 Axes>"
      ]
     },
     "metadata": {
      "needs_background": "light"
     },
     "output_type": "display_data"
    }
   ],
   "source": [
    "gender_dish = makePivotTable(main_dish_q, \"What is your gender?\")\n",
    "\n",
    "# display table \n",
    "display(gender_dish)\n",
    "# display table as plot\n",
    "gender_dish.plot(kind=\"bar\")"
   ]
  },
  {
   "cell_type": "markdown",
   "metadata": {},
   "source": [
    "Turkey was the most popular dish. It seems pointless to compare gender distributions here because more answers are from females than males.\n",
    "\n",
    "I should probably compare the percentages within each sex. For example, turkey was eaten by x% of females and y% of males. Unfortunately I will not do this due to time constraint.\n",
    "\n",
    "### 10.4.3. Income"
   ]
  },
  {
   "cell_type": "code",
   "execution_count": 25,
   "metadata": {},
   "outputs": [
    {
     "data": {
      "text/html": [
       "<div>\n",
       "<style scoped>\n",
       "    .dataframe tbody tr th:only-of-type {\n",
       "        vertical-align: middle;\n",
       "    }\n",
       "\n",
       "    .dataframe tbody tr th {\n",
       "        vertical-align: top;\n",
       "    }\n",
       "\n",
       "    .dataframe thead th {\n",
       "        text-align: right;\n",
       "    }\n",
       "</style>\n",
       "<table border=\"1\" class=\"dataframe\">\n",
       "  <thead>\n",
       "    <tr style=\"text-align: right;\">\n",
       "      <th></th>\n",
       "      <th>int_income</th>\n",
       "    </tr>\n",
       "    <tr>\n",
       "      <th>What is typically the main dish at your Thanksgiving dinner?</th>\n",
       "      <th></th>\n",
       "    </tr>\n",
       "  </thead>\n",
       "  <tbody>\n",
       "    <tr>\n",
       "      <th>I don't know</th>\n",
       "      <td>16666.666667</td>\n",
       "    </tr>\n",
       "    <tr>\n",
       "      <th>Roast beef</th>\n",
       "      <td>35625.000000</td>\n",
       "    </tr>\n",
       "    <tr>\n",
       "      <th>Chicken</th>\n",
       "      <td>40500.000000</td>\n",
       "    </tr>\n",
       "    <tr>\n",
       "      <th>Ham/Pork</th>\n",
       "      <td>65370.370370</td>\n",
       "    </tr>\n",
       "    <tr>\n",
       "      <th>Tofurkey</th>\n",
       "      <td>73235.294118</td>\n",
       "    </tr>\n",
       "    <tr>\n",
       "      <th>Turkey</th>\n",
       "      <td>77113.543092</td>\n",
       "    </tr>\n",
       "    <tr>\n",
       "      <th>Other (please specify)</th>\n",
       "      <td>79193.548387</td>\n",
       "    </tr>\n",
       "    <tr>\n",
       "      <th>Turducken</th>\n",
       "      <td>200000.000000</td>\n",
       "    </tr>\n",
       "  </tbody>\n",
       "</table>\n",
       "</div>"
      ],
      "text/plain": [
       "                                                       int_income\n",
       "What is typically the main dish at your Thanksg...               \n",
       "I don't know                                         16666.666667\n",
       "Roast beef                                           35625.000000\n",
       "Chicken                                              40500.000000\n",
       "Ham/Pork                                             65370.370370\n",
       "Tofurkey                                             73235.294118\n",
       "Turkey                                               77113.543092\n",
       "Other (please specify)                               79193.548387\n",
       "Turducken                                           200000.000000"
      ]
     },
     "metadata": {},
     "output_type": "display_data"
    },
    {
     "data": {
      "text/plain": [
       "<matplotlib.axes._subplots.AxesSubplot at 0x7f663da4afd0>"
      ]
     },
     "execution_count": 25,
     "metadata": {},
     "output_type": "execute_result"
    },
    {
     "data": {
      "image/png": "[encoded data removed]",
      "text/plain": [
       "<Figure size 432x288 with 1 Axes>"
      ]
     },
     "metadata": {
      "needs_background": "light"
     },
     "output_type": "display_data"
    }
   ],
   "source": [
    "income_dish = makePivotTable(main_dish_q, \"int_income\")\n",
    "\n",
    "# display table \n",
    "display(income_dish)\n",
    "# display table as plot\n",
    "income_dish.plot(kind=\"bar\")"
   ]
  },
  {
   "cell_type": "markdown",
   "metadata": {},
   "source": [
    "The mistery dish appears here again, but more interestingly Turducken came on top. Turducken is apparently a **tur**key containing **du**ck which contains chi**cken**. No wonder the richest people eat this the most."
   ]
  }
 ],
 "metadata": {
  "kernelspec": {
   "display_name": "Python 3",
   "language": "python",
   "name": "python3"
  },
  "language_info": {
   "codemirror_mode": {
    "name": "ipython",
    "version": 3
   },
   "file_extension": ".py",
   "mimetype": "text/x-python",
   "name": "python",
   "nbconvert_exporter": "python",
   "pygments_lexer": "ipython3",
   "version": "3.6.8"
  }
 },
 "nbformat": 4,
 "nbformat_minor": 2
}
