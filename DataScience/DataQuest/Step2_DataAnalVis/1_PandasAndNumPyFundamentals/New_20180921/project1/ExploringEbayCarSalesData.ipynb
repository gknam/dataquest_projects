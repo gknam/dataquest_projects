{
 "cells": [
  {
   "cell_type": "markdown",
   "metadata": {},
   "source": [
    "Project guide: https://www.dataquest.io/m/294/guided-project%3A-exploring-ebay-car-sales-data\n",
    "\n",
    "Solution by DataQuest: https://github.com/dataquestio/solutions/blob/master/Mission294Solutions.ipynb\n",
    "\n",
    "In this project, which is guided by DataQuest, I will clean and analyse the used car sales data from [German eBay website's classifieds* section](https://www.ebay-kleinanzeigen.de/).\n",
    "\n",
    "The dataset is a modified version of the original dataset - DataQuest sampled 50,000 data points out of 370000 and dirtied them. The original dataset and short descriptions of each variable (column in the dataset) are avilable [here](https://www.kaggle.com/orgesleka/used-cars-database/).\n",
    "\n",
    "\n",
    "\\*See https://en.wikipedia.org/wiki/Classified_advertising.\n",
    "\n",
    "# 1. Quick glance at the data"
   ]
  },
  {
   "cell_type": "code",
   "execution_count": 1,
   "metadata": {},
   "outputs": [
    {
     "name": "stdout",
     "output_type": "stream",
     "text": [
      "<class 'pandas.core.frame.DataFrame'>\n",
      "RangeIndex: 50000 entries, 0 to 49999\n",
      "Data columns (total 20 columns):\n",
      "dateCrawled            50000 non-null object\n",
      "name                   50000 non-null object\n",
      "seller                 50000 non-null object\n",
      "offerType              50000 non-null object\n",
      "price                  50000 non-null object\n",
      "abtest                 50000 non-null object\n",
      "vehicleType            44905 non-null object\n",
      "yearOfRegistration     50000 non-null int64\n",
      "gearbox                47320 non-null object\n",
      "powerPS                50000 non-null int64\n",
      "model                  47242 non-null object\n",
      "odometer               50000 non-null object\n",
      "monthOfRegistration    50000 non-null int64\n",
      "fuelType               45518 non-null object\n",
      "brand                  50000 non-null object\n",
      "notRepairedDamage      40171 non-null object\n",
      "dateCreated            50000 non-null object\n",
      "nrOfPictures           50000 non-null int64\n",
      "postalCode             50000 non-null int64\n",
      "lastSeen               50000 non-null object\n",
      "dtypes: int64(5), object(15)\n",
      "memory usage: 7.6+ MB\n",
      "None\n",
      "\n"
     ]
    },
    {
     "data": {
      "text/html": [
       "<div>\n",
       "<style scoped>\n",
       "    .dataframe tbody tr th:only-of-type {\n",
       "        vertical-align: middle;\n",
       "    }\n",
       "\n",
       "    .dataframe tbody tr th {\n",
       "        vertical-align: top;\n",
       "    }\n",
       "\n",
       "    .dataframe thead th {\n",
       "        text-align: right;\n",
       "    }\n",
       "</style>\n",
       "<table border=\"1\" class=\"dataframe\">\n",
       "  <thead>\n",
       "    <tr style=\"text-align: right;\">\n",
       "      <th></th>\n",
       "      <th>dateCrawled</th>\n",
       "      <th>name</th>\n",
       "      <th>seller</th>\n",
       "      <th>offerType</th>\n",
       "      <th>price</th>\n",
       "      <th>abtest</th>\n",
       "      <th>vehicleType</th>\n",
       "      <th>yearOfRegistration</th>\n",
       "      <th>gearbox</th>\n",
       "      <th>powerPS</th>\n",
       "      <th>model</th>\n",
       "      <th>odometer</th>\n",
       "      <th>monthOfRegistration</th>\n",
       "      <th>fuelType</th>\n",
       "      <th>brand</th>\n",
       "      <th>notRepairedDamage</th>\n",
       "      <th>dateCreated</th>\n",
       "      <th>nrOfPictures</th>\n",
       "      <th>postalCode</th>\n",
       "      <th>lastSeen</th>\n",
       "    </tr>\n",
       "  </thead>\n",
       "  <tbody>\n",
       "    <tr>\n",
       "      <th>0</th>\n",
       "      <td>2016-03-26 17:47:46</td>\n",
       "      <td>Peugeot_807_160_NAVTECH_ON_BOARD</td>\n",
       "      <td>privat</td>\n",
       "      <td>Angebot</td>\n",
       "      <td>$5,000</td>\n",
       "      <td>control</td>\n",
       "      <td>bus</td>\n",
       "      <td>2004</td>\n",
       "      <td>manuell</td>\n",
       "      <td>158</td>\n",
       "      <td>andere</td>\n",
       "      <td>150,000km</td>\n",
       "      <td>3</td>\n",
       "      <td>lpg</td>\n",
       "      <td>peugeot</td>\n",
       "      <td>nein</td>\n",
       "      <td>2016-03-26 00:00:00</td>\n",
       "      <td>0</td>\n",
       "      <td>79588</td>\n",
       "      <td>2016-04-06 06:45:54</td>\n",
       "    </tr>\n",
       "    <tr>\n",
       "      <th>1</th>\n",
       "      <td>2016-04-04 13:38:56</td>\n",
       "      <td>BMW_740i_4_4_Liter_HAMANN_UMBAU_Mega_Optik</td>\n",
       "      <td>privat</td>\n",
       "      <td>Angebot</td>\n",
       "      <td>$8,500</td>\n",
       "      <td>control</td>\n",
       "      <td>limousine</td>\n",
       "      <td>1997</td>\n",
       "      <td>automatik</td>\n",
       "      <td>286</td>\n",
       "      <td>7er</td>\n",
       "      <td>150,000km</td>\n",
       "      <td>6</td>\n",
       "      <td>benzin</td>\n",
       "      <td>bmw</td>\n",
       "      <td>nein</td>\n",
       "      <td>2016-04-04 00:00:00</td>\n",
       "      <td>0</td>\n",
       "      <td>71034</td>\n",
       "      <td>2016-04-06 14:45:08</td>\n",
       "    </tr>\n",
       "    <tr>\n",
       "      <th>2</th>\n",
       "      <td>2016-03-26 18:57:24</td>\n",
       "      <td>Volkswagen_Golf_1.6_United</td>\n",
       "      <td>privat</td>\n",
       "      <td>Angebot</td>\n",
       "      <td>$8,990</td>\n",
       "      <td>test</td>\n",
       "      <td>limousine</td>\n",
       "      <td>2009</td>\n",
       "      <td>manuell</td>\n",
       "      <td>102</td>\n",
       "      <td>golf</td>\n",
       "      <td>70,000km</td>\n",
       "      <td>7</td>\n",
       "      <td>benzin</td>\n",
       "      <td>volkswagen</td>\n",
       "      <td>nein</td>\n",
       "      <td>2016-03-26 00:00:00</td>\n",
       "      <td>0</td>\n",
       "      <td>35394</td>\n",
       "      <td>2016-04-06 20:15:37</td>\n",
       "    </tr>\n",
       "    <tr>\n",
       "      <th>3</th>\n",
       "      <td>2016-03-12 16:58:10</td>\n",
       "      <td>Smart_smart_fortwo_coupe_softouch/F1/Klima/Pan...</td>\n",
       "      <td>privat</td>\n",
       "      <td>Angebot</td>\n",
       "      <td>$4,350</td>\n",
       "      <td>control</td>\n",
       "      <td>kleinwagen</td>\n",
       "      <td>2007</td>\n",
       "      <td>automatik</td>\n",
       "      <td>71</td>\n",
       "      <td>fortwo</td>\n",
       "      <td>70,000km</td>\n",
       "      <td>6</td>\n",
       "      <td>benzin</td>\n",
       "      <td>smart</td>\n",
       "      <td>nein</td>\n",
       "      <td>2016-03-12 00:00:00</td>\n",
       "      <td>0</td>\n",
       "      <td>33729</td>\n",
       "      <td>2016-03-15 03:16:28</td>\n",
       "    </tr>\n",
       "    <tr>\n",
       "      <th>4</th>\n",
       "      <td>2016-04-01 14:38:50</td>\n",
       "      <td>Ford_Focus_1_6_Benzin_TÜV_neu_ist_sehr_gepfleg...</td>\n",
       "      <td>privat</td>\n",
       "      <td>Angebot</td>\n",
       "      <td>$1,350</td>\n",
       "      <td>test</td>\n",
       "      <td>kombi</td>\n",
       "      <td>2003</td>\n",
       "      <td>manuell</td>\n",
       "      <td>0</td>\n",
       "      <td>focus</td>\n",
       "      <td>150,000km</td>\n",
       "      <td>7</td>\n",
       "      <td>benzin</td>\n",
       "      <td>ford</td>\n",
       "      <td>nein</td>\n",
       "      <td>2016-04-01 00:00:00</td>\n",
       "      <td>0</td>\n",
       "      <td>39218</td>\n",
       "      <td>2016-04-01 14:38:50</td>\n",
       "    </tr>\n",
       "  </tbody>\n",
       "</table>\n",
       "</div>"
      ],
      "text/plain": [
       "           dateCrawled                                               name  \\\n",
       "0  2016-03-26 17:47:46                   Peugeot_807_160_NAVTECH_ON_BOARD   \n",
       "1  2016-04-04 13:38:56         BMW_740i_4_4_Liter_HAMANN_UMBAU_Mega_Optik   \n",
       "2  2016-03-26 18:57:24                         Volkswagen_Golf_1.6_United   \n",
       "3  2016-03-12 16:58:10  Smart_smart_fortwo_coupe_softouch/F1/Klima/Pan...   \n",
       "4  2016-04-01 14:38:50  Ford_Focus_1_6_Benzin_TÜV_neu_ist_sehr_gepfleg...   \n",
       "\n",
       "   seller offerType   price   abtest vehicleType  yearOfRegistration  \\\n",
       "0  privat   Angebot  $5,000  control         bus                2004   \n",
       "1  privat   Angebot  $8,500  control   limousine                1997   \n",
       "2  privat   Angebot  $8,990     test   limousine                2009   \n",
       "3  privat   Angebot  $4,350  control  kleinwagen                2007   \n",
       "4  privat   Angebot  $1,350     test       kombi                2003   \n",
       "\n",
       "     gearbox  powerPS   model   odometer  monthOfRegistration fuelType  \\\n",
       "0    manuell      158  andere  150,000km                    3      lpg   \n",
       "1  automatik      286     7er  150,000km                    6   benzin   \n",
       "2    manuell      102    golf   70,000km                    7   benzin   \n",
       "3  automatik       71  fortwo   70,000km                    6   benzin   \n",
       "4    manuell        0   focus  150,000km                    7   benzin   \n",
       "\n",
       "        brand notRepairedDamage          dateCreated  nrOfPictures  \\\n",
       "0     peugeot              nein  2016-03-26 00:00:00             0   \n",
       "1         bmw              nein  2016-04-04 00:00:00             0   \n",
       "2  volkswagen              nein  2016-03-26 00:00:00             0   \n",
       "3       smart              nein  2016-03-12 00:00:00             0   \n",
       "4        ford              nein  2016-04-01 00:00:00             0   \n",
       "\n",
       "   postalCode             lastSeen  \n",
       "0       79588  2016-04-06 06:45:54  \n",
       "1       71034  2016-04-06 14:45:08  \n",
       "2       35394  2016-04-06 20:15:37  \n",
       "3       33729  2016-03-15 03:16:28  \n",
       "4       39218  2016-04-01 14:38:50  "
      ]
     },
     "execution_count": 1,
     "metadata": {},
     "output_type": "execute_result"
    }
   ],
   "source": [
    "# Load the data\n",
    "import pandas as pd\n",
    "autos = pd.read_csv(\"autos.csv\", encoding=\"Latin-1\")\n",
    "\n",
    "# Show summary of dataset\n",
    "print(autos.info())\n",
    "print()\n",
    "\n",
    "# Show first five rows\n",
    "autos.head()"
   ]
  },
  {
   "cell_type": "markdown",
   "metadata": {},
   "source": [
    "# 2. Translate from German to English\n",
    "\n",
    "There are columns written in German: `offerType`, `notRepairedDamage`, `seller`, `fuelType`. These will be translated into English although they will not be analysed in this project."
   ]
  },
  {
   "cell_type": "code",
   "execution_count": 2,
   "metadata": {
    "scrolled": false
   },
   "outputs": [
    {
     "name": "stdout",
     "output_type": "stream",
     "text": [
      "['Offer' 'Wanted']\n",
      "['No' nan 'Yes']\n",
      "['private' 'commercial']\n",
      "['lpg' 'benzin' 'diesel' nan 'cng' 'hybrid' 'electro' 'other']\n"
     ]
    }
   ],
   "source": [
    "def translate(col, dic):\n",
    "    autos[col] = autos[col].map(dic)\n",
    "    print(autos[col].unique())\n",
    "\n",
    "translate(\"offerType\", {\"Angebot\": \"Offer\", \"Gesuch\": \"Wanted\"})\n",
    "translate(\"notRepairedDamage\", {\"nein\": \"No\", \"ja\": \"Yes\"})\n",
    "translate(\"seller\", {'privat': 'private', 'gewerblich': 'commercial'})\n",
    "translate(\"fuelType\", {'lpg': 'lpg',\n",
    "                        'benzin': 'benzin',\n",
    "                        'diesel': 'diesel',\n",
    "                        'cng': 'cng',\n",
    "                        'hybrid': 'hybrid',\n",
    "                        'elektro': 'electro',\n",
    "                        'andere': 'other'})"
   ]
  },
  {
   "cell_type": "markdown",
   "metadata": {},
   "source": [
    "# 3. Convert data type\n",
    "\n",
    "`price` and `odometer` contain numeric data, but are saved as strings due to symbol characters (`,.$`). These symbols will be removed and the columns will be converted to integer type.\n",
    "\n",
    "Then, these columns will be renamed as `price_usd` and `odometer_km`."
   ]
  },
  {
   "cell_type": "code",
   "execution_count": 3,
   "metadata": {
    "scrolled": false
   },
   "outputs": [
    {
     "name": "stdout",
     "output_type": "stream",
     "text": [
      "price_usd      int64\n",
      "odometer_km    int64\n",
      "dtype: object\n"
     ]
    },
    {
     "data": {
      "text/html": [
       "<div>\n",
       "<style scoped>\n",
       "    .dataframe tbody tr th:only-of-type {\n",
       "        vertical-align: middle;\n",
       "    }\n",
       "\n",
       "    .dataframe tbody tr th {\n",
       "        vertical-align: top;\n",
       "    }\n",
       "\n",
       "    .dataframe thead th {\n",
       "        text-align: right;\n",
       "    }\n",
       "</style>\n",
       "<table border=\"1\" class=\"dataframe\">\n",
       "  <thead>\n",
       "    <tr style=\"text-align: right;\">\n",
       "      <th></th>\n",
       "      <th>price_usd</th>\n",
       "      <th>odometer_km</th>\n",
       "    </tr>\n",
       "  </thead>\n",
       "  <tbody>\n",
       "    <tr>\n",
       "      <th>0</th>\n",
       "      <td>5000</td>\n",
       "      <td>150000</td>\n",
       "    </tr>\n",
       "    <tr>\n",
       "      <th>1</th>\n",
       "      <td>8500</td>\n",
       "      <td>150000</td>\n",
       "    </tr>\n",
       "    <tr>\n",
       "      <th>2</th>\n",
       "      <td>8990</td>\n",
       "      <td>70000</td>\n",
       "    </tr>\n",
       "    <tr>\n",
       "      <th>3</th>\n",
       "      <td>4350</td>\n",
       "      <td>70000</td>\n",
       "    </tr>\n",
       "    <tr>\n",
       "      <th>4</th>\n",
       "      <td>1350</td>\n",
       "      <td>150000</td>\n",
       "    </tr>\n",
       "  </tbody>\n",
       "</table>\n",
       "</div>"
      ],
      "text/plain": [
       "   price_usd  odometer_km\n",
       "0       5000       150000\n",
       "1       8500       150000\n",
       "2       8990        70000\n",
       "3       4350        70000\n",
       "4       1350       150000"
      ]
     },
     "metadata": {},
     "output_type": "display_data"
    }
   ],
   "source": [
    "from IPython.display import display\n",
    "\n",
    "# To integer (price, odometer)\n",
    "cols_int = [\"price\", \"odometer\"]\n",
    "for col in cols_int:\n",
    "    # source https://stackoverflow.com/a/22591024\n",
    "    autos[col] = autos[col].str.replace(\"\\D+\", \"\").astype(\"int\")\n",
    "\n",
    "# Rename columns\n",
    "cols_int_new = [\"price_usd\", \"odometer_km\"]\n",
    "autos.rename(columns={k: v for k, v in zip(cols_int, cols_int_new)}, inplace=True)\n",
    "\n",
    "# Display summary\n",
    "print(autos[cols_int_new].dtypes)\n",
    "display(autos[cols_int_new].head())"
   ]
  },
  {
   "cell_type": "markdown",
   "metadata": {},
   "source": [
    "# 4. Columns containing dates\n",
    "\n",
    "# 4.1. Extract dates\n",
    "\n",
    "Columns `dateCrawled`, `dateCreated` and `lastSeen` contain dates and times (e.g. \"2016-03-26 17:47:46\"). I will update the columns so that only dates will remain."
   ]
  },
  {
   "cell_type": "code",
   "execution_count": 4,
   "metadata": {},
   "outputs": [
    {
     "data": {
      "text/html": [
       "<div>\n",
       "<style scoped>\n",
       "    .dataframe tbody tr th:only-of-type {\n",
       "        vertical-align: middle;\n",
       "    }\n",
       "\n",
       "    .dataframe tbody tr th {\n",
       "        vertical-align: top;\n",
       "    }\n",
       "\n",
       "    .dataframe thead th {\n",
       "        text-align: right;\n",
       "    }\n",
       "</style>\n",
       "<table border=\"1\" class=\"dataframe\">\n",
       "  <thead>\n",
       "    <tr style=\"text-align: right;\">\n",
       "      <th></th>\n",
       "      <th>dateCrawled</th>\n",
       "      <th>dateCreated</th>\n",
       "      <th>lastSeen</th>\n",
       "    </tr>\n",
       "  </thead>\n",
       "  <tbody>\n",
       "    <tr>\n",
       "      <th>0</th>\n",
       "      <td>2016-03-26</td>\n",
       "      <td>2016-03-26</td>\n",
       "      <td>2016-04-06</td>\n",
       "    </tr>\n",
       "    <tr>\n",
       "      <th>1</th>\n",
       "      <td>2016-04-04</td>\n",
       "      <td>2016-04-04</td>\n",
       "      <td>2016-04-06</td>\n",
       "    </tr>\n",
       "    <tr>\n",
       "      <th>2</th>\n",
       "      <td>2016-03-26</td>\n",
       "      <td>2016-03-26</td>\n",
       "      <td>2016-04-06</td>\n",
       "    </tr>\n",
       "    <tr>\n",
       "      <th>3</th>\n",
       "      <td>2016-03-12</td>\n",
       "      <td>2016-03-12</td>\n",
       "      <td>2016-03-15</td>\n",
       "    </tr>\n",
       "    <tr>\n",
       "      <th>4</th>\n",
       "      <td>2016-04-01</td>\n",
       "      <td>2016-04-01</td>\n",
       "      <td>2016-04-01</td>\n",
       "    </tr>\n",
       "  </tbody>\n",
       "</table>\n",
       "</div>"
      ],
      "text/plain": [
       "  dateCrawled dateCreated    lastSeen\n",
       "0  2016-03-26  2016-03-26  2016-04-06\n",
       "1  2016-04-04  2016-04-04  2016-04-06\n",
       "2  2016-03-26  2016-03-26  2016-04-06\n",
       "3  2016-03-12  2016-03-12  2016-03-15\n",
       "4  2016-04-01  2016-04-01  2016-04-01"
      ]
     },
     "metadata": {},
     "output_type": "display_data"
    }
   ],
   "source": [
    "cols_dt = [\"dateCrawled\", \"dateCreated\", \"lastSeen\"]\n",
    "for col in cols_dt:\n",
    "    autos[col] = autos[col].str[:10].replace(\"-\", \"\")\n",
    "\n",
    "display(autos[cols_dt].head())"
   ]
  },
  {
   "cell_type": "markdown",
   "metadata": {},
   "source": [
    "# 4.2. Explore dates\n",
    "\n",
    "As shown below, no peculiarities are observed in the three columns."
   ]
  },
  {
   "cell_type": "code",
   "execution_count": 5,
   "metadata": {
    "scrolled": false
   },
   "outputs": [
    {
     "data": {
      "text/plain": [
       "2016-03-05    1269\n",
       "2016-03-06     697\n",
       "2016-03-07    1798\n",
       "2016-03-08    1665\n",
       "2016-03-09    1661\n",
       "2016-03-10    1606\n",
       "2016-03-11    1624\n",
       "2016-03-12    1839\n",
       "2016-03-13     778\n",
       "2016-03-14    1831\n",
       "2016-03-15    1699\n",
       "2016-03-16    1475\n",
       "2016-03-17    1576\n",
       "2016-03-18     653\n",
       "2016-03-19    1745\n",
       "2016-03-20    1891\n",
       "2016-03-21    1876\n",
       "2016-03-22    1647\n",
       "2016-03-23    1619\n",
       "2016-03-24    1455\n",
       "2016-03-25    1587\n",
       "2016-03-26    1624\n",
       "2016-03-27    1552\n",
       "2016-03-28    1742\n",
       "2016-03-29    1709\n",
       "2016-03-30    1681\n",
       "2016-03-31    1596\n",
       "2016-04-01    1690\n",
       "2016-04-02    1770\n",
       "2016-04-03    1934\n",
       "2016-04-04    1826\n",
       "2016-04-05     655\n",
       "2016-04-06     159\n",
       "2016-04-07      71\n",
       "Name: dateCrawled, dtype: int64"
      ]
     },
     "execution_count": 5,
     "metadata": {},
     "output_type": "execute_result"
    }
   ],
   "source": [
    "autos[\"dateCrawled\"].value_counts().sort_index()"
   ]
  },
  {
   "cell_type": "code",
   "execution_count": 6,
   "metadata": {},
   "outputs": [
    {
     "data": {
      "text/plain": [
       "2015-06-11       1\n",
       "2015-08-10       1\n",
       "2015-09-09       1\n",
       "2015-11-10       1\n",
       "2015-12-05       1\n",
       "2015-12-30       1\n",
       "2016-01-03       1\n",
       "2016-01-07       1\n",
       "2016-01-10       2\n",
       "2016-01-13       1\n",
       "2016-01-14       1\n",
       "2016-01-16       1\n",
       "2016-01-22       1\n",
       "2016-01-27       3\n",
       "2016-01-29       1\n",
       "2016-02-01       1\n",
       "2016-02-02       2\n",
       "2016-02-05       2\n",
       "2016-02-07       1\n",
       "2016-02-08       1\n",
       "2016-02-09       2\n",
       "2016-02-11       1\n",
       "2016-02-12       3\n",
       "2016-02-14       2\n",
       "2016-02-16       1\n",
       "2016-02-17       1\n",
       "2016-02-18       2\n",
       "2016-02-19       3\n",
       "2016-02-20       2\n",
       "2016-02-21       3\n",
       "              ... \n",
       "2016-03-09    1662\n",
       "2016-03-10    1593\n",
       "2016-03-11    1639\n",
       "2016-03-12    1831\n",
       "2016-03-13     846\n",
       "2016-03-14    1761\n",
       "2016-03-15    1687\n",
       "2016-03-16    1500\n",
       "2016-03-17    1560\n",
       "2016-03-18     686\n",
       "2016-03-19    1692\n",
       "2016-03-20    1893\n",
       "2016-03-21    1886\n",
       "2016-03-22    1640\n",
       "2016-03-23    1609\n",
       "2016-03-24    1454\n",
       "2016-03-25    1594\n",
       "2016-03-26    1628\n",
       "2016-03-27    1545\n",
       "2016-03-28    1748\n",
       "2016-03-29    1707\n",
       "2016-03-30    1672\n",
       "2016-03-31    1596\n",
       "2016-04-01    1690\n",
       "2016-04-02    1754\n",
       "2016-04-03    1946\n",
       "2016-04-04    1844\n",
       "2016-04-05     592\n",
       "2016-04-06     163\n",
       "2016-04-07      64\n",
       "Name: dateCreated, Length: 76, dtype: int64"
      ]
     },
     "execution_count": 6,
     "metadata": {},
     "output_type": "execute_result"
    }
   ],
   "source": [
    "autos[\"dateCreated\"].value_counts().sort_index()"
   ]
  },
  {
   "cell_type": "code",
   "execution_count": 7,
   "metadata": {},
   "outputs": [
    {
     "data": {
      "text/plain": [
       "2016-03-05       54\n",
       "2016-03-06      221\n",
       "2016-03-07      268\n",
       "2016-03-08      380\n",
       "2016-03-09      493\n",
       "2016-03-10      538\n",
       "2016-03-11      626\n",
       "2016-03-12     1191\n",
       "2016-03-13      449\n",
       "2016-03-14      640\n",
       "2016-03-15      794\n",
       "2016-03-16      822\n",
       "2016-03-17     1396\n",
       "2016-03-18      371\n",
       "2016-03-19      787\n",
       "2016-03-20     1035\n",
       "2016-03-21     1037\n",
       "2016-03-22     1079\n",
       "2016-03-23      929\n",
       "2016-03-24      978\n",
       "2016-03-25      960\n",
       "2016-03-26      848\n",
       "2016-03-27      801\n",
       "2016-03-28     1043\n",
       "2016-03-29     1117\n",
       "2016-03-30     1242\n",
       "2016-03-31     1192\n",
       "2016-04-01     1155\n",
       "2016-04-02     1245\n",
       "2016-04-03     1268\n",
       "2016-04-04     1231\n",
       "2016-04-05     6214\n",
       "2016-04-06    11050\n",
       "2016-04-07     6546\n",
       "Name: lastSeen, dtype: int64"
      ]
     },
     "execution_count": 7,
     "metadata": {},
     "output_type": "execute_result"
    }
   ],
   "source": [
    "autos[\"lastSeen\"].value_counts().sort_index()"
   ]
  },
  {
   "cell_type": "markdown",
   "metadata": {},
   "source": [
    "# 5. Improve readability of column names\n",
    "\n",
    "# 5.1. Use more intuitive names\n",
    "\n",
    "E.g. Rename `yearOfRegistration` as `registration_year`."
   ]
  },
  {
   "cell_type": "code",
   "execution_count": 8,
   "metadata": {},
   "outputs": [
    {
     "data": {
      "text/plain": [
       "Index(['dateCrawled', 'name', 'seller', 'offerType', 'price_usd', 'abtest',\n",
       "       'vehicleType', 'registration_year', 'gearbox', 'powerPS', 'model',\n",
       "       'odometer_km', 'registration_month', 'fuelType', 'brand',\n",
       "       'unrepaired_damage', 'ad_created', 'nrOfPictures', 'postalCode',\n",
       "       'lastSeen'],\n",
       "      dtype='object')"
      ]
     },
     "execution_count": 8,
     "metadata": {},
     "output_type": "execute_result"
    }
   ],
   "source": [
    "cols_dic = {\"yearOfRegistration\": \"registration_year\",\n",
    "           \"monthOfRegistration\": \"registration_month\",\n",
    "           \"notRepairedDamage\": \"unrepaired_damage\",\n",
    "           \"dateCreated\": \"ad_created\"}\n",
    "\n",
    "autos.rename(columns=cols_dic, inplace=True)\n",
    "autos.columns"
   ]
  },
  {
   "cell_type": "markdown",
   "metadata": {},
   "source": [
    "# 5.2. Convert camelCase to snake_case\n",
    "\n",
    "For example, `dateCrawled` will be renamed as `date_crawled`."
   ]
  },
  {
   "cell_type": "code",
   "execution_count": 9,
   "metadata": {},
   "outputs": [
    {
     "data": {
      "text/plain": [
       "Index(['date_crawled', 'name', 'seller', 'offer_type', 'price_usd', 'abtest',\n",
       "       'vehicle_type', 'registration_year', 'gearbox', 'power_ps', 'model',\n",
       "       'odometer_km', 'registration_month', 'fuel_type', 'brand',\n",
       "       'unrepaired_damage', 'ad_created', 'nr_of_pictures', 'postal_code',\n",
       "       'last_seen'],\n",
       "      dtype='object')"
      ]
     },
     "execution_count": 9,
     "metadata": {},
     "output_type": "execute_result"
    }
   ],
   "source": [
    "import re\n",
    "\n",
    "def camelCase_to_snakecase(name):\n",
    "    \"\"\"\n",
    "    Function from https://stackoverflow.com/a/1176023\n",
    "    \"\"\"\n",
    "    s1 = re.sub('(.)([A-Z][a-z]+)', r'\\1_\\2', name)\n",
    "    return re.sub('([a-z0-9])([A-Z])', r'\\1_\\2', s1).lower()\n",
    "\n",
    "\n",
    "for i in range(len(autos.columns)):\n",
    "    autos.columns.values[i] = camelCase_to_snakecase(autos.columns[i])\n",
    "    \n",
    "autos.columns"
   ]
  },
  {
   "cell_type": "markdown",
   "metadata": {},
   "source": [
    "# 6. Remove bad data\n",
    "\n",
    "# 6.1. Columns with little variance\n",
    "\n",
    "A column is not informative if most of its values are the same. These columns will be identified below."
   ]
  },
  {
   "cell_type": "code",
   "execution_count": 10,
   "metadata": {
    "scrolled": false
   },
   "outputs": [
    {
     "name": "stdout",
     "output_type": "stream",
     "text": [
      "2016-04-03    3.868\n",
      "2016-03-20    3.782\n",
      "2016-03-21    3.752\n",
      "2016-03-12    3.678\n",
      "2016-03-14    3.662\n",
      "Name: date_crawled, dtype: float64\n",
      "\n",
      "Ford_Fiesta            0.156\n",
      "BMW_316i               0.150\n",
      "Volkswagen_Golf_1.4    0.150\n",
      "Volkswagen_Polo        0.144\n",
      "BMW_318i               0.144\n",
      "Name: name, dtype: float64\n",
      "\n",
      "private       99.998\n",
      "commercial     0.002\n",
      "Name: seller, dtype: float64\n",
      "\n",
      "Offer     99.998\n",
      "Wanted     0.002\n",
      "Name: offer_type, dtype: float64\n",
      "\n",
      "0       2.842\n",
      "500     1.562\n",
      "1500    1.468\n",
      "2500    1.286\n",
      "1000    1.278\n",
      "Name: price_usd, dtype: float64\n",
      "\n",
      "test       51.512\n",
      "control    48.488\n",
      "Name: abtest, dtype: float64\n",
      "\n",
      "limousine     28.636009\n",
      "kleinwagen    24.099766\n",
      "kombi         20.325131\n",
      "bus            9.114798\n",
      "cabrio         6.816613\n",
      "Name: vehicle_type, dtype: float64\n",
      "\n",
      "2000    6.708\n",
      "2005    6.030\n",
      "1999    6.000\n",
      "2004    5.474\n",
      "2003    5.454\n",
      "Name: registration_year, dtype: float64\n",
      "\n",
      "manuell      78.176247\n",
      "automatik    21.823753\n",
      "Name: gearbox, dtype: float64\n",
      "\n",
      "0      11.000\n",
      "75      6.342\n",
      "60      4.390\n",
      "150     4.092\n",
      "140     3.768\n",
      "Name: power_ps, dtype: float64\n",
      "\n",
      "golf      8.517844\n",
      "andere    7.467931\n",
      "3er       5.844376\n",
      "polo      3.719148\n",
      "corsa     3.672579\n",
      "Name: model, dtype: float64\n",
      "\n",
      "150000    64.848\n",
      "125000    10.340\n",
      "100000     4.338\n",
      "90000      3.514\n",
      "80000      2.872\n",
      "Name: odometer_km, dtype: float64\n",
      "\n",
      "0    10.150\n",
      "3    10.142\n",
      "6     8.736\n",
      "5     8.214\n",
      "4     8.204\n",
      "Name: registration_month, dtype: float64\n",
      "\n",
      "benzin    66.143064\n",
      "diesel    32.002724\n",
      "lpg        1.518081\n",
      "cng        0.164770\n",
      "hybrid     0.081287\n",
      "Name: fuel_type, dtype: float64\n",
      "\n",
      "volkswagen       21.374\n",
      "opel             10.922\n",
      "bmw              10.858\n",
      "mercedes_benz     9.468\n",
      "audi              8.566\n",
      "Name: brand, dtype: float64\n",
      "\n",
      "No     87.705061\n",
      "Yes    12.294939\n",
      "Name: unrepaired_damage, dtype: float64\n",
      "\n",
      "2016-04-03    3.892\n",
      "2016-03-20    3.786\n",
      "2016-03-21    3.772\n",
      "2016-04-04    3.688\n",
      "2016-03-12    3.662\n",
      "Name: ad_created, dtype: float64\n",
      "\n",
      "0    100.0\n",
      "Name: nr_of_pictures, dtype: float64\n",
      "\n",
      "10115    0.218\n",
      "65428    0.208\n",
      "66333    0.108\n",
      "45888    0.100\n",
      "44145    0.096\n",
      "Name: postal_code, dtype: float64\n",
      "\n",
      "2016-04-06    22.100\n",
      "2016-04-07    13.092\n",
      "2016-04-05    12.428\n",
      "2016-03-17     2.792\n",
      "2016-04-03     2.536\n",
      "Name: last_seen, dtype: float64\n",
      "\n"
     ]
    }
   ],
   "source": [
    "# For each column\n",
    "for col in autos:\n",
    "    \n",
    "    # Show 5 most prevalent values - unit is in percentage\n",
    "    print((autos[col].value_counts(normalize=True) * 100).head(5))\n",
    "    print()"
   ]
  },
  {
   "cell_type": "markdown",
   "metadata": {},
   "source": [
    "`seller` and `offer_type` show little variance and therefore will be removed."
   ]
  },
  {
   "cell_type": "code",
   "execution_count": 11,
   "metadata": {},
   "outputs": [
    {
     "data": {
      "text/plain": [
       "Index(['date_crawled', 'name', 'price_usd', 'abtest', 'vehicle_type',\n",
       "       'registration_year', 'gearbox', 'power_ps', 'model', 'odometer_km',\n",
       "       'registration_month', 'fuel_type', 'brand', 'unrepaired_damage',\n",
       "       'ad_created', 'nr_of_pictures', 'postal_code', 'last_seen'],\n",
       "      dtype='object')"
      ]
     },
     "execution_count": 11,
     "metadata": {},
     "output_type": "execute_result"
    }
   ],
   "source": [
    "autos.drop([\"seller\", \"offer_type\"], axis=1, inplace=True)\n",
    "autos.columns"
   ]
  },
  {
   "cell_type": "markdown",
   "metadata": {},
   "source": [
    "# 6.2. Rows with wrong `registration_year`"
   ]
  },
  {
   "cell_type": "code",
   "execution_count": 12,
   "metadata": {
    "scrolled": false
   },
   "outputs": [
    {
     "name": "stdout",
     "output_type": "stream",
     "text": [
      "1000\n",
      "9999\n"
     ]
    }
   ],
   "source": [
    "print(autos[\"registration_year\"].min())\n",
    "print(autos[\"registration_year\"].max())"
   ]
  },
  {
   "cell_type": "markdown",
   "metadata": {},
   "source": [
    "Currently, the registration years of the advertised cars range from year 1000 to 9999. This is incorrect.\n",
    "\n",
    "The earliest possible registration year of a car appears to be [1893, in which the world's first registration plate was introduced in France](https://en.wikipedia.org/wiki/Vehicle_registration_plate#History)\n",
    "\n",
    "The latest possible registration year is 2016, when the last ad in the dataset was created (see below)."
   ]
  },
  {
   "cell_type": "code",
   "execution_count": 13,
   "metadata": {},
   "outputs": [
    {
     "data": {
      "text/plain": [
       "'2016-04-07'"
      ]
     },
     "execution_count": 13,
     "metadata": {},
     "output_type": "execute_result"
    }
   ],
   "source": [
    "# Date on which the last ad was created\n",
    "autos[\"ad_created\"].max()"
   ]
  },
  {
   "cell_type": "markdown",
   "metadata": {},
   "source": [
    "So, I will keep only the cars whose registration years range from 1893 to 2016."
   ]
  },
  {
   "cell_type": "code",
   "execution_count": 14,
   "metadata": {},
   "outputs": [],
   "source": [
    "autos = autos.loc[autos[\"registration_year\"].between(1893, 2016)]"
   ]
  },
  {
   "cell_type": "markdown",
   "metadata": {},
   "source": [
    "# 6.3. Rows with outliers\n",
    "\n",
    "I will check only the columns of interest: mileage (`odometer_km`) and price (`price_usd`). These columns will be briefly analysed in section `7`.\n",
    "\n",
    "# 6.3.1. Mileage (`odometer_km`)"
   ]
  },
  {
   "cell_type": "code",
   "execution_count": 15,
   "metadata": {
    "scrolled": true
   },
   "outputs": [
    {
     "data": {
      "text/plain": [
       "5000        911\n",
       "10000       249\n",
       "20000       763\n",
       "30000       769\n",
       "40000       801\n",
       "50000      1008\n",
       "60000      1137\n",
       "70000      1199\n",
       "80000      1396\n",
       "90000      1696\n",
       "100000     2110\n",
       "125000     4960\n",
       "150000    31029\n",
       "Name: odometer_km, dtype: int64"
      ]
     },
     "execution_count": 15,
     "metadata": {},
     "output_type": "execute_result"
    }
   ],
   "source": [
    "autos[\"odometer_km\"].value_counts().sort_index()"
   ]
  },
  {
   "cell_type": "markdown",
   "metadata": {},
   "source": [
    "No peculiarity is observed.\n",
    "\n",
    "# 6.3.2. Price (`price_usd`)"
   ]
  },
  {
   "cell_type": "code",
   "execution_count": 16,
   "metadata": {
    "scrolled": false
   },
   "outputs": [
    {
     "data": {
      "text/plain": [
       "0           1335\n",
       "1            150\n",
       "2              2\n",
       "3              1\n",
       "5              2\n",
       "8              1\n",
       "9              1\n",
       "10             6\n",
       "11             2\n",
       "12             3\n",
       "13             2\n",
       "14             1\n",
       "15             2\n",
       "17             3\n",
       "18             1\n",
       "20             4\n",
       "25             5\n",
       "29             1\n",
       "30             6\n",
       "35             1\n",
       "40             6\n",
       "45             4\n",
       "47             1\n",
       "49             3\n",
       "50            49\n",
       "55             1\n",
       "59             1\n",
       "60             9\n",
       "65             5\n",
       "66             1\n",
       "            ... \n",
       "151990         1\n",
       "155000         1\n",
       "163500         1\n",
       "163991         1\n",
       "169000         1\n",
       "169999         1\n",
       "175000         1\n",
       "180000         1\n",
       "190000         1\n",
       "194000         1\n",
       "197000         1\n",
       "198000         1\n",
       "220000         1\n",
       "250000         1\n",
       "259000         1\n",
       "265000         1\n",
       "295000         1\n",
       "299000         1\n",
       "345000         1\n",
       "350000         1\n",
       "999990         1\n",
       "999999         2\n",
       "1234566        1\n",
       "1300000        1\n",
       "3890000        1\n",
       "10000000       1\n",
       "11111111       2\n",
       "12345678       1\n",
       "27322222       1\n",
       "99999999       1\n",
       "Name: price_usd, Length: 2334, dtype: int64"
      ]
     },
     "execution_count": 16,
     "metadata": {},
     "output_type": "execute_result"
    }
   ],
   "source": [
    "autos[\"price_usd\"].value_counts().sort_index()"
   ]
  },
  {
   "cell_type": "markdown",
   "metadata": {},
   "source": [
    "Some cars are priced at $0. This seems incorrect.\n",
    "\n",
    "Regarding the upper limit of the price, the car price rises rather steadily up to $1,300,000. Then, the price makes big leaps across the more expensive cars. There are only 5 of them among a total of 2,334 cars. \n",
    "\n",
    "So, I will include the cars priced from $1 to £1,300,000."
   ]
  },
  {
   "cell_type": "code",
   "execution_count": 17,
   "metadata": {},
   "outputs": [],
   "source": [
    "autos = autos[autos[\"price_usd\"].between(1, 1300000)]"
   ]
  },
  {
   "cell_type": "markdown",
   "metadata": {},
   "source": [
    "# 7. Analysis: Mean mileages and prices for 10 most popular brands\n",
    "\n",
    "In this project, \"popular\" means \"appearing most often in this dataset\".\n",
    "\n",
    "I will first aggregate data by `brand` for 10 most popular brands, and get means of `price_usd` and `odometer_km`."
   ]
  },
  {
   "cell_type": "code",
   "execution_count": 18,
   "metadata": {
    "scrolled": false
   },
   "outputs": [
    {
     "data": {
      "text/html": [
       "<div>\n",
       "<style scoped>\n",
       "    .dataframe tbody tr th:only-of-type {\n",
       "        vertical-align: middle;\n",
       "    }\n",
       "\n",
       "    .dataframe tbody tr th {\n",
       "        vertical-align: top;\n",
       "    }\n",
       "\n",
       "    .dataframe thead th {\n",
       "        text-align: right;\n",
       "    }\n",
       "</style>\n",
       "<table border=\"1\" class=\"dataframe\">\n",
       "  <thead>\n",
       "    <tr style=\"text-align: right;\">\n",
       "      <th></th>\n",
       "      <th>price_usd</th>\n",
       "      <th>odometer_km</th>\n",
       "    </tr>\n",
       "    <tr>\n",
       "      <th>brand</th>\n",
       "      <th></th>\n",
       "      <th></th>\n",
       "    </tr>\n",
       "  </thead>\n",
       "  <tbody>\n",
       "    <tr>\n",
       "      <th>audi</th>\n",
       "      <td>9336.687454</td>\n",
       "      <td>129157.386785</td>\n",
       "    </tr>\n",
       "    <tr>\n",
       "      <th>bmw</th>\n",
       "      <td>8571.480148</td>\n",
       "      <td>132575.905021</td>\n",
       "    </tr>\n",
       "    <tr>\n",
       "      <th>fiat</th>\n",
       "      <td>2813.748538</td>\n",
       "      <td>117121.971596</td>\n",
       "    </tr>\n",
       "    <tr>\n",
       "      <th>ford</th>\n",
       "      <td>4054.693015</td>\n",
       "      <td>124266.237745</td>\n",
       "    </tr>\n",
       "    <tr>\n",
       "      <th>mercedes_benz</th>\n",
       "      <td>8628.450366</td>\n",
       "      <td>130788.363313</td>\n",
       "    </tr>\n",
       "    <tr>\n",
       "      <th>opel</th>\n",
       "      <td>2975.241935</td>\n",
       "      <td>129310.035842</td>\n",
       "    </tr>\n",
       "    <tr>\n",
       "      <th>peugeot</th>\n",
       "      <td>3094.017229</td>\n",
       "      <td>127153.625269</td>\n",
       "    </tr>\n",
       "    <tr>\n",
       "      <th>renault</th>\n",
       "      <td>2474.864607</td>\n",
       "      <td>128071.331213</td>\n",
       "    </tr>\n",
       "    <tr>\n",
       "      <th>seat</th>\n",
       "      <td>4397.230950</td>\n",
       "      <td>121131.301290</td>\n",
       "    </tr>\n",
       "    <tr>\n",
       "      <th>volkswagen</th>\n",
       "      <td>5604.071269</td>\n",
       "      <td>128711.476075</td>\n",
       "    </tr>\n",
       "  </tbody>\n",
       "</table>\n",
       "</div>"
      ],
      "text/plain": [
       "                 price_usd    odometer_km\n",
       "brand                                    \n",
       "audi           9336.687454  129157.386785\n",
       "bmw            8571.480148  132575.905021\n",
       "fiat           2813.748538  117121.971596\n",
       "ford           4054.693015  124266.237745\n",
       "mercedes_benz  8628.450366  130788.363313\n",
       "opel           2975.241935  129310.035842\n",
       "peugeot        3094.017229  127153.625269\n",
       "renault        2474.864607  128071.331213\n",
       "seat           4397.230950  121131.301290\n",
       "volkswagen     5604.071269  128711.476075"
      ]
     },
     "execution_count": 18,
     "metadata": {},
     "output_type": "execute_result"
    }
   ],
   "source": [
    "# Identify 10 most popular brands\n",
    "top_10_brands = autos[\"brand\"].value_counts().head(10).index\n",
    "\n",
    "agg = (autos\n",
    "         .loc[autos[\"brand\"].isin(top_10_brands)] # Select top 10 brands\n",
    "         .groupby(\"brand\")\n",
    "         .agg(\"mean\") # Get each column's mean value per brand\n",
    "         .loc[:, [\"price_usd\", \"odometer_km\"]]) # Select columns of interest\n",
    "\n",
    "agg"
   ]
  },
  {
   "cell_type": "markdown",
   "metadata": {},
   "source": [
    "Now, I will visually check how mileage and prices are related."
   ]
  },
  {
   "cell_type": "code",
   "execution_count": 19,
   "metadata": {},
   "outputs": [
    {
     "data": {
      "image/png": "[encoded data removed]",
      "text/plain": [
       "<Figure size 432x288 with 1 Axes>"
      ]
     },
     "metadata": {
      "needs_background": "light"
     },
     "output_type": "display_data"
    }
   ],
   "source": [
    "import matplotlib.pyplot as plt\n",
    "%matplotlib inline\n",
    "plt.scatter(agg[\"odometer_km\"], agg[\"price_usd\"])\n",
    "plt.xlabel(\"Odometer (km)\")\n",
    "plt.ylabel(\"Price (USD)\")\n",
    "plt.xticks(rotation=90)\n",
    "plt.show()"
   ]
  },
  {
   "cell_type": "markdown",
   "metadata": {},
   "source": [
    "Interestingly, the plot shows that cars with greater mileage might be more expensive. However, the link appears to be very weak.\n",
    "\n",
    "I will now sort the data by the price, and display the price and mileage for each brand."
   ]
  },
  {
   "cell_type": "code",
   "execution_count": 20,
   "metadata": {
    "scrolled": false
   },
   "outputs": [
    {
     "data": {
      "image/png": "[encoded data removed]",
      "text/plain": [
       "<Figure size 576x504 with 2 Axes>"
      ]
     },
     "metadata": {
      "needs_background": "light"
     },
     "output_type": "display_data"
    }
   ],
   "source": [
    "# Initialize plot\n",
    "fig, ax1 = plt.subplots(figsize=(8, 7))\n",
    "ax2 = ax1.twinx()\n",
    "\n",
    "# Sort data by price\n",
    "agg = agg.sort_values(by=\"price_usd\")\n",
    "\n",
    "# Draw plot\n",
    "agg[\"price_usd\"].plot(kind=\"bar\", color=\"red\", ax=ax1, width=0.4, position=1)\n",
    "agg[\"odometer_km\"].plot(kind=\"bar\", color=\"green\", ax=ax2, width=0.4, position=0)\n",
    "\n",
    "# Show legend\n",
    "# source https://stackoverflow.com/a/23556339\n",
    "ax1.legend(bbox_to_anchor=(1.41, 0.5))\n",
    "ax2.legend(bbox_to_anchor=(1.2, 0.45))\n",
    "ax1.set_ylabel(\"Price (USD)\")\n",
    "ax2.set_ylabel(\"Odometer (km)\")\n",
    "\n",
    "plt.show()"
   ]
  },
  {
   "cell_type": "markdown",
   "metadata": {},
   "source": [
    "Indeed, the mileage and price are not strongly correlated.\n",
    "\n",
    "All brands display similar mileage, but the price clearly varies. A price divide is observed between the 3 most expensive brands (Auidi, Mercedes Benz and BMW) and the rest."
   ]
  },
  {
   "cell_type": "markdown",
   "metadata": {},
   "source": [
    "# 8. Closing remark\n",
    "\n",
    "In this project, I cleaned a dataset and carried out a simple analysis."
   ]
  }
 ],
 "metadata": {
  "kernelspec": {
   "display_name": "Python 3",
   "language": "python",
   "name": "python3"
  },
  "language_info": {
   "codemirror_mode": {
    "name": "ipython",
    "version": 3
   },
   "file_extension": ".py",
   "mimetype": "text/x-python",
   "name": "python",
   "nbconvert_exporter": "python",
   "pygments_lexer": "ipython3",
   "version": "3.6.6"
  }
 },
 "nbformat": 4,
 "nbformat_minor": 2
}
