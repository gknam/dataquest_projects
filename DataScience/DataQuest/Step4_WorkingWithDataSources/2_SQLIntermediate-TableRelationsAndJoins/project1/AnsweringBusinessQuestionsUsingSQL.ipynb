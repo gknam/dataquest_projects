{
 "cells": [
  {
   "cell_type": "markdown",
   "metadata": {},
   "source": [
    "<h1 id=\"tocheading\">Table of Contents</h1>\n",
    "<br />\n",
    "<div id=\"toc\"><ul class=\"toc\"><li><a href=\"#1.-Display-tables-in-database\">1. Display tables in database</a><a class=\"anchor-link\" href=\"#1.-Display-tables-in-database\">¶</a></li><li><a href=\"#2.-Selecting-Albums-to-Purchase\">2. Selecting Albums to Purchase</a><a class=\"anchor-link\" href=\"#2.-Selecting-Albums-to-Purchase\">¶</a></li><ul class=\"toc\"><li><a href=\"#2.1.-Most-popular-genres-(by-amount-of-dollars-paid)\">2.1. Most popular genres (by amount of dollars paid)</a><a class=\"anchor-link\" href=\"#2.1.-Most-popular-genres-(by-amount-of-dollars-paid)\">¶</a></li><li><a href=\"#2.2.-Most-popular-genres-(by-number-of-tracks-sold)\">2.2. Most popular genres (by number of tracks sold)</a><a class=\"anchor-link\" href=\"#2.2.-Most-popular-genres-(by-number-of-tracks-sold)\">¶</a></li></ul><li><a href=\"#3.-Analyzing-Employee-Sales-Performance\">3. Analyzing Employee Sales Performance</a><a class=\"anchor-link\" href=\"#3.-Analyzing-Employee-Sales-Performance\">¶</a></li><li><a href=\"#4.-Analyzing-Sales-by-Country\">4. Analyzing Sales by Country</a><a class=\"anchor-link\" href=\"#4.-Analyzing-Sales-by-Country\">¶</a></li><li><a href=\"#5.-Visualizing-Sales-by-Country\">5. Visualizing Sales by Country</a><a class=\"anchor-link\" href=\"#5.-Visualizing-Sales-by-Country\">¶</a></li><li><a href=\"#6.-Albums-vs-Individual-Tracks\">6. Albums vs Individual Tracks</a><a class=\"anchor-link\" href=\"#6.-Albums-vs-Individual-Tracks\">¶</a></li><li><a href=\"#7.-Tasks-for-later\">7. Tasks for later</a><a class=\"anchor-link\" href=\"#7.-Tasks-for-later\">¶</a></li></ul></div>"
   ]
  },
  {
   "cell_type": "markdown",
   "metadata": {},
   "source": [
    "Project guide: https://www.dataquest.io/m/191/guided-project%3A-answering-business-questions-using-sql\n",
    "\n",
    "Solution by DataQuest: https://github.com/dataquestio/solutions/blob/master/Mission191Solutions.ipynb\n",
    "\n",
    "**<span style=color:red>Note: Most SQL queries in this project are not my original ones, but have been taken from DataQuest's solution. Especially, the entire code in [6. Albums vs Individual Tracks](#6.-Albums-vs-Individual-Tracks) is an exact copy of DataQuest's solution</span>**\n",
    "\n",
    "This project uses `chinook.db` downloaded from DataQuest. The data is originally from https://github.com/lerocha/chinook-database.\n",
    "\n",
    "\n",
    "\"The Chinook database contains information about the artists, songs, and albums from the music shop, as well as information on the shop's employees, customers, and the customers purchases. This information is contained in eleven tables.\"([source](https://www.dataquest.io/m/189/intermediate-joins-in-sql)).\n",
    "\n",
    "Below is a schema diagram of the database provided by DataQuest.\n",
    "\n",
    "![chinook-schema](chinook-schema.svg?sanitize=true)\n",
    "\n",
    "\n",
    "# 1. Display tables in database\n",
    "\n",
    "I will list all `tables` and `views` in the database. This is just for demonstration. The Schema contains all tables as shown below."
   ]
  },
  {
   "cell_type": "code",
   "execution_count": 1,
   "metadata": {},
   "outputs": [
    {
     "data": {
      "text/html": [
       "<div>\n",
       "<style scoped>\n",
       "    .dataframe tbody tr th:only-of-type {\n",
       "        vertical-align: middle;\n",
       "    }\n",
       "\n",
       "    .dataframe tbody tr th {\n",
       "        vertical-align: top;\n",
       "    }\n",
       "\n",
       "    .dataframe thead th {\n",
       "        text-align: right;\n",
       "    }\n",
       "</style>\n",
       "<table border=\"1\" class=\"dataframe\">\n",
       "  <thead>\n",
       "    <tr style=\"text-align: right;\">\n",
       "      <th></th>\n",
       "      <th>name</th>\n",
       "      <th>type</th>\n",
       "    </tr>\n",
       "  </thead>\n",
       "  <tbody>\n",
       "    <tr>\n",
       "      <th>0</th>\n",
       "      <td>album</td>\n",
       "      <td>table</td>\n",
       "    </tr>\n",
       "    <tr>\n",
       "      <th>1</th>\n",
       "      <td>artist</td>\n",
       "      <td>table</td>\n",
       "    </tr>\n",
       "    <tr>\n",
       "      <th>2</th>\n",
       "      <td>customer</td>\n",
       "      <td>table</td>\n",
       "    </tr>\n",
       "    <tr>\n",
       "      <th>3</th>\n",
       "      <td>employee</td>\n",
       "      <td>table</td>\n",
       "    </tr>\n",
       "    <tr>\n",
       "      <th>4</th>\n",
       "      <td>genre</td>\n",
       "      <td>table</td>\n",
       "    </tr>\n",
       "    <tr>\n",
       "      <th>5</th>\n",
       "      <td>invoice</td>\n",
       "      <td>table</td>\n",
       "    </tr>\n",
       "    <tr>\n",
       "      <th>6</th>\n",
       "      <td>invoice_line</td>\n",
       "      <td>table</td>\n",
       "    </tr>\n",
       "    <tr>\n",
       "      <th>7</th>\n",
       "      <td>media_type</td>\n",
       "      <td>table</td>\n",
       "    </tr>\n",
       "    <tr>\n",
       "      <th>8</th>\n",
       "      <td>playlist</td>\n",
       "      <td>table</td>\n",
       "    </tr>\n",
       "    <tr>\n",
       "      <th>9</th>\n",
       "      <td>playlist_track</td>\n",
       "      <td>table</td>\n",
       "    </tr>\n",
       "    <tr>\n",
       "      <th>10</th>\n",
       "      <td>track</td>\n",
       "      <td>table</td>\n",
       "    </tr>\n",
       "  </tbody>\n",
       "</table>\n",
       "</div>"
      ],
      "text/plain": [
       "              name   type\n",
       "0            album  table\n",
       "1           artist  table\n",
       "2         customer  table\n",
       "3         employee  table\n",
       "4            genre  table\n",
       "5          invoice  table\n",
       "6     invoice_line  table\n",
       "7       media_type  table\n",
       "8         playlist  table\n",
       "9   playlist_track  table\n",
       "10           track  table"
      ]
     },
     "execution_count": 1,
     "metadata": {},
     "output_type": "execute_result"
    }
   ],
   "source": [
    "from IPython.display import display\n",
    "from pprint import pprint\n",
    "from shutil import copy\n",
    "\n",
    "import matplotlib.cm as cm\n",
    "import matplotlib.pyplot as plt\n",
    "import pandas as pd\n",
    "import sqlite3\n",
    "\n",
    "# create a copy of database. The copy will be used for this project.\n",
    "copy(\"chinook-unmodified.db\", \"chinook.db\")\n",
    "\n",
    "db = \"chinook.db\"\n",
    "\n",
    "def run_query(query):\n",
    "    \"\"\"\n",
    "    query: \"SELECT\" statement\n",
    "    db: database\n",
    "    \n",
    "    Run query on db.\n",
    "    Then return result.\n",
    "    \"\"\"\n",
    "    \n",
    "    # connect to database\n",
    "    with sqlite3.connect(db) as conn:\n",
    "    \n",
    "        # query database and return result\n",
    "        return pd.read_sql(query, conn)\n",
    "\n",
    "def run_command(command):\n",
    "    \"\"\"\n",
    "    Command: Statement which does not return results\n",
    "    (e.g. CREATE, INSERT)\n",
    "    db: database\n",
    "    \n",
    "    Run command on db\n",
    "    \"\"\"\n",
    "    \n",
    "    # connect to database\n",
    "    with sqlite3.connect(db) as conn:\n",
    "    \n",
    "        # run command\n",
    "        pd.read_sql(query, conn)\n",
    "    \n",
    "def show_tables():\n",
    "    \"\"\"\n",
    "    Return all tables and views in db (database).\n",
    "    \"\"\"\n",
    "    \n",
    "    # query to list tables and views\n",
    "    # (details of sqlite_master's columns are in are at http://bit.ly/2BXeM5Z)\n",
    "    query = \"\"\"\n",
    "    SELECT name, type\n",
    "    FROM sqlite_master\n",
    "    WHERE\n",
    "    type in (\"table\", \"view\")\n",
    "    \"\"\"\n",
    "    \n",
    "    return run_query(query)\n",
    "\n",
    "# show all tables in database\n",
    "show_tables()"
   ]
  },
  {
   "cell_type": "markdown",
   "metadata": {},
   "source": [
    "# 2. Selecting Albums to Purchase\n",
    "\n",
    "Here's the situation (excerpted from DataQuest).\n",
    "____\n",
    "The Chinook record store has just signed a deal with a new record label, and you've been tasked with selecting the first three albums that will be added to the store, from a list of four. All four albums are by artists that don't have any tracks in the store right now - we have the artist names, and the genre of music they produce:\n",
    "\n",
    "<table>\n",
    "<thead>\n",
    "<tr>\n",
    "<th>Artist Name</th>\n",
    "<th>Genre</th>\n",
    "</tr>\n",
    "</thead>\n",
    "<tbody>\n",
    "<tr>\n",
    "<td>Regal</td>\n",
    "<td>Hip-Hop</td>\n",
    "</tr>\n",
    "<tr>\n",
    "<td>Red Tone</td>\n",
    "<td>Punk</td>\n",
    "</tr>\n",
    "<tr>\n",
    "<td>Meteor and the Girls</td>\n",
    "<td>Pop</td>\n",
    "</tr>\n",
    "<tr>\n",
    "<td>Slim Jim Bites</td>\n",
    "<td>Blues</td>\n",
    "</tr>\n",
    "</tbody>\n",
    "</table>\n",
    "\n",
    "The record label specializes in artists from the USA, and they have given Chinook some money to advertise the new albums in the USA, so we're interested in finding out which genres sell the best in the USA.\n",
    "___\n",
    "\n",
    "\n",
    "## 2.1. Most popular genres (by amount of dollars paid)\n",
    "\n",
    "So, what are the top 3 most sold genres among hip-hop, punk, pop and blues? I will first pick top three according to the sum in dollars."
   ]
  },
  {
   "cell_type": "code",
   "execution_count": 2,
   "metadata": {
    "scrolled": false
   },
   "outputs": [
    {
     "data": {
      "text/html": [
       "<div>\n",
       "<style scoped>\n",
       "    .dataframe tbody tr th:only-of-type {\n",
       "        vertical-align: middle;\n",
       "    }\n",
       "\n",
       "    .dataframe tbody tr th {\n",
       "        vertical-align: top;\n",
       "    }\n",
       "\n",
       "    .dataframe thead th {\n",
       "        text-align: right;\n",
       "    }\n",
       "</style>\n",
       "<table border=\"1\" class=\"dataframe\">\n",
       "  <thead>\n",
       "    <tr style=\"text-align: right;\">\n",
       "      <th></th>\n",
       "      <th>genre</th>\n",
       "      <th>dollars_sold</th>\n",
       "      <th>percentage_sold</th>\n",
       "    </tr>\n",
       "  </thead>\n",
       "  <tbody>\n",
       "    <tr>\n",
       "      <th>0</th>\n",
       "      <td>Rock</td>\n",
       "      <td>5568.75</td>\n",
       "      <td>53.52%</td>\n",
       "    </tr>\n",
       "    <tr>\n",
       "      <th>1</th>\n",
       "      <td>Alternative &amp; Punk</td>\n",
       "      <td>1234.53</td>\n",
       "      <td>11.86%</td>\n",
       "    </tr>\n",
       "    <tr>\n",
       "      <th>2</th>\n",
       "      <td>Metal</td>\n",
       "      <td>1025.64</td>\n",
       "      <td>9.86%</td>\n",
       "    </tr>\n",
       "    <tr>\n",
       "      <th>3</th>\n",
       "      <td>R&amp;B/Soul</td>\n",
       "      <td>633.60</td>\n",
       "      <td>6.09%</td>\n",
       "    </tr>\n",
       "    <tr>\n",
       "      <th>4</th>\n",
       "      <td>Blues</td>\n",
       "      <td>453.42</td>\n",
       "      <td>4.36%</td>\n",
       "    </tr>\n",
       "    <tr>\n",
       "      <th>5</th>\n",
       "      <td>Alternative</td>\n",
       "      <td>369.27</td>\n",
       "      <td>3.55%</td>\n",
       "    </tr>\n",
       "    <tr>\n",
       "      <th>6</th>\n",
       "      <td>Hip Hop/Rap</td>\n",
       "      <td>366.30</td>\n",
       "      <td>3.52%</td>\n",
       "    </tr>\n",
       "    <tr>\n",
       "      <th>7</th>\n",
       "      <td>Pop</td>\n",
       "      <td>201.96</td>\n",
       "      <td>1.94%</td>\n",
       "    </tr>\n",
       "    <tr>\n",
       "      <th>8</th>\n",
       "      <td>Latin</td>\n",
       "      <td>162.36</td>\n",
       "      <td>1.56%</td>\n",
       "    </tr>\n",
       "    <tr>\n",
       "      <th>9</th>\n",
       "      <td>Jazz</td>\n",
       "      <td>125.73</td>\n",
       "      <td>1.21%</td>\n",
       "    </tr>\n",
       "    <tr>\n",
       "      <th>10</th>\n",
       "      <td>Easy Listening</td>\n",
       "      <td>95.04</td>\n",
       "      <td>0.91%</td>\n",
       "    </tr>\n",
       "    <tr>\n",
       "      <th>11</th>\n",
       "      <td>Reggae</td>\n",
       "      <td>51.48</td>\n",
       "      <td>0.49%</td>\n",
       "    </tr>\n",
       "    <tr>\n",
       "      <th>12</th>\n",
       "      <td>Electronica/Dance</td>\n",
       "      <td>34.65</td>\n",
       "      <td>0.33%</td>\n",
       "    </tr>\n",
       "    <tr>\n",
       "      <th>13</th>\n",
       "      <td>Heavy Metal</td>\n",
       "      <td>30.69</td>\n",
       "      <td>0.29%</td>\n",
       "    </tr>\n",
       "    <tr>\n",
       "      <th>14</th>\n",
       "      <td>Classical</td>\n",
       "      <td>21.78</td>\n",
       "      <td>0.21%</td>\n",
       "    </tr>\n",
       "    <tr>\n",
       "      <th>15</th>\n",
       "      <td>Soundtrack</td>\n",
       "      <td>20.79</td>\n",
       "      <td>0.2%</td>\n",
       "    </tr>\n",
       "    <tr>\n",
       "      <th>16</th>\n",
       "      <td>TV Shows</td>\n",
       "      <td>9.90</td>\n",
       "      <td>0.1%</td>\n",
       "    </tr>\n",
       "  </tbody>\n",
       "</table>\n",
       "</div>"
      ],
      "text/plain": [
       "                 genre  dollars_sold percentage_sold\n",
       "0                 Rock       5568.75          53.52%\n",
       "1   Alternative & Punk       1234.53          11.86%\n",
       "2                Metal       1025.64           9.86%\n",
       "3             R&B/Soul        633.60           6.09%\n",
       "4                Blues        453.42           4.36%\n",
       "5          Alternative        369.27           3.55%\n",
       "6          Hip Hop/Rap        366.30           3.52%\n",
       "7                  Pop        201.96           1.94%\n",
       "8                Latin        162.36           1.56%\n",
       "9                 Jazz        125.73           1.21%\n",
       "10      Easy Listening         95.04           0.91%\n",
       "11              Reggae         51.48           0.49%\n",
       "12   Electronica/Dance         34.65           0.33%\n",
       "13         Heavy Metal         30.69           0.29%\n",
       "14           Classical         21.78           0.21%\n",
       "15          Soundtrack         20.79            0.2%\n",
       "16            TV Shows          9.90            0.1%"
      ]
     },
     "metadata": {},
     "output_type": "display_data"
    },
    {
     "data": {
      "image/png": "[encoded data removed]",
      "text/plain": [
       "<matplotlib.figure.Figure at 0x7ff6ac0b6f60>"
      ]
     },
     "metadata": {},
     "output_type": "display_data"
    }
   ],
   "source": [
    "import plotly\n",
    "from plotly.graph_objs import Scatter, Layout\n",
    "\n",
    "def draw_plot(df, kind, cols_show, col_annot=None, \\\n",
    "              annot_x_ratio=None, annot_y_ratio=None, \\\n",
    "              xlabel=\"\", ylabel=\"\", cmap=cm.Accent, title=\"\", \\\n",
    "              figsize=(10, 6), horizontalalignment=\"left\", col_additional=None, bubble_scale=0.5):\n",
    "    \"\"\"\n",
    "    df: pandas data frame\n",
    "    kind: kind of plot\n",
    "    xlim: x-axis range\n",
    "    cols_show: df's columns containing data to display\n",
    "    col_annot: source from which to take annotation text.\n",
    "        This can be either (1) df's column or (2) \"index\"\n",
    "    annot_x_ratio, annot_y_ratio: used for adjusting annotation position\n",
    "    xlabel, ylabel: Labels for x and y axes\n",
    "    color: color for plot.\n",
    "    \n",
    "    \n",
    "    Draw specified kind of plot for series\n",
    "    \"\"\"\n",
    "    \n",
    "    # create plot\n",
    "    fig = plt.figure()\n",
    "    \n",
    "    # get colun names and ranges for x and y axes \n",
    "    if type(cols_show) == list:\n",
    "        x, y = cols_show[0], cols_show[1]\n",
    "        xlim = (0, df[cols_show[0]].max() * 1.15)\n",
    "        ylim = (0, df[cols_show[1]].max() * 1.15)\n",
    "    else:\n",
    "        di = df.index\n",
    "        x, y = cols_show, di.name\n",
    "        xlim = (0, df[x].max() * 1.15)\n",
    "        ylim = (0, di.values.max() * 1.15) if di.dtype in (int, float) \\\n",
    "               else None\n",
    "        \n",
    "    # draw plots\n",
    "    if kind is \"bubble\":\n",
    "        drawBubbleChart(df, x, y, col_annot, col_additional, xlabel, ylabel, title, bubble_scale)\n",
    "    else:\n",
    "        \n",
    "        \n",
    "        if kind is \"scatter\":\n",
    "            s = df[col_additional] * 5 if col_additional else None # size of marker\n",
    "            df[cols_show].plot(x=x, y=y, color=\"green\", kind=kind, xlim=xlim, ylim=ylim, \\\n",
    "                           title=title, figsize=figsize, s=s)\n",
    "        else:\n",
    "            df[cols_show].plot(kind=kind, cmap=cmap, xlim=xlim, ylim=ylim, title=title, figsize=figsize)\n",
    "    \n",
    "        # x and y axis labels\n",
    "        plt.xlabel(xlabel)\n",
    "        plt.ylabel(ylabel)\n",
    "    \n",
    "    # annotation\n",
    "    if col_annot and (kind is not \"bubble\"):\n",
    "        \n",
    "        # get figure dimensions (source https://stackoverflow.com/a/29702596)\n",
    "        fig_dim = fig.get_size_inches() * fig.dpi\n",
    "        \n",
    "        for i, v in enumerate(list(df.index)):\n",
    "            \n",
    "            # annotation from index\n",
    "            if col_annot == \"index\":\n",
    "                annot = v\n",
    "                x_coor = df[x][i]\n",
    "                y_coor = df[y][i]\n",
    "                \n",
    "            # annotation from column\n",
    "            else:\n",
    "                x_coor = df.loc[v, x]\n",
    "                y_coor = i\n",
    "                annot = \"{}\".format(df.loc[v, col_annot])\n",
    "            \n",
    "            # annotate\n",
    "            plt.annotate(annot, xy=(x_coor + fig_dim[0] * annot_x_ratio, y_coor - fig_dim[1] * annot_y_ratio),\n",
    "                        horizontalalignment=horizontalalignment)\n",
    "    \n",
    "def drawBubbleChart(df, x, y, col_annot, col_additional, xlabel, ylabel, title, bubble_scale):\n",
    "    \n",
    "    # set bubble plot parameters\n",
    "    col_annot = df.index if col_annot == \"index\" \\\n",
    "                  else df[col_annot]\n",
    "\n",
    "    data = []\n",
    "    hover_text = []\n",
    "    \n",
    "    for v in col_annot.values:\n",
    "        condition = (col_annot.values == v)\n",
    "        bubble = df[condition][col_additional]\n",
    "        \n",
    "        data.append({\n",
    "                    'x': df[condition][x], \n",
    "                    'y': df[condition][y], \n",
    "                    'text': col_additional.replace(\"_\", \" \").capitalize() + \\\n",
    "                            \":<br>\" + \\\n",
    "                            str(round(bubble.values[0], 2)),\n",
    "                    'mode': 'markers',\n",
    "                    'name': v,\n",
    "                    'marker': dict(size=bubble * bubble_scale)\n",
    "        })\n",
    "        \n",
    "    # initiate plotly offline mode\n",
    "    plotly.offline.init_notebook_mode(connected=True)\n",
    "\n",
    "    fig = {\n",
    "        'data': data,\n",
    "        'layout': {\n",
    "            'title': title,\n",
    "            'xaxis': {'title': xlabel, 'type': 'log'},\n",
    "            'yaxis': {'title': ylabel}\n",
    "        }\n",
    "    }\n",
    "    \n",
    "    # draw plot\n",
    "    plotly.offline.iplot(fig)\n",
    "    \n",
    "query = \"\"\"\n",
    "WITH genre_sales AS (\n",
    "    SELECT\n",
    "        g.name genre,\n",
    "        t.track_id,\n",
    "        i.total,\n",
    "        c.country\n",
    "    FROM customer c\n",
    "        LEFT JOIN invoice i\n",
    "            ON i.customer_id == c.customer_id\n",
    "        LEFT JOIN invoice_line il\n",
    "            ON il.invoice_id == i.invoice_id\n",
    "        LEFT JOIN track t\n",
    "            ON t.track_id == il.track_id\n",
    "        LEFT JOIN genre g\n",
    "            ON g.genre_id == t.genre_id\n",
    "    WHERE c.country == \"USA\"\n",
    ")\n",
    "\n",
    "SELECT\n",
    "    genre,\n",
    "    SUM(total) dollars_sold,\n",
    "    ROUND(\n",
    "        CAST(SUM(total) AS FLOAT) / (\n",
    "                SELECT SUM(total) FROM genre_sales\n",
    "                ) * 100\n",
    "        , 2) || \"%\" percentage_sold\n",
    "FROM\n",
    "    genre_sales\n",
    "GROUP BY genre\n",
    "ORDER BY dollars_sold DESC;\n",
    "\"\"\"\n",
    "\n",
    "# table\n",
    "genre_sales_usa = run_query(query)\n",
    "display(genre_sales_usa)\n",
    "\n",
    "# plot\n",
    "genre_sales_usa.set_index('genre', inplace=True)\n",
    "kind = \"barh\"\n",
    "draw_plot(genre_sales_usa, kind, \"dollars_sold\", \"percentage_sold\", \\\n",
    "          annot_x_ratio=0.05, annot_y_ratio=0.0006, title=\"Genre popularity ranked by dollars spent\", \\\n",
    "         xlabel=\"Dollars charged\")"
   ]
  },
  {
   "cell_type": "markdown",
   "metadata": {},
   "source": [
    "Punk, blues and hip-hop came above pop.\n",
    "\n",
    "However, the sum in dollars is $number\\ of\\ tracks$ multiplied by $price\\ per\\ track$, and prices may not be fixed across time and regions.\n",
    "\n",
    "## 2.2. Most popular genres (by number of tracks sold)\n",
    "So, I will pick top three according to the number of tracks sold instead."
   ]
  },
  {
   "cell_type": "code",
   "execution_count": 3,
   "metadata": {},
   "outputs": [
    {
     "data": {
      "text/html": [
       "<div>\n",
       "<style scoped>\n",
       "    .dataframe tbody tr th:only-of-type {\n",
       "        vertical-align: middle;\n",
       "    }\n",
       "\n",
       "    .dataframe tbody tr th {\n",
       "        vertical-align: top;\n",
       "    }\n",
       "\n",
       "    .dataframe thead th {\n",
       "        text-align: right;\n",
       "    }\n",
       "</style>\n",
       "<table border=\"1\" class=\"dataframe\">\n",
       "  <thead>\n",
       "    <tr style=\"text-align: right;\">\n",
       "      <th></th>\n",
       "      <th>genre</th>\n",
       "      <th>tracks_sold</th>\n",
       "      <th>percentage_sold</th>\n",
       "    </tr>\n",
       "  </thead>\n",
       "  <tbody>\n",
       "    <tr>\n",
       "      <th>0</th>\n",
       "      <td>Rock</td>\n",
       "      <td>561</td>\n",
       "      <td>53.38%</td>\n",
       "    </tr>\n",
       "    <tr>\n",
       "      <th>1</th>\n",
       "      <td>Alternative &amp; Punk</td>\n",
       "      <td>130</td>\n",
       "      <td>12.37%</td>\n",
       "    </tr>\n",
       "    <tr>\n",
       "      <th>2</th>\n",
       "      <td>Metal</td>\n",
       "      <td>124</td>\n",
       "      <td>11.8%</td>\n",
       "    </tr>\n",
       "    <tr>\n",
       "      <th>3</th>\n",
       "      <td>R&amp;B/Soul</td>\n",
       "      <td>53</td>\n",
       "      <td>5.04%</td>\n",
       "    </tr>\n",
       "    <tr>\n",
       "      <th>4</th>\n",
       "      <td>Blues</td>\n",
       "      <td>36</td>\n",
       "      <td>3.43%</td>\n",
       "    </tr>\n",
       "    <tr>\n",
       "      <th>5</th>\n",
       "      <td>Alternative</td>\n",
       "      <td>35</td>\n",
       "      <td>3.33%</td>\n",
       "    </tr>\n",
       "    <tr>\n",
       "      <th>6</th>\n",
       "      <td>Latin</td>\n",
       "      <td>22</td>\n",
       "      <td>2.09%</td>\n",
       "    </tr>\n",
       "    <tr>\n",
       "      <th>7</th>\n",
       "      <td>Pop</td>\n",
       "      <td>22</td>\n",
       "      <td>2.09%</td>\n",
       "    </tr>\n",
       "    <tr>\n",
       "      <th>8</th>\n",
       "      <td>Hip Hop/Rap</td>\n",
       "      <td>20</td>\n",
       "      <td>1.9%</td>\n",
       "    </tr>\n",
       "    <tr>\n",
       "      <th>9</th>\n",
       "      <td>Jazz</td>\n",
       "      <td>14</td>\n",
       "      <td>1.33%</td>\n",
       "    </tr>\n",
       "    <tr>\n",
       "      <th>10</th>\n",
       "      <td>Easy Listening</td>\n",
       "      <td>13</td>\n",
       "      <td>1.24%</td>\n",
       "    </tr>\n",
       "    <tr>\n",
       "      <th>11</th>\n",
       "      <td>Reggae</td>\n",
       "      <td>6</td>\n",
       "      <td>0.57%</td>\n",
       "    </tr>\n",
       "    <tr>\n",
       "      <th>12</th>\n",
       "      <td>Electronica/Dance</td>\n",
       "      <td>5</td>\n",
       "      <td>0.48%</td>\n",
       "    </tr>\n",
       "    <tr>\n",
       "      <th>13</th>\n",
       "      <td>Classical</td>\n",
       "      <td>4</td>\n",
       "      <td>0.38%</td>\n",
       "    </tr>\n",
       "    <tr>\n",
       "      <th>14</th>\n",
       "      <td>Heavy Metal</td>\n",
       "      <td>3</td>\n",
       "      <td>0.29%</td>\n",
       "    </tr>\n",
       "    <tr>\n",
       "      <th>15</th>\n",
       "      <td>Soundtrack</td>\n",
       "      <td>2</td>\n",
       "      <td>0.19%</td>\n",
       "    </tr>\n",
       "    <tr>\n",
       "      <th>16</th>\n",
       "      <td>TV Shows</td>\n",
       "      <td>1</td>\n",
       "      <td>0.1%</td>\n",
       "    </tr>\n",
       "  </tbody>\n",
       "</table>\n",
       "</div>"
      ],
      "text/plain": [
       "                 genre  tracks_sold percentage_sold\n",
       "0                 Rock          561          53.38%\n",
       "1   Alternative & Punk          130          12.37%\n",
       "2                Metal          124           11.8%\n",
       "3             R&B/Soul           53           5.04%\n",
       "4                Blues           36           3.43%\n",
       "5          Alternative           35           3.33%\n",
       "6                Latin           22           2.09%\n",
       "7                  Pop           22           2.09%\n",
       "8          Hip Hop/Rap           20            1.9%\n",
       "9                 Jazz           14           1.33%\n",
       "10      Easy Listening           13           1.24%\n",
       "11              Reggae            6           0.57%\n",
       "12   Electronica/Dance            5           0.48%\n",
       "13           Classical            4           0.38%\n",
       "14         Heavy Metal            3           0.29%\n",
       "15          Soundtrack            2           0.19%\n",
       "16            TV Shows            1            0.1%"
      ]
     },
     "metadata": {},
     "output_type": "display_data"
    },
    {
     "data": {
      "image/png": "[encoded data removed]",
      "text/plain": [
       "<matplotlib.figure.Figure at 0x7ff6ac58ff28>"
      ]
     },
     "metadata": {},
     "output_type": "display_data"
    }
   ],
   "source": [
    "query = \"\"\"\n",
    "WITH genre_sales AS (\n",
    "    SELECT\n",
    "        g.name genre,\n",
    "        t.track_id,\n",
    "        i.total,\n",
    "        c.country\n",
    "    FROM customer c\n",
    "        LEFT JOIN invoice i\n",
    "            ON i.customer_id == c.customer_id\n",
    "        LEFT JOIN invoice_line il\n",
    "            ON il.invoice_id == i.invoice_id\n",
    "        LEFT JOIN track t\n",
    "            ON t.track_id == il.track_id\n",
    "        LEFT JOIN genre g\n",
    "            ON g.genre_id == t.genre_id\n",
    "    WHERE c.country == \"USA\"\n",
    ")\n",
    "\n",
    "SELECT\n",
    "    genre,\n",
    "    COUNT(track_id) tracks_sold,\n",
    "    ROUND(\n",
    "        CAST(COUNT(track_id) AS FLOAT) / (\n",
    "            SELECT COUNT(track_id) FROM genre_sales\n",
    "            ) * 100\n",
    "        , 2) || \"%\" percentage_sold \n",
    "\n",
    "FROM\n",
    "    genre_sales\n",
    "GROUP BY genre\n",
    "ORDER BY tracks_sold DESC;\n",
    "\"\"\"\n",
    "\n",
    "# table\n",
    "genre_sales_usa = run_query(query)\n",
    "display(genre_sales_usa)\n",
    "\n",
    "# plot\n",
    "genre_sales_usa.set_index('genre', inplace=True)\n",
    "kind = \"barh\"\n",
    "draw_plot(genre_sales_usa, kind, \"tracks_sold\", \"percentage_sold\", \\\n",
    "          annot_x_ratio=0.005, annot_y_ratio=0.0006, title=\"Genre popularity ranked by tracks sold\", \\\n",
    "         xlabel=\"Tracks sold\")"
   ]
  },
  {
   "cell_type": "markdown",
   "metadata": {},
   "source": [
    "Punk, blues and pop are ranked above hip-hop. So, hip-hop shall be dropped.\n",
    "\n",
    "# 3. Analyzing Employee Sales Performance\n",
    "\n",
    "Situation is described below (excerpt from DataQuest)\n",
    "___\n",
    "Each customer for the Chinook store gets assigned to a sales support agent within the company when they first make a purchase. You have been asked to analyze the purchases of customers belonging to each employee to see if any sales support agent is performing either better or worse than the others.\n",
    "\n",
    "You might like to consider whether any extra columns from the employee table explain any variance you see, or whether the variance might instead be indicative of employee performance.\n",
    "___\n",
    "\n"
   ]
  },
  {
   "cell_type": "code",
   "execution_count": 4,
   "metadata": {
    "scrolled": false
   },
   "outputs": [
    {
     "data": {
      "text/html": [
       "<div>\n",
       "<style scoped>\n",
       "    .dataframe tbody tr th:only-of-type {\n",
       "        vertical-align: middle;\n",
       "    }\n",
       "\n",
       "    .dataframe tbody tr th {\n",
       "        vertical-align: top;\n",
       "    }\n",
       "\n",
       "    .dataframe thead th {\n",
       "        text-align: right;\n",
       "    }\n",
       "</style>\n",
       "<table border=\"1\" class=\"dataframe\">\n",
       "  <thead>\n",
       "    <tr style=\"text-align: right;\">\n",
       "      <th></th>\n",
       "      <th>employee_id</th>\n",
       "      <th>full_name</th>\n",
       "      <th>total</th>\n",
       "      <th>hire_date</th>\n",
       "      <th>invoice_date</th>\n",
       "      <th>days_from_hiring_to_last_invoice</th>\n",
       "    </tr>\n",
       "  </thead>\n",
       "  <tbody>\n",
       "    <tr>\n",
       "      <th>0</th>\n",
       "      <td>3</td>\n",
       "      <td>Jane Peacock</td>\n",
       "      <td>1731.51</td>\n",
       "      <td>2017-04-01 00:00:00</td>\n",
       "      <td>2020-12-30 00:00:00</td>\n",
       "      <td>1369.0</td>\n",
       "    </tr>\n",
       "    <tr>\n",
       "      <th>1</th>\n",
       "      <td>4</td>\n",
       "      <td>Margaret Park</td>\n",
       "      <td>1584.00</td>\n",
       "      <td>2017-05-03 00:00:00</td>\n",
       "      <td>2020-12-29 00:00:00</td>\n",
       "      <td>1336.0</td>\n",
       "    </tr>\n",
       "    <tr>\n",
       "      <th>2</th>\n",
       "      <td>5</td>\n",
       "      <td>Steve Johnson</td>\n",
       "      <td>1393.92</td>\n",
       "      <td>2017-10-17 00:00:00</td>\n",
       "      <td>2020-12-20 00:00:00</td>\n",
       "      <td>1160.0</td>\n",
       "    </tr>\n",
       "  </tbody>\n",
       "</table>\n",
       "</div>"
      ],
      "text/plain": [
       "   employee_id      full_name    total            hire_date  \\\n",
       "0            3   Jane Peacock  1731.51  2017-04-01 00:00:00   \n",
       "1            4  Margaret Park  1584.00  2017-05-03 00:00:00   \n",
       "2            5  Steve Johnson  1393.92  2017-10-17 00:00:00   \n",
       "\n",
       "          invoice_date  days_from_hiring_to_last_invoice  \n",
       "0  2020-12-30 00:00:00                            1369.0  \n",
       "1  2020-12-29 00:00:00                            1336.0  \n",
       "2  2020-12-20 00:00:00                            1160.0  "
      ]
     },
     "metadata": {},
     "output_type": "display_data"
    },
    {
     "data": {
      "image/png": "[encoded data removed]",
      "text/plain": [
       "<matplotlib.figure.Figure at 0x7ff6894a1080>"
      ]
     },
     "metadata": {},
     "output_type": "display_data"
    },
    {
     "data": {
      "text/plain": [
       "<matplotlib.figure.Figure at 0x7ff6894a1978>"
      ]
     },
     "metadata": {},
     "output_type": "display_data"
    },
    {
     "data": {
      "image/png": "[encoded data removed]",
      "text/plain": [
       "<matplotlib.figure.Figure at 0x7ff680c57048>"
      ]
     },
     "metadata": {},
     "output_type": "display_data"
    }
   ],
   "source": [
    "# create query\n",
    "query = \"\"\"\n",
    "SELECT\n",
    "    e.employee_id,\n",
    "    e.first_name || ' ' || e.last_name full_name,\n",
    "    SUM(i.total) total,\n",
    "    e.hire_date,\n",
    "    i.invoice_date,\n",
    "    julianday(i.invoice_date) - julianday(e.hire_date) days_from_hiring_to_last_invoice\n",
    "FROM employee e\n",
    "    INNER JOIN customer c\n",
    "        ON c.support_rep_id == e.employee_id\n",
    "    INNER JOIN invoice i\n",
    "        ON i.customer_id == c.customer_id\n",
    "GROUP BY e.employee_id\n",
    "ORDER BY total DESC;\n",
    "\"\"\"\n",
    "\n",
    "# table\n",
    "employee_performance = run_query(query)\n",
    "display(employee_performance)\n",
    "\n",
    "# plot\n",
    "employee_performance.set_index('full_name', inplace=True)\n",
    "kind = \"barh\"\n",
    "x_col = \"total\"\n",
    "title = \"Totals sold by employees (in dollars)\"\n",
    "xlabel = \"Total sold (in dollars)\"\n",
    "\n",
    "draw_plot(employee_performance, kind, \"total\", \\\n",
    "          annot_x_ratio=0.005, annot_y_ratio=0.0006, title=title, \\\n",
    "         xlabel=xlabel)\n",
    "\n",
    "# employee_performance[\"full_name\"] = employee_performance.index\n",
    "# employee_performance.set_index('total', inplace=True)\n",
    "kind = \"scatter\"\n",
    "y_col = \"days_from_hiring_to_last_invoice\"\n",
    "ylabel = y_col.replace(\"_\", \" \").capitalize()\n",
    "ylim = (0, employee_performance[y_col].max() * 1.15)\n",
    "draw_plot(employee_performance, kind, [x_col, y_col], \"index\", \\\n",
    "          annot_x_ratio=0.05, annot_y_ratio=(0.045), title=title, \\\n",
    "         xlabel=xlabel, ylabel=ylabel, figsize=(10, 8))"
   ]
  },
  {
   "cell_type": "markdown",
   "metadata": {},
   "source": [
    "Three employees have been found to have sold records. Overall, longer employment period meant more sales."
   ]
  },
  {
   "cell_type": "markdown",
   "metadata": {},
   "source": [
    "# 4. Analyzing Sales by Country\n",
    "\n",
    "A table will be created where countries will be sorted by the amount of total sales (in dollars). For each country, average purchase per customer and average purchase per order (both in dollars) will be calculated.\n",
    "\n",
    "Any country with only one customer will be categorised as \"Other\" which will be placed at the bottom of the table."
   ]
  },
  {
   "cell_type": "code",
   "execution_count": 5,
   "metadata": {},
   "outputs": [
    {
     "data": {
      "text/html": [
       "<div>\n",
       "<style scoped>\n",
       "    .dataframe tbody tr th:only-of-type {\n",
       "        vertical-align: middle;\n",
       "    }\n",
       "\n",
       "    .dataframe tbody tr th {\n",
       "        vertical-align: top;\n",
       "    }\n",
       "\n",
       "    .dataframe thead th {\n",
       "        text-align: right;\n",
       "    }\n",
       "</style>\n",
       "<table border=\"1\" class=\"dataframe\">\n",
       "  <thead>\n",
       "    <tr style=\"text-align: right;\">\n",
       "      <th></th>\n",
       "      <th>country</th>\n",
       "      <th>sales_total</th>\n",
       "      <th>sales_total_percentage</th>\n",
       "      <th>customer_count</th>\n",
       "      <th>sales_average_per_customer</th>\n",
       "      <th>order_count</th>\n",
       "      <th>sales_average_per_order</th>\n",
       "    </tr>\n",
       "  </thead>\n",
       "  <tbody>\n",
       "    <tr>\n",
       "      <th>0</th>\n",
       "      <td>USA</td>\n",
       "      <td>1040.49</td>\n",
       "      <td>22.09%</td>\n",
       "      <td>13</td>\n",
       "      <td>80.037692</td>\n",
       "      <td>131</td>\n",
       "      <td>7.942672</td>\n",
       "    </tr>\n",
       "    <tr>\n",
       "      <th>1</th>\n",
       "      <td>Canada</td>\n",
       "      <td>535.59</td>\n",
       "      <td>11.37%</td>\n",
       "      <td>8</td>\n",
       "      <td>66.948750</td>\n",
       "      <td>76</td>\n",
       "      <td>7.047237</td>\n",
       "    </tr>\n",
       "    <tr>\n",
       "      <th>2</th>\n",
       "      <td>Brazil</td>\n",
       "      <td>427.68</td>\n",
       "      <td>9.08%</td>\n",
       "      <td>5</td>\n",
       "      <td>85.536000</td>\n",
       "      <td>61</td>\n",
       "      <td>7.011148</td>\n",
       "    </tr>\n",
       "    <tr>\n",
       "      <th>3</th>\n",
       "      <td>France</td>\n",
       "      <td>389.07</td>\n",
       "      <td>8.26%</td>\n",
       "      <td>5</td>\n",
       "      <td>77.814000</td>\n",
       "      <td>50</td>\n",
       "      <td>7.781400</td>\n",
       "    </tr>\n",
       "    <tr>\n",
       "      <th>4</th>\n",
       "      <td>Germany</td>\n",
       "      <td>334.62</td>\n",
       "      <td>7.11%</td>\n",
       "      <td>4</td>\n",
       "      <td>83.655000</td>\n",
       "      <td>41</td>\n",
       "      <td>8.161463</td>\n",
       "    </tr>\n",
       "    <tr>\n",
       "      <th>5</th>\n",
       "      <td>Czech Republic</td>\n",
       "      <td>273.24</td>\n",
       "      <td>5.8%</td>\n",
       "      <td>2</td>\n",
       "      <td>136.620000</td>\n",
       "      <td>30</td>\n",
       "      <td>9.108000</td>\n",
       "    </tr>\n",
       "    <tr>\n",
       "      <th>6</th>\n",
       "      <td>United Kingdom</td>\n",
       "      <td>245.52</td>\n",
       "      <td>5.21%</td>\n",
       "      <td>3</td>\n",
       "      <td>81.840000</td>\n",
       "      <td>28</td>\n",
       "      <td>8.768571</td>\n",
       "    </tr>\n",
       "    <tr>\n",
       "      <th>7</th>\n",
       "      <td>Portugal</td>\n",
       "      <td>185.13</td>\n",
       "      <td>3.93%</td>\n",
       "      <td>2</td>\n",
       "      <td>92.565000</td>\n",
       "      <td>29</td>\n",
       "      <td>6.383793</td>\n",
       "    </tr>\n",
       "    <tr>\n",
       "      <th>8</th>\n",
       "      <td>India</td>\n",
       "      <td>183.15</td>\n",
       "      <td>3.89%</td>\n",
       "      <td>2</td>\n",
       "      <td>91.575000</td>\n",
       "      <td>21</td>\n",
       "      <td>8.721429</td>\n",
       "    </tr>\n",
       "    <tr>\n",
       "      <th>9</th>\n",
       "      <td>Other</td>\n",
       "      <td>1094.94</td>\n",
       "      <td>23.25%</td>\n",
       "      <td>15</td>\n",
       "      <td>72.996000</td>\n",
       "      <td>147</td>\n",
       "      <td>7.448571</td>\n",
       "    </tr>\n",
       "  </tbody>\n",
       "</table>\n",
       "</div>"
      ],
      "text/plain": [
       "          country  sales_total sales_total_percentage  customer_count  \\\n",
       "0             USA      1040.49                 22.09%              13   \n",
       "1          Canada       535.59                 11.37%               8   \n",
       "2          Brazil       427.68                  9.08%               5   \n",
       "3          France       389.07                  8.26%               5   \n",
       "4         Germany       334.62                  7.11%               4   \n",
       "5  Czech Republic       273.24                   5.8%               2   \n",
       "6  United Kingdom       245.52                  5.21%               3   \n",
       "7        Portugal       185.13                  3.93%               2   \n",
       "8           India       183.15                  3.89%               2   \n",
       "9           Other      1094.94                 23.25%              15   \n",
       "\n",
       "   sales_average_per_customer  order_count  sales_average_per_order  \n",
       "0                   80.037692          131                 7.942672  \n",
       "1                   66.948750           76                 7.047237  \n",
       "2                   85.536000           61                 7.011148  \n",
       "3                   77.814000           50                 7.781400  \n",
       "4                   83.655000           41                 8.161463  \n",
       "5                  136.620000           30                 9.108000  \n",
       "6                   81.840000           28                 8.768571  \n",
       "7                   92.565000           29                 6.383793  \n",
       "8                   91.575000           21                 8.721429  \n",
       "9                   72.996000          147                 7.448571  "
      ]
     },
     "metadata": {},
     "output_type": "display_data"
    }
   ],
   "source": [
    "# create query\n",
    "query = \"\"\"\n",
    "WITH ciu AS (\n",
    "    SELECT\n",
    "        CASE\n",
    "            WHEN (\n",
    "                SELECT COUNT(*)\n",
    "                FROM customer\n",
    "                WHERE customer.country == c.country\n",
    "                ) == 1 THEN \"Other\"\n",
    "            ELSE c.country\n",
    "            END AS country,\n",
    "        c.customer_id,\n",
    "        il.*\n",
    "    FROM\n",
    "        customer c\n",
    "LEFT JOIN invoice i\n",
    "    ON c.customer_id == i.customer_id\n",
    "LEFT JOIN invoice_line il\n",
    "    ON i.invoice_id == il.invoice_id\n",
    ")\n",
    "\n",
    "\n",
    "SELECT\n",
    "    country,\n",
    "    sales_total,\n",
    "    sales_total_percentage,\n",
    "    customer_count,\n",
    "    sales_average_per_customer,\n",
    "    order_count,\n",
    "    sales_average_per_order\n",
    "FROM\n",
    "    (\n",
    "    SELECT\n",
    "        country,\n",
    "        SUM(unit_price) sales_total,\n",
    "        ROUND(\n",
    "            SUM(unit_price) / \n",
    "                (SELECT SUM(unit_price)\n",
    "                FROM ciu) * 100\n",
    "            , 2) || \"%\" sales_total_percentage,\n",
    "        COUNT(DISTINCT customer_id) customer_count,\n",
    "        SUM(unit_price) / COUNT(DISTINCT customer_id) sales_average_per_customer,\n",
    "        COUNT(DISTINCT invoice_id) order_count,\n",
    "        SUM(unit_price) / COUNT(DISTINCT invoice_id) sales_average_per_order,\n",
    "        CASE\n",
    "            WHEN country == \"Other\" THEN 1\n",
    "            ELSE 0\n",
    "            END customers_per_country\n",
    "    FROM\n",
    "        ciu\n",
    "    GROUP BY country\n",
    "    )\n",
    "ORDER BY\n",
    "    customers_per_country,\n",
    "    sales_total DESC;\n",
    "\"\"\"\n",
    "\n",
    "country_sales = run_query(query)\n",
    "display(country_sales)"
   ]
  },
  {
   "cell_type": "markdown",
   "metadata": {},
   "source": [
    "Excluding countries in `Other` category, people in `USA` spent most on records, almost twice as much as those in Canadians who came in the second place (see `sales_total` column).\n",
    "\n",
    "Interestingly, Czech Republic showed highest expenditures per customer and per order (see `sales_average_per_customer` and `sales_average_per_order` columns). Howerver, their total expenditures were mediocore because of relatively small numbers of customers and purchases.\n",
    "\n",
    "\n",
    "# 5. Visualizing Sales by Country\n",
    "\n",
    "Now, the above table is visualised. Beware that the x-axis is not scaled linearly."
   ]
  },
  {
   "cell_type": "code",
   "execution_count": 6,
   "metadata": {
    "scrolled": false
   },
   "outputs": [
    {
     "data": {
      "text/html": [
       "<script>requirejs.config({paths: { 'plotly': ['https://cdn.plot.ly/plotly-latest.min']},});if(!window.Plotly) {{require(['plotly'],function(plotly) {window.Plotly=plotly;});}}</script>"
      ],
      "text/vnd.plotly.v1+html": [
       "<script>requirejs.config({paths: { 'plotly': ['https://cdn.plot.ly/plotly-latest.min']},});if(!window.Plotly) {{require(['plotly'],function(plotly) {window.Plotly=plotly;});}}</script>"
      ]
     },
     "metadata": {},
     "output_type": "display_data"
    },
    {
     "data": {
      "application/vnd.plotly.v1+json": {
       "data": [
        {
         "marker": {
          "size": [
           40.01884615384646
          ]
         },
         "mode": "markers",
         "name": "USA",
         "text": "Sales average per customer:<br>80.04",
         "x": [
          1040.490000000008
         ],
         "y": [
          13
         ]
        },
        {
         "marker": {
          "size": [
           33.474375000000215
          ]
         },
         "mode": "markers",
         "name": "Canada",
         "text": "Sales average per customer:<br>66.95",
         "x": [
          535.5900000000034
         ],
         "y": [
          8
         ]
        },
        {
         "marker": {
          "size": [
           42.76800000000024
          ]
         },
         "mode": "markers",
         "name": "Brazil",
         "text": "Sales average per customer:<br>85.54",
         "x": [
          427.68000000000245
         ],
         "y": [
          5
         ]
        },
        {
         "marker": {
          "size": [
           38.90700000000021
          ]
         },
         "mode": "markers",
         "name": "France",
         "text": "Sales average per customer:<br>77.81",
         "x": [
          389.0700000000021
         ],
         "y": [
          5
         ]
        },
        {
         "marker": {
          "size": [
           41.8275000000002
          ]
         },
         "mode": "markers",
         "name": "Germany",
         "text": "Sales average per customer:<br>83.66",
         "x": [
          334.6200000000016
         ],
         "y": [
          4
         ]
        },
        {
         "marker": {
          "size": [
           68.31000000000026
          ]
         },
         "mode": "markers",
         "name": "Czech Republic",
         "text": "Sales average per customer:<br>136.62",
         "x": [
          273.24000000000103
         ],
         "y": [
          2
         ]
        },
        {
         "marker": {
          "size": [
           40.92000000000013
          ]
         },
         "mode": "markers",
         "name": "United Kingdom",
         "text": "Sales average per customer:<br>81.84",
         "x": [
          245.52000000000078
         ],
         "y": [
          3
         ]
        },
        {
         "marker": {
          "size": [
           46.282500000000056
          ]
         },
         "mode": "markers",
         "name": "Portugal",
         "text": "Sales average per customer:<br>92.57",
         "x": [
          185.13000000000022
         ],
         "y": [
          2
         ]
        },
        {
         "marker": {
          "size": [
           45.78750000000005
          ]
         },
         "mode": "markers",
         "name": "India",
         "text": "Sales average per customer:<br>91.58",
         "x": [
          183.1500000000002
         ],
         "y": [
          2
         ]
        },
        {
         "marker": {
          "size": [
           36.49800000000028
          ]
         },
         "mode": "markers",
         "name": "Other",
         "text": "Sales average per customer:<br>73.0",
         "x": [
          1094.9400000000085
         ],
         "y": [
          15
         ]
        }
       ],
       "layout": {
        "title": "Total sales, customer count and each customer's purchase",
        "xaxis": {
         "title": "Total sales",
         "type": "log"
        },
        "yaxis": {
         "title": "Customer count"
        }
       }
      },
      "text/html": [
       "<div id=\"dac569c3-4067-44cb-bb9f-40b0c96901ed\" style=\"height: 525px; width: 100%;\" class=\"plotly-graph-div\"></div><script type=\"text/javascript\">require([\"plotly\"], function(Plotly) { window.PLOTLYENV=window.PLOTLYENV || {};window.PLOTLYENV.BASE_URL=\"https://plot.ly\";Plotly.newPlot(\"dac569c3-4067-44cb-bb9f-40b0c96901ed\", [{\"x\": [1040.490000000008], \"y\": [13], \"text\": \"Sales average per customer:<br>80.04\", \"mode\": \"markers\", \"name\": \"USA\", \"marker\": {\"size\": [40.01884615384646]}}, {\"x\": [535.5900000000034], \"y\": [8], \"text\": \"Sales average per customer:<br>66.95\", \"mode\": \"markers\", \"name\": \"Canada\", \"marker\": {\"size\": [33.474375000000215]}}, {\"x\": [427.68000000000245], \"y\": [5], \"text\": \"Sales average per customer:<br>85.54\", \"mode\": \"markers\", \"name\": \"Brazil\", \"marker\": {\"size\": [42.76800000000024]}}, {\"x\": [389.0700000000021], \"y\": [5], \"text\": \"Sales average per customer:<br>77.81\", \"mode\": \"markers\", \"name\": \"France\", \"marker\": {\"size\": [38.90700000000021]}}, {\"x\": [334.6200000000016], \"y\": [4], \"text\": \"Sales average per customer:<br>83.66\", \"mode\": \"markers\", \"name\": \"Germany\", \"marker\": {\"size\": [41.8275000000002]}}, {\"x\": [273.24000000000103], \"y\": [2], \"text\": \"Sales average per customer:<br>136.62\", \"mode\": \"markers\", \"name\": \"Czech Republic\", \"marker\": {\"size\": [68.31000000000026]}}, {\"x\": [245.52000000000078], \"y\": [3], \"text\": \"Sales average per customer:<br>81.84\", \"mode\": \"markers\", \"name\": \"United Kingdom\", \"marker\": {\"size\": [40.92000000000013]}}, {\"x\": [185.13000000000022], \"y\": [2], \"text\": \"Sales average per customer:<br>92.57\", \"mode\": \"markers\", \"name\": \"Portugal\", \"marker\": {\"size\": [46.282500000000056]}}, {\"x\": [183.1500000000002], \"y\": [2], \"text\": \"Sales average per customer:<br>91.58\", \"mode\": \"markers\", \"name\": \"India\", \"marker\": {\"size\": [45.78750000000005]}}, {\"x\": [1094.9400000000085], \"y\": [15], \"text\": \"Sales average per customer:<br>73.0\", \"mode\": \"markers\", \"name\": \"Other\", \"marker\": {\"size\": [36.49800000000028]}}], {\"title\": \"Total sales, customer count and each customer's purchase\", \"xaxis\": {\"title\": \"Total sales\", \"type\": \"log\"}, \"yaxis\": {\"title\": \"Customer count\"}}, {\"showLink\": true, \"linkText\": \"Export to plot.ly\"})});</script>"
      ],
      "text/vnd.plotly.v1+html": [
       "<div id=\"dac569c3-4067-44cb-bb9f-40b0c96901ed\" style=\"height: 525px; width: 100%;\" class=\"plotly-graph-div\"></div><script type=\"text/javascript\">require([\"plotly\"], function(Plotly) { window.PLOTLYENV=window.PLOTLYENV || {};window.PLOTLYENV.BASE_URL=\"https://plot.ly\";Plotly.newPlot(\"dac569c3-4067-44cb-bb9f-40b0c96901ed\", [{\"x\": [1040.490000000008], \"y\": [13], \"text\": \"Sales average per customer:<br>80.04\", \"mode\": \"markers\", \"name\": \"USA\", \"marker\": {\"size\": [40.01884615384646]}}, {\"x\": [535.5900000000034], \"y\": [8], \"text\": \"Sales average per customer:<br>66.95\", \"mode\": \"markers\", \"name\": \"Canada\", \"marker\": {\"size\": [33.474375000000215]}}, {\"x\": [427.68000000000245], \"y\": [5], \"text\": \"Sales average per customer:<br>85.54\", \"mode\": \"markers\", \"name\": \"Brazil\", \"marker\": {\"size\": [42.76800000000024]}}, {\"x\": [389.0700000000021], \"y\": [5], \"text\": \"Sales average per customer:<br>77.81\", \"mode\": \"markers\", \"name\": \"France\", \"marker\": {\"size\": [38.90700000000021]}}, {\"x\": [334.6200000000016], \"y\": [4], \"text\": \"Sales average per customer:<br>83.66\", \"mode\": \"markers\", \"name\": \"Germany\", \"marker\": {\"size\": [41.8275000000002]}}, {\"x\": [273.24000000000103], \"y\": [2], \"text\": \"Sales average per customer:<br>136.62\", \"mode\": \"markers\", \"name\": \"Czech Republic\", \"marker\": {\"size\": [68.31000000000026]}}, {\"x\": [245.52000000000078], \"y\": [3], \"text\": \"Sales average per customer:<br>81.84\", \"mode\": \"markers\", \"name\": \"United Kingdom\", \"marker\": {\"size\": [40.92000000000013]}}, {\"x\": [185.13000000000022], \"y\": [2], \"text\": \"Sales average per customer:<br>92.57\", \"mode\": \"markers\", \"name\": \"Portugal\", \"marker\": {\"size\": [46.282500000000056]}}, {\"x\": [183.1500000000002], \"y\": [2], \"text\": \"Sales average per customer:<br>91.58\", \"mode\": \"markers\", \"name\": \"India\", \"marker\": {\"size\": [45.78750000000005]}}, {\"x\": [1094.9400000000085], \"y\": [15], \"text\": \"Sales average per customer:<br>73.0\", \"mode\": \"markers\", \"name\": \"Other\", \"marker\": {\"size\": [36.49800000000028]}}], {\"title\": \"Total sales, customer count and each customer's purchase\", \"xaxis\": {\"title\": \"Total sales\", \"type\": \"log\"}, \"yaxis\": {\"title\": \"Customer count\"}}, {\"showLink\": true, \"linkText\": \"Export to plot.ly\"})});</script>"
      ]
     },
     "metadata": {},
     "output_type": "display_data"
    },
    {
     "data": {
      "text/html": [
       "<script>requirejs.config({paths: { 'plotly': ['https://cdn.plot.ly/plotly-latest.min']},});if(!window.Plotly) {{require(['plotly'],function(plotly) {window.Plotly=plotly;});}}</script>"
      ],
      "text/vnd.plotly.v1+html": [
       "<script>requirejs.config({paths: { 'plotly': ['https://cdn.plot.ly/plotly-latest.min']},});if(!window.Plotly) {{require(['plotly'],function(plotly) {window.Plotly=plotly;});}}</script>"
      ]
     },
     "metadata": {},
     "output_type": "display_data"
    },
    {
     "data": {
      "application/vnd.plotly.v1+json": {
       "data": [
        {
         "marker": {
          "size": [
           55.598702290076766
          ]
         },
         "mode": "markers",
         "name": "USA",
         "text": "Sales average per order:<br>7.94",
         "x": [
          1040.490000000008
         ],
         "y": [
          131
         ]
        },
        {
         "marker": {
          "size": [
           49.330657894737165
          ]
         },
         "mode": "markers",
         "name": "Canada",
         "text": "Sales average per order:<br>7.05",
         "x": [
          535.5900000000034
         ],
         "y": [
          76
         ]
        },
        {
         "marker": {
          "size": [
           49.07803278688553
          ]
         },
         "mode": "markers",
         "name": "Brazil",
         "text": "Sales average per order:<br>7.01",
         "x": [
          427.68000000000245
         ],
         "y": [
          61
         ]
        },
        {
         "marker": {
          "size": [
           54.4698000000003
          ]
         },
         "mode": "markers",
         "name": "France",
         "text": "Sales average per order:<br>7.78",
         "x": [
          389.0700000000021
         ],
         "y": [
          50
         ]
        },
        {
         "marker": {
          "size": [
           57.130243902439304
          ]
         },
         "mode": "markers",
         "name": "Germany",
         "text": "Sales average per order:<br>8.16",
         "x": [
          334.6200000000016
         ],
         "y": [
          41
         ]
        },
        {
         "marker": {
          "size": [
           63.75600000000024
          ]
         },
         "mode": "markers",
         "name": "Czech Republic",
         "text": "Sales average per order:<br>9.11",
         "x": [
          273.24000000000103
         ],
         "y": [
          30
         ]
        },
        {
         "marker": {
          "size": [
           61.3800000000002
          ]
         },
         "mode": "markers",
         "name": "United Kingdom",
         "text": "Sales average per order:<br>8.77",
         "x": [
          245.52000000000078
         ],
         "y": [
          28
         ]
        },
        {
         "marker": {
          "size": [
           44.686551724137985
          ]
         },
         "mode": "markers",
         "name": "Portugal",
         "text": "Sales average per order:<br>6.38",
         "x": [
          185.13000000000022
         ],
         "y": [
          29
         ]
        },
        {
         "marker": {
          "size": [
           61.05000000000006
          ]
         },
         "mode": "markers",
         "name": "India",
         "text": "Sales average per order:<br>8.72",
         "x": [
          183.1500000000002
         ],
         "y": [
          21
         ]
        },
        {
         "marker": {
          "size": [
           52.140000000000406
          ]
         },
         "mode": "markers",
         "name": "Other",
         "text": "Sales average per order:<br>7.45",
         "x": [
          1094.9400000000085
         ],
         "y": [
          147
         ]
        }
       ],
       "layout": {
        "title": "Total sales, order count and purchase per order",
        "xaxis": {
         "title": "Total sales",
         "type": "log"
        },
        "yaxis": {
         "title": "Order count"
        }
       }
      },
      "text/html": [
       "<div id=\"ef16e0ae-95fd-419d-910b-0e17f8155dc0\" style=\"height: 525px; width: 100%;\" class=\"plotly-graph-div\"></div><script type=\"text/javascript\">require([\"plotly\"], function(Plotly) { window.PLOTLYENV=window.PLOTLYENV || {};window.PLOTLYENV.BASE_URL=\"https://plot.ly\";Plotly.newPlot(\"ef16e0ae-95fd-419d-910b-0e17f8155dc0\", [{\"x\": [1040.490000000008], \"y\": [131], \"text\": \"Sales average per order:<br>7.94\", \"mode\": \"markers\", \"name\": \"USA\", \"marker\": {\"size\": [55.598702290076766]}}, {\"x\": [535.5900000000034], \"y\": [76], \"text\": \"Sales average per order:<br>7.05\", \"mode\": \"markers\", \"name\": \"Canada\", \"marker\": {\"size\": [49.330657894737165]}}, {\"x\": [427.68000000000245], \"y\": [61], \"text\": \"Sales average per order:<br>7.01\", \"mode\": \"markers\", \"name\": \"Brazil\", \"marker\": {\"size\": [49.07803278688553]}}, {\"x\": [389.0700000000021], \"y\": [50], \"text\": \"Sales average per order:<br>7.78\", \"mode\": \"markers\", \"name\": \"France\", \"marker\": {\"size\": [54.4698000000003]}}, {\"x\": [334.6200000000016], \"y\": [41], \"text\": \"Sales average per order:<br>8.16\", \"mode\": \"markers\", \"name\": \"Germany\", \"marker\": {\"size\": [57.130243902439304]}}, {\"x\": [273.24000000000103], \"y\": [30], \"text\": \"Sales average per order:<br>9.11\", \"mode\": \"markers\", \"name\": \"Czech Republic\", \"marker\": {\"size\": [63.75600000000024]}}, {\"x\": [245.52000000000078], \"y\": [28], \"text\": \"Sales average per order:<br>8.77\", \"mode\": \"markers\", \"name\": \"United Kingdom\", \"marker\": {\"size\": [61.3800000000002]}}, {\"x\": [185.13000000000022], \"y\": [29], \"text\": \"Sales average per order:<br>6.38\", \"mode\": \"markers\", \"name\": \"Portugal\", \"marker\": {\"size\": [44.686551724137985]}}, {\"x\": [183.1500000000002], \"y\": [21], \"text\": \"Sales average per order:<br>8.72\", \"mode\": \"markers\", \"name\": \"India\", \"marker\": {\"size\": [61.05000000000006]}}, {\"x\": [1094.9400000000085], \"y\": [147], \"text\": \"Sales average per order:<br>7.45\", \"mode\": \"markers\", \"name\": \"Other\", \"marker\": {\"size\": [52.140000000000406]}}], {\"title\": \"Total sales, order count and purchase per order\", \"xaxis\": {\"title\": \"Total sales\", \"type\": \"log\"}, \"yaxis\": {\"title\": \"Order count\"}}, {\"showLink\": true, \"linkText\": \"Export to plot.ly\"})});</script>"
      ],
      "text/vnd.plotly.v1+html": [
       "<div id=\"ef16e0ae-95fd-419d-910b-0e17f8155dc0\" style=\"height: 525px; width: 100%;\" class=\"plotly-graph-div\"></div><script type=\"text/javascript\">require([\"plotly\"], function(Plotly) { window.PLOTLYENV=window.PLOTLYENV || {};window.PLOTLYENV.BASE_URL=\"https://plot.ly\";Plotly.newPlot(\"ef16e0ae-95fd-419d-910b-0e17f8155dc0\", [{\"x\": [1040.490000000008], \"y\": [131], \"text\": \"Sales average per order:<br>7.94\", \"mode\": \"markers\", \"name\": \"USA\", \"marker\": {\"size\": [55.598702290076766]}}, {\"x\": [535.5900000000034], \"y\": [76], \"text\": \"Sales average per order:<br>7.05\", \"mode\": \"markers\", \"name\": \"Canada\", \"marker\": {\"size\": [49.330657894737165]}}, {\"x\": [427.68000000000245], \"y\": [61], \"text\": \"Sales average per order:<br>7.01\", \"mode\": \"markers\", \"name\": \"Brazil\", \"marker\": {\"size\": [49.07803278688553]}}, {\"x\": [389.0700000000021], \"y\": [50], \"text\": \"Sales average per order:<br>7.78\", \"mode\": \"markers\", \"name\": \"France\", \"marker\": {\"size\": [54.4698000000003]}}, {\"x\": [334.6200000000016], \"y\": [41], \"text\": \"Sales average per order:<br>8.16\", \"mode\": \"markers\", \"name\": \"Germany\", \"marker\": {\"size\": [57.130243902439304]}}, {\"x\": [273.24000000000103], \"y\": [30], \"text\": \"Sales average per order:<br>9.11\", \"mode\": \"markers\", \"name\": \"Czech Republic\", \"marker\": {\"size\": [63.75600000000024]}}, {\"x\": [245.52000000000078], \"y\": [28], \"text\": \"Sales average per order:<br>8.77\", \"mode\": \"markers\", \"name\": \"United Kingdom\", \"marker\": {\"size\": [61.3800000000002]}}, {\"x\": [185.13000000000022], \"y\": [29], \"text\": \"Sales average per order:<br>6.38\", \"mode\": \"markers\", \"name\": \"Portugal\", \"marker\": {\"size\": [44.686551724137985]}}, {\"x\": [183.1500000000002], \"y\": [21], \"text\": \"Sales average per order:<br>8.72\", \"mode\": \"markers\", \"name\": \"India\", \"marker\": {\"size\": [61.05000000000006]}}, {\"x\": [1094.9400000000085], \"y\": [147], \"text\": \"Sales average per order:<br>7.45\", \"mode\": \"markers\", \"name\": \"Other\", \"marker\": {\"size\": [52.140000000000406]}}], {\"title\": \"Total sales, order count and purchase per order\", \"xaxis\": {\"title\": \"Total sales\", \"type\": \"log\"}, \"yaxis\": {\"title\": \"Order count\"}}, {\"showLink\": true, \"linkText\": \"Export to plot.ly\"})});</script>"
      ]
     },
     "metadata": {},
     "output_type": "display_data"
    },
    {
     "data": {
      "text/plain": [
       "<matplotlib.figure.Figure at 0x7ff6894efb38>"
      ]
     },
     "metadata": {},
     "output_type": "display_data"
    },
    {
     "data": {
      "text/plain": [
       "<matplotlib.figure.Figure at 0x7ff680c241d0>"
      ]
     },
     "metadata": {},
     "output_type": "display_data"
    }
   ],
   "source": [
    "country_sales.set_index('country', inplace=True)\n",
    "\n",
    "# plot (customer_count)s\n",
    "kind = \"bubble\"\n",
    "draw_plot(country_sales, kind, [\"sales_total\", \"customer_count\"], \\\n",
    "          col_annot=\"index\",\n",
    "          annot_x_ratio=-0.01, annot_y_ratio=0.0004, \\\n",
    "          title=\"Total sales, customer count and each customer's purchase\", \\\n",
    "          xlabel=\"Total sales\", ylabel=\"Customer count\", \\\n",
    "          col_additional=\"sales_average_per_customer\")\n",
    "\n",
    "# plot (order_count)\n",
    "kind = \"bubble\"\n",
    "draw_plot(country_sales, kind, [\"sales_total\", \"order_count\"], \\\n",
    "          col_annot=\"index\",\n",
    "          annot_x_ratio=-0.01, annot_y_ratio=0.0004, \\\n",
    "          title=\"Total sales, order count and purchase per order\", \\\n",
    "          xlabel=\"Total sales\", ylabel=\"Order count\", \\\n",
    "          col_additional=\"sales_average_per_order\", \\\n",
    "          bubble_scale=7)"
   ]
  },
  {
   "cell_type": "markdown",
   "metadata": {},
   "source": [
    "Overall, countries with more customers or orders displayed higher total purchases.\n",
    "\n",
    "On the other hand, purchases per customer or per order did not show correlation with total purchases.\n",
    "\n",
    "Note that these suggestions have not been tested statistically."
   ]
  },
  {
   "cell_type": "markdown",
   "metadata": {},
   "source": [
    "# 6. Albums vs Individual Tracks\n",
    "\n",
    "The system allows customers to purchase either a whole album at a time or individual tracks. If an album is purchased, individual tracks cannot be added to the same purchase.\n",
    "\n",
    "The question I will ask here is which way the customers make purchases more often. Do they buy whole albumns? Or do they buy tracks individually?\n",
    "\n",
    "It is possible for a customer to select all tracks in an album individually and then add other tracks. But, let's ignore this case for simplicity.\n",
    "\n",
    "**<span style=color:red>Note: The following cell is an exact copy of DataQuest's solution.</span>**"
   ]
  },
  {
   "cell_type": "code",
   "execution_count": 9,
   "metadata": {},
   "outputs": [
    {
     "data": {
      "text/html": [
       "<div>\n",
       "<style scoped>\n",
       "    .dataframe tbody tr th:only-of-type {\n",
       "        vertical-align: middle;\n",
       "    }\n",
       "\n",
       "    .dataframe tbody tr th {\n",
       "        vertical-align: top;\n",
       "    }\n",
       "\n",
       "    .dataframe thead th {\n",
       "        text-align: right;\n",
       "    }\n",
       "</style>\n",
       "<table border=\"1\" class=\"dataframe\">\n",
       "  <thead>\n",
       "    <tr style=\"text-align: right;\">\n",
       "      <th></th>\n",
       "      <th>album_purchase</th>\n",
       "      <th>number_of_invoices</th>\n",
       "      <th>percent</th>\n",
       "    </tr>\n",
       "  </thead>\n",
       "  <tbody>\n",
       "    <tr>\n",
       "      <th>0</th>\n",
       "      <td>no</td>\n",
       "      <td>500</td>\n",
       "      <td>0.814332</td>\n",
       "    </tr>\n",
       "    <tr>\n",
       "      <th>1</th>\n",
       "      <td>yes</td>\n",
       "      <td>114</td>\n",
       "      <td>0.185668</td>\n",
       "    </tr>\n",
       "  </tbody>\n",
       "</table>\n",
       "</div>"
      ],
      "text/plain": [
       "  album_purchase  number_of_invoices   percent\n",
       "0             no                 500  0.814332\n",
       "1            yes                 114  0.185668"
      ]
     },
     "execution_count": 9,
     "metadata": {},
     "output_type": "execute_result"
    }
   ],
   "source": [
    "albums_vs_tracks = '''\n",
    "WITH invoice_first_track AS\n",
    "    (\n",
    "     SELECT\n",
    "         il.invoice_id invoice_id,\n",
    "         MIN(il.track_id) first_track_id\n",
    "     FROM invoice_line il\n",
    "     GROUP BY 1\n",
    "    )\n",
    "\n",
    "SELECT\n",
    "    album_purchase,\n",
    "    COUNT(invoice_id) number_of_invoices,\n",
    "    CAST(count(invoice_id) AS FLOAT) / (\n",
    "                                         SELECT COUNT(*) FROM invoice\n",
    "                                      ) percent\n",
    "FROM\n",
    "    (\n",
    "    SELECT\n",
    "        ifs.*,\n",
    "        CASE\n",
    "            WHEN\n",
    "                 (\n",
    "                  SELECT t.track_id FROM track t\n",
    "                  WHERE t.album_id = (\n",
    "                                      SELECT t2.album_id FROM track t2\n",
    "                                      WHERE t2.track_id = ifs.first_track_id\n",
    "                                     ) \n",
    "\n",
    "                  EXCEPT \n",
    "\n",
    "                  SELECT il2.track_id FROM invoice_line il2\n",
    "                  WHERE il2.invoice_id = ifs.invoice_id\n",
    "                 ) IS NULL\n",
    "             AND\n",
    "                 (\n",
    "                  SELECT il2.track_id FROM invoice_line il2\n",
    "                  WHERE il2.invoice_id = ifs.invoice_id\n",
    "\n",
    "                  EXCEPT \n",
    "\n",
    "                  SELECT t.track_id FROM track t\n",
    "                  WHERE t.album_id = (\n",
    "                                      SELECT t2.album_id FROM track t2\n",
    "                                      WHERE t2.track_id = ifs.first_track_id\n",
    "                                     ) \n",
    "                 ) IS NULL\n",
    "             THEN \"yes\"\n",
    "             ELSE \"no\"\n",
    "         END AS \"album_purchase\"\n",
    "     FROM invoice_first_track ifs\n",
    "    )\n",
    "GROUP BY album_purchase;\n",
    "'''\n",
    "\n",
    "run_query(albums_vs_tracks)"
   ]
  },
  {
   "cell_type": "markdown",
   "metadata": {},
   "source": [
    "Tracks are bought individually more often than as whole albumns.\n",
    "\n",
    "# 7. Tasks for later\n",
    "\n",
    "* Which artist is used in the most playlists?\n",
    "* How many tracks have been purchased vs not purchased?\n",
    "* Is the range of tracks in the store reflective of their sales popularity?\n",
    "* Do protected vs non-protected media types have an effect on popularity?"
   ]
  }
 ],
 "metadata": {
  "kernelspec": {
   "display_name": "Python 3",
   "language": "python",
   "name": "python3"
  },
  "language_info": {
   "codemirror_mode": {
    "name": "ipython",
    "version": 3
   },
   "file_extension": ".py",
   "mimetype": "text/x-python",
   "name": "python",
   "nbconvert_exporter": "python",
   "pygments_lexer": "ipython3",
   "version": "3.6.8"
  }
 },
 "nbformat": 4,
 "nbformat_minor": 2
}
