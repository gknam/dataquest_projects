{
 "cells": [
  {
   "cell_type": "markdown",
   "metadata": {},
   "source": [
    "<div class=\"text_cell_render rendered_html\" tabindex=\"-1\"><h1 id=\"Table-of-Contents\">Table of Contents<a class=\"anchor-link\" href=\"#Table-of-Contents\"></a></h1>\n",
    "<br>\n",
    "<div id=\"toc\"><ul class=\"toc\"><li><a href=\"#1.-Load-the-dataset\">1. Load the dataset</a><a class=\"anchor-link\" href=\"#1.-Load-the-dataset\">¶</a></li><li><a href=\"#2.-Overview-of-gun-deaths-per-criterion\">2. Overview of gun deaths per criterion</a><a class=\"anchor-link\" href=\"#2.-Overview-of-gun-deaths-per-criterion\">¶</a></li><ul class=\"toc\"><li><a href=\"#2.1.-Number-of-gun-deaths-per-year\">2.1. Number of gun deaths per year</a><a class=\"anchor-link\" href=\"#2.1.-Number-of-gun-deaths-per-year\">¶</a></li><li><a href=\"#2.2.-Number-of-gun-deaths-per-month-of-each-year\">2.2. Number of gun deaths per month of each year</a><a class=\"anchor-link\" href=\"#2.2.-Number-of-gun-deaths-per-month-of-each-year\">¶</a></li><li><a href=\"#2.3.-Number-of-gun-deaths-per-sex\">2.3. Number of gun deaths per sex</a><a class=\"anchor-link\" href=\"#2.3.-Number-of-gun-deaths-per-sex\">¶</a></li><li><a href=\"#2.4.-Number-of-gun-deaths-per-race\">2.4. Number of gun deaths per race</a><a class=\"anchor-link\" href=\"#2.4.-Number-of-gun-deaths-per-race\">¶</a></li></ul><li><a href=\"#3.-Findings-so-far\">3. Findings so far</a><a class=\"anchor-link\" href=\"#3.-Findings-so-far\">¶</a></li><li><a href=\"#4.-More-specific-checks-into-gun-deaths\">4. More specific checks into gun deaths</a><a class=\"anchor-link\" href=\"#4.-More-specific-checks-into-gun-deaths\">¶</a></li><ul class=\"toc\"><li><a href=\"#4.1.-Load-census-dataset\">4.1. Load census dataset</a><a class=\"anchor-link\" href=\"#4.1.-Load-census-dataset\">¶</a></li><li><a href=\"#4.2.-Rate-of-gun-deaths-per-race\">4.2. Rate of gun deaths per race</a><a class=\"anchor-link\" href=\"#4.2.-Rate-of-gun-deaths-per-race\">¶</a></li><li><a href=\"#4.3.-Rate-of-gun-deaths-per-race---homicides-only\">4.3. Rate of gun deaths per race - homicides only</a><a class=\"anchor-link\" href=\"#4.3.-Rate-of-gun-deaths-per-race---homicides-only\">¶</a></li></ul><li><a href=\"#5.-Findings\">5. Findings</a><a class=\"anchor-link\" href=\"#5.-Findings\">¶</a></li><li><a href=\"#6.-Further-investigation-into-homicidal-death-rates\">6. Further investigation into homicidal death rates</a><a class=\"anchor-link\" href=\"#6.-Further-investigation-into-homicidal-death-rates\">¶</a></li><ul class=\"toc\"><li><a href=\"#6.1.-Rate-of-homicide-gun-deaths-per-month\">6.1. Rate of homicide gun deaths per month</a><a class=\"anchor-link\" href=\"#6.1.-Rate-of-homicide-gun-deaths-per-month\">¶</a></li><li><a href=\"#6.2.-Rate-of-homicide-gun-deaths-per-sex\">6.2. Rate of homicide gun deaths per sex</a><a class=\"anchor-link\" href=\"#6.2.-Rate-of-homicide-gun-deaths-per-sex\">¶</a></li></ul><li><a href=\"#7.-Further-investigation---look-at-only-accidental-death-rates\">7. Further investigation - look at only accidental death rates</a><a class=\"anchor-link\" href=\"#7.-Further-investigation---look-at-only-accidental-death-rates\">¶</a></li><ul class=\"toc\"><li><a href=\"#7.1.-Rate-of-accidental-gun-deaths-per-race\">7.1. Rate of accidental gun deaths per race</a><a class=\"anchor-link\" href=\"#7.1.-Rate-of-accidental-gun-deaths-per-race\">¶</a></li><li><a href=\"#7.2.-Rate-of-accidental-gun-deaths-per-sex\">7.2. Rate of accidental gun deaths per sex</a><a class=\"anchor-link\" href=\"#7.2.-Rate-of-accidental-gun-deaths-per-sex\">¶</a></li></ul><li><a href=\"#8.-Further-investigation---places-and-education-in-relation-with-gun-deaths\">8. Further investigation - places and education in relation with gun deaths</a><a class=\"anchor-link\" href=\"#8.-Further-investigation---places-and-education-in-relation-with-gun-deaths\">¶</a></li><ul class=\"toc\"><li><a href=\"#8.1.-Death-rates-by-places\">8.1. Death rates by places</a><a class=\"anchor-link\" href=\"#8.1.-Death-rates-by-places\">¶</a></li><li><a href=\"#8.2.-Death-rates-by-education\">8.2. Death rates by education</a><a class=\"anchor-link\" href=\"#8.2.-Death-rates-by-education\">¶</a></li></ul><li><a href=\"#9.-Summing-up\">9. Summing up</a><a class=\"anchor-link\" href=\"#9.-Summing-up\">¶</a></li></ul></div></div>"
   ]
  },
  {
   "cell_type": "markdown",
   "metadata": {},
   "source": [
    "Project guideline: https://www.dataquest.io/m/218/guided-project%3A-exploring-gun-deaths-in-the-us\n",
    "\n",
    "Solution by DataQuest: https://github.com/dataquestio/solutions/blob/master/Mission218Solution.ipynb\n",
    "\n",
    "<br /><br />\n",
    "\n",
    "This project takes a quick glance at gun deaths in the USA from 2012 to 2014. The data is from https://github.com/fivethirtyeight/guns-data.\n",
    "\n",
    "Note that no statistical tests will be carried out."
   ]
  },
  {
   "cell_type": "markdown",
   "metadata": {
    "collapsed": true
   },
   "source": [
    "# 1. Load the dataset"
   ]
  },
  {
   "cell_type": "code",
   "execution_count": 1,
   "metadata": {},
   "outputs": [
    {
     "name": "stdout",
     "output_type": "stream",
     "text": [
      "100799\n"
     ]
    },
    {
     "data": {
      "text/plain": [
       "[['',\n",
       "  'year',\n",
       "  'month',\n",
       "  'intent',\n",
       "  'police',\n",
       "  'sex',\n",
       "  'age',\n",
       "  'race',\n",
       "  'hispanic',\n",
       "  'place',\n",
       "  'education'],\n",
       " ['1',\n",
       "  '2012',\n",
       "  '01',\n",
       "  'Suicide',\n",
       "  '0',\n",
       "  'M',\n",
       "  '34',\n",
       "  'Asian/Pacific Islander',\n",
       "  '100',\n",
       "  'Home',\n",
       "  '4'],\n",
       " ['2', '2012', '01', 'Suicide', '0', 'F', '21', 'White', '100', 'Street', '3'],\n",
       " ['3',\n",
       "  '2012',\n",
       "  '01',\n",
       "  'Suicide',\n",
       "  '0',\n",
       "  'M',\n",
       "  '60',\n",
       "  'White',\n",
       "  '100',\n",
       "  'Other specified',\n",
       "  '4'],\n",
       " ['4', '2012', '02', 'Suicide', '0', 'M', '64', 'White', '100', 'Home', '4']]"
      ]
     },
     "execution_count": 1,
     "metadata": {},
     "output_type": "execute_result"
    }
   ],
   "source": [
    "import csv\n",
    "\n",
    "# load dataset\n",
    "with open(\"guns.csv\", \"r\") as f:\n",
    "    csvreader = csv.reader(f)\n",
    "    data = list(csvreader)\n",
    "\n",
    "# show number of entries in data\n",
    "print(len(data))\n",
    "\n",
    "# display first 5 rows of data\n",
    "data[:5]"
   ]
  },
  {
   "cell_type": "code",
   "execution_count": 2,
   "metadata": {},
   "outputs": [
    {
     "name": "stdout",
     "output_type": "stream",
     "text": [
      "Header row\n",
      "[['', 'year', 'month', 'intent', 'police', 'sex', 'age', 'race', 'hispanic', 'place', 'education']]\n",
      "\n",
      "First five rows of data\n",
      "[['1', '2012', '01', 'Suicide', '0', 'M', '34', 'Asian/Pacific Islander', '100', 'Home', '4'], ['2', '2012', '01', 'Suicide', '0', 'F', '21', 'White', '100', 'Street', '3'], ['3', '2012', '01', 'Suicide', '0', 'M', '60', 'White', '100', 'Other specified', '4'], ['4', '2012', '02', 'Suicide', '0', 'M', '64', 'White', '100', 'Home', '4'], ['5', '2012', '02', 'Suicide', '0', 'M', '31', 'White', '100', 'Other specified', '2']]\n"
     ]
    }
   ],
   "source": [
    "# get header row of dataset\n",
    "headers = data[:1]\n",
    "\n",
    "# remove header row from dataset\n",
    "data = data[1:]\n",
    "\n",
    "print(\"Header row\")\n",
    "print(headers)\n",
    "print()\n",
    "print(\"First five rows of data\")\n",
    "print(data[:5])"
   ]
  },
  {
   "cell_type": "markdown",
   "metadata": {},
   "source": [
    "# 2. Overview of gun deaths per criterion"
   ]
  },
  {
   "cell_type": "markdown",
   "metadata": {},
   "source": [
    "## 2.1. Number of gun deaths per year"
   ]
  },
  {
   "cell_type": "code",
   "execution_count": 3,
   "metadata": {},
   "outputs": [
    {
     "name": "stdout",
     "output_type": "stream",
     "text": [
      "{2012: 33563, 2013: 33636, 2014: 33599}\n"
     ]
    },
    {
     "data": {
      "image/png": "[encoded data removed]",
      "text/plain": [
       "<Figure size 432x288 with 1 Axes>"
      ]
     },
     "metadata": {
      "needs_background": "light"
     },
     "output_type": "display_data"
    }
   ],
   "source": [
    "from datetime import datetime\n",
    "import matplotlib.pyplot as plt\n",
    "import numpy as np\n",
    "%matplotlib inline\n",
    "\n",
    "def countDeaths(data, ind1, ind2=None, filterInd=None, filterVal=None):\n",
    "    \"\"\"\n",
    "    Returns number of gun deaths for specified field\n",
    "    \n",
    "    Input\n",
    "    \n",
    "    1. data:\n",
    "    List of lists\n",
    "    \n",
    "    2. ind1 and ind2:\n",
    "    Indices for specified fields in data\n",
    "    (1=year, 2=month, 5=sex, 7=race, place=9, education=10)\n",
    "    \n",
    "    3. filterInd and filterVal\n",
    "    If these are given, data will be added to output only if\n",
    "    the value at the given index (filterInd) matches filterVal.\n",
    "    (3=intent)\n",
    "    \"\"\"\n",
    "    counts = {}\n",
    "    if filterInd:\n",
    "        filterInd = int(filterInd)\n",
    "        filter_column = [i[filterInd] for i in data]\n",
    "\n",
    "    # 1. check if specified field is years and months combined\n",
    "    yearmonth = (ind1 == 1) and (ind2 == 2)\n",
    "    \n",
    "    # 2. extact data for specified field\n",
    "    # 2.1 when specified field is years and months combined\n",
    "    if yearmonth:\n",
    "        entries = []\n",
    "        for i in data:\n",
    "            entries.append(datetime(int(i[ind1]), int(i[ind2]), 1))\n",
    "\n",
    "    # 2.2 when specified field is one of others\n",
    "    else:\n",
    "        try:\n",
    "            entries = [int(i[ind1]) for i in data]\n",
    "        except:\n",
    "            entries = [i[ind1] for i in data]\n",
    "\n",
    "    # count deaths for specified field\n",
    "    for i, entry in enumerate(entries):\n",
    "        \n",
    "        # skip entry if filter is specified and\n",
    "        # the entry does not meet the condition\n",
    "        if filterInd:\n",
    "            if filter_column[i] != filterVal:\n",
    "                continue\n",
    "\n",
    "        # other wise, count entry in\n",
    "        if entry in counts:\n",
    "            counts[entry] += 1\n",
    "        else:\n",
    "            counts[entry] = 1\n",
    "    \n",
    "    return counts\n",
    "\n",
    "def getChanges(dic, xLabel, yLabel, title, graphType, xTicksRotation=0, yAxisPercent=False):\n",
    "    changes = []\n",
    "    \"\"\"\n",
    "    Create plots from dic.\n",
    "    This function has been taken from http://bit.ly/2ioi5qO and modified\n",
    "    \"\"\"\n",
    "    \n",
    "    # get dic's keys and sort them\n",
    "    keys = [key for key in dic]\n",
    "    keys.sort()\n",
    "    \n",
    "    # get dic's values for each key\n",
    "    values = []\n",
    "    for key in keys:\n",
    "        values.append(dic[key])\n",
    "    \n",
    "    # display changes (source https://stackoverflow.com/a/24120377/7194743)\n",
    "    # note: plt.xlabel() did not work\n",
    "    fig, ax = plt.subplots()\n",
    "    ax.set_xlabel(xLabel)\n",
    "    ax.set_ylabel(yLabel)\n",
    "    \n",
    "    # prevent plot offset or unit from changing\n",
    "    # (source https://stackoverflow.com/a/28373421/7194743)\n",
    "    ax.ticklabel_format(useOffset=False)\n",
    "    \n",
    "    # if requested, show Y-axis values in percentage\n",
    "    if yAxisPercent:\n",
    "        vals = ax.get_yticks()\n",
    "        ax.set_yticklabels(['{:3.2f}%'.format(x*100) for x in vals])\n",
    "    \n",
    "    plt.title(title)\n",
    "    \n",
    "    if graphType == 'bar':\n",
    "        ind = np.arange(len(dic))\n",
    "        plt.xticks(ind, keys, rotation=xTicksRotation)\n",
    "        plt.bar(ind, values, align='center')\n",
    "    elif graphType == 'line':\n",
    "        xtick_labels = [str(i) for i in keys]\n",
    "        plt.xticks(keys, xtick_labels, rotation=xTicksRotation)\n",
    "        plt.plot(keys, values)\n",
    "        \n",
    "    plt.show()\n",
    "\n",
    "\n",
    "# get gun deaths per year\n",
    "year_counts = countDeaths(data, 1)\n",
    "\n",
    "# display and plot gun deaths per yearind2\n",
    "print(year_counts)\n",
    "getChanges(year_counts, 'Year', 'Deaths', \\\n",
    "           'Gun deaths change across years', 'line')"
   ]
  },
  {
   "cell_type": "markdown",
   "metadata": {},
   "source": [
    "## 2.2. Number of gun deaths per month of each year"
   ]
  },
  {
   "cell_type": "code",
   "execution_count": 4,
   "metadata": {
    "scrolled": false
   },
   "outputs": [
    {
     "name": "stdout",
     "output_type": "stream",
     "text": [
      "['2012-01-01', '2012-02-01', '2012-03-01', '2012-04-01', '2012-05-01', '2012-06-01', '2012-07-01', '2012-08-01', '2012-09-01', '2012-10-01', '2012-11-01', '2012-12-01', '2013-01-01', '2013-02-01', '2013-03-01', '2013-04-01', '2013-05-01', '2013-06-01', '2013-07-01', '2013-08-01', '2013-09-01', '2013-10-01', '2013-11-01', '2013-12-01', '2014-01-01', '2014-02-01', '2014-03-01', '2014-04-01', '2014-05-01', '2014-06-01', '2014-07-01', '2014-08-01', '2014-09-01', '2014-10-01', '2014-11-01', '2014-12-01']\n"
     ]
    },
    {
     "data": {
      "image/png": "[encoded data removed]",
      "text/plain": [
       "<Figure size 432x288 with 1 Axes>"
      ]
     },
     "metadata": {
      "needs_background": "light"
     },
     "output_type": "display_data"
    }
   ],
   "source": [
    "# get gun deaths per month of each year\n",
    "date_counts_datetime = countDeaths(data, 1, 2)\n",
    "date_counts = [i.strftime(\"%Y-%m-%d\") for i in date_counts_datetime]\n",
    "\n",
    "# display and plot gun deaths per month of each year\n",
    "print(date_counts)\n",
    "getChanges(date_counts_datetime, 'Months', 'Deaths', \\\n",
    "           'Gun deaths change across months of each year', 'line', xTicksRotation=90)"
   ]
  },
  {
   "cell_type": "markdown",
   "metadata": {},
   "source": [
    "## 2.3. Number of gun deaths per sex"
   ]
  },
  {
   "cell_type": "code",
   "execution_count": null,
   "metadata": {},
   "outputs": [
    {
     "name": "stdout",
     "output_type": "stream",
     "text": [
      "{'M': 86349, 'F': 14449}\n"
     ]
    },
    {
     "data": {
      "image/png": "[encoded data removed]",
      "text/plain": [
       "<Figure size 432x288 with 1 Axes>"
      ]
     },
     "metadata": {
      "needs_background": "light"
     },
     "output_type": "display_data"
    }
   ],
   "source": [
    "# get gun deaths per sex\n",
    "sex_counts = countDeaths(data, 5)\n",
    "\n",
    "# display gun deaths per sex\n",
    "print(sex_counts)\n",
    "getChanges(sex_counts, 'Sex', 'Deaths', \\\n",
    "           'Gun deaths per sex', 'bar')"
   ]
  },
  {
   "cell_type": "markdown",
   "metadata": {},
   "source": [
    "## 2.4. Number of gun deaths per race"
   ]
  },
  {
   "cell_type": "code",
   "execution_count": null,
   "metadata": {},
   "outputs": [
    {
     "name": "stdout",
     "output_type": "stream",
     "text": [
      "{'Asian/Pacific Islander': 1326, 'White': 66237, 'Native American/Native Alaskan': 917, 'Black': 23296, 'Hispanic': 9022}\n"
     ]
    },
    {
     "data": {
      "image/png": "[encoded data removed]",
      "text/plain": [
       "<Figure size 432x288 with 1 Axes>"
      ]
     },
     "metadata": {
      "needs_background": "light"
     },
     "output_type": "display_data"
    }
   ],
   "source": [
    "# get race from data\n",
    "race_counts = countDeaths(data, 7)\n",
    "\n",
    "# display gun deaths per race\n",
    "print(race_counts)\n",
    "getChanges(race_counts, 'Race', 'Deaths', \\\n",
    "           'Gun deaths per race', 'bar', xTicksRotation=90)"
   ]
  },
  {
   "cell_type": "markdown",
   "metadata": {
    "collapsed": true
   },
   "source": [
    "# 3. Findings so far\n",
    "\n",
    "Number of gun deaths were not very different across years.\n",
    "\n",
    "Across the years, overall deaths does not seem to change noticeably. Within each year, the number of deaths tended to surge around summer and dip in Feburary.\n",
    "\n",
    "Men died roughly 6 times more than women.\n",
    "\n",
    "A race-based check showed that white people died most, followed by black and hispanic people.\n",
    "\n",
    "So far, raw counts have been checked. The next part will look at *rates* of gun deaths"
   ]
  },
  {
   "cell_type": "markdown",
   "metadata": {},
   "source": [
    "# 4. More specific checks into gun deaths"
   ]
  },
  {
   "cell_type": "markdown",
   "metadata": {},
   "source": [
    "## 4.1. Load census dataset\n",
    "\n",
    "We are now reading in census dataset to get the population of the US."
   ]
  },
  {
   "cell_type": "code",
   "execution_count": null,
   "metadata": {},
   "outputs": [
    {
     "data": {
      "text/plain": [
       "[['Id',\n",
       "  'Year',\n",
       "  'Id',\n",
       "  'Sex',\n",
       "  'Id',\n",
       "  'Hispanic Origin',\n",
       "  'Id',\n",
       "  'Id2',\n",
       "  'Geography',\n",
       "  'Total',\n",
       "  'Race Alone - White',\n",
       "  'Race Alone - Hispanic',\n",
       "  'Race Alone - Black or African American',\n",
       "  'Race Alone - American Indian and Alaska Native',\n",
       "  'Race Alone - Asian',\n",
       "  'Race Alone - Native Hawaiian and Other Pacific Islander',\n",
       "  'Two or More Races'],\n",
       " ['cen42010',\n",
       "  'April 1, 2010 Census',\n",
       "  'totsex',\n",
       "  'Both Sexes',\n",
       "  'tothisp',\n",
       "  'Total',\n",
       "  '0100000US',\n",
       "  '',\n",
       "  'United States',\n",
       "  '308745538',\n",
       "  '197318956',\n",
       "  '44618105',\n",
       "  '40250635',\n",
       "  '3739506',\n",
       "  '15159516',\n",
       "  '674625',\n",
       "  '6984195']]"
      ]
     },
     "execution_count": 7,
     "metadata": {},
     "output_type": "execute_result"
    }
   ],
   "source": [
    "# load cencus\n",
    "with open(\"census.csv\", \"r\") as f:\n",
    "    csvreader = csv.reader(f)\n",
    "    census = list(csvreader)\n",
    "\n",
    "# display census\n",
    "census"
   ]
  },
  {
   "cell_type": "markdown",
   "metadata": {},
   "source": [
    "## 4.2. Rate of gun deaths per race\n",
    "\n",
    "Now we are looking at gun deaths rate (= (total number of gun deaths in each race) / (population of each race))."
   ]
  },
  {
   "cell_type": "code",
   "execution_count": null,
   "metadata": {},
   "outputs": [
    {
     "name": "stdout",
     "output_type": "stream",
     "text": [
      "{'Asian/Pacific Islander': 8.374309664161762, 'White': 33.56849303419181, 'Native American/Native Alaskan': 24.521955573811088, 'Black': 57.8773477735196, 'Hispanic': 20.220491210910907}\n"
     ]
    },
    {
     "data": {
      "image/png": "[encoded data removed]",
      "text/plain": [
       "<Figure size 432x288 with 1 Axes>"
      ]
     },
     "metadata": {
      "needs_background": "light"
     },
     "output_type": "display_data"
    }
   ],
   "source": [
    "# remove header from census\n",
    "census = census[1]\n",
    "\n",
    "# get population per race\n",
    "mappingRace = {}\n",
    "for key in race_counts:\n",
    "    mappingRace[key] = 0\n",
    "\n",
    "mappingRace[\"White\"] += int(census[10])\n",
    "mappingRace[\"Hispanic\"] += int(census[11])\n",
    "mappingRace[\"Black\"] += int(census[12])\n",
    "mappingRace[\"Native American/Native Alaskan\"] += int(census[13])\n",
    "mappingRace[\"Asian/Pacific Islander\"] += (int(census[14]) + int(census[15]))\n",
    "\n",
    "# get number of gun deaths per 100,000 people in each race\n",
    "def getDeathsPerSample(dicCount, dicPopulation, sampleSize):\n",
    "    \"\"\"\n",
    "    Returns deaths per sampleSize.\n",
    "    dicCount: Dictionary of death counts per key\n",
    "    dicPopulation: Dictionary of population per key\n",
    "    \"\"\"\n",
    "    count_per_sample = {}\n",
    "    for key in dicCount:\n",
    "        count_per_sample[key] = (dicCount[key] / dicPopulation[key]) * sampleSize\n",
    "    return count_per_sample\n",
    "\n",
    "race_per_hunredk = getDeathsPerSample(race_counts, mappingRace, 100000)\n",
    "\n",
    "print(race_per_hunredk)\n",
    "getChanges(race_per_hunredk, 'Race', 'Deaths', \\\n",
    "           'Gun deaths per race in every 100000 people', \\\n",
    "           'bar', xTicksRotation=90)"
   ]
  },
  {
   "cell_type": "markdown",
   "metadata": {
    "collapsed": true
   },
   "source": [
    "## 4.3. Rate of gun deaths per race - homicides only"
   ]
  },
  {
   "cell_type": "code",
   "execution_count": null,
   "metadata": {},
   "outputs": [
    {
     "name": "stdout",
     "output_type": "stream",
     "text": [
      "{'White': 9147, 'Asian/Pacific Islander': 559, 'Black': 19510, 'Native American/Native Alaskan': 326, 'Hispanic': 5634}\n",
      "{'White': 4.6356417981453335, 'Asian/Pacific Islander': 3.530346230970155, 'Black': 48.471284987180944, 'Native American/Native Alaskan': 8.717729026240365, 'Hispanic': 12.627161104219914}\n"
     ]
    },
    {
     "data": {
      "image/png": "[encoded data removed]",
      "text/plain": [
       "<Figure size 432x288 with 1 Axes>"
      ]
     },
     "metadata": {
      "needs_background": "light"
     },
     "output_type": "display_data"
    }
   ],
   "source": [
    "# get number of gun deaths by homicide in each race\n",
    "race_counts_homicides = countDeaths(data, 7, \\\n",
    "                        filterInd=\"3\", filterVal=\"Homicide\")\n",
    "print(race_counts_homicides)\n",
    "\n",
    "# get deaths per 100,000\n",
    "race_per_hunredk_homicides = getDeathsPerSample(race_counts_homicides, mappingRace, 100000)\n",
    "print(race_per_hunredk_homicides)\n",
    "getChanges(race_per_hunredk_homicides, 'Race', 'Deaths', \\\n",
    "           'Gun deaths by homicide per race in every 100000 people', \\\n",
    "           'bar', xTicksRotation=90)"
   ]
  },
  {
   "cell_type": "markdown",
   "metadata": {},
   "source": [
    "# 5. Findings\n",
    "\n",
    "Total number of gun deaths were highest in black people. White people came in second place, who were followed by native Americans/Alaskans.\n",
    "\n",
    "However, as the results were limited to homicide deaths, black people came on top, whose death counts were more than twice as much as the white people's who came in the second place.\n",
    "\n",
    "The homicide death rate was also highest among black people, with their rate being more than 5 times the rate of any other group.\n",
    "\n",
    "The next part will further investigate homicidal death rates."
   ]
  },
  {
   "cell_type": "markdown",
   "metadata": {
    "collapsed": true
   },
   "source": [
    "# 6. Further investigation into homicidal death rates"
   ]
  },
  {
   "cell_type": "markdown",
   "metadata": {},
   "source": [
    "## 6.1. Rate of homicide gun deaths per month"
   ]
  },
  {
   "cell_type": "code",
   "execution_count": null,
   "metadata": {
    "scrolled": false
   },
   "outputs": [],
   "source": [
    "# get number of gun deaths by homicide in each month\n",
    "month_counts_homicides = countDeaths(data, 2, \\\n",
    "                        filterInd=\"3\", filterVal=\"Homicide\")\n",
    "print(month_counts_homicides)\n",
    "\n",
    "# get denominator (whole population)\n",
    "popul = sum(mappingRace.values())\n",
    "mappingMonth = {}\n",
    "for month in month_counts_homicides:\n",
    "    mappingMonth[month] = popul\n",
    "print(mappingMonth)\n",
    "\n",
    "# get gun death rate per month\n",
    "month_per_hunredk_homicides = getDeathsPerSample(month_counts_homicides, mappingMonth, 100000)\n",
    "print(month_per_hunredk_homicides)\n",
    "getChanges(month_per_hunredk_homicides, 'Month', 'Deaths', \\\n",
    "           'Gun deaths by homicide per month in every 100,000 pepole', \\\n",
    "           'bar')"
   ]
  },
  {
   "cell_type": "markdown",
   "metadata": {},
   "source": [
    "The homicide appears to have surged in summer and winter, while it steeply dropped from December to February. This is partly consistent with the statement in [3. Findings so far](#3.-Findings-so-far)."
   ]
  },
  {
   "cell_type": "markdown",
   "metadata": {},
   "source": [
    "## 6.2. Rate of homicide gun deaths per sex"
   ]
  },
  {
   "cell_type": "code",
   "execution_count": null,
   "metadata": {},
   "outputs": [],
   "source": [
    "# get number of gun deaths by homicide in each sex\n",
    "sex_counts_homicides = countDeaths(data, 5, \\\n",
    "                        filterInd=\"3\", filterVal=\"Homicide\")\n",
    "\n",
    "# get denominator (whole population)\n",
    "mappingSex = {}\n",
    "mappingSex[\"M\"] = popul\n",
    "mappingSex[\"F\"] = popul\n",
    "print(mappingSex)\n",
    "\n",
    "# get gun death rate per sex\n",
    "sex_per_hunredk_homicides = getDeathsPerSample(sex_counts_homicides, mappingSex, 100000)\n",
    "print(sex_per_hunredk_homicides)\n",
    "getChanges(sex_per_hunredk_homicides, 'Sex', 'Deaths', \\\n",
    "           'Gun deaths by homicide per sex in every 100,000 people', \\\n",
    "           'bar')"
   ]
  },
  {
   "cell_type": "markdown",
   "metadata": {},
   "source": [
    "Males were around 5 times more likely to have died in homicides than females."
   ]
  },
  {
   "cell_type": "markdown",
   "metadata": {
    "collapsed": true
   },
   "source": [
    "# 7. Further investigation - look at only accidental death rates\n",
    "Not all gun deaths are intentional. So let's take a look at accidental gun deaths as well."
   ]
  },
  {
   "cell_type": "markdown",
   "metadata": {},
   "source": [
    "## 7.1. Rate of accidental gun deaths per race"
   ]
  },
  {
   "cell_type": "code",
   "execution_count": null,
   "metadata": {},
   "outputs": [],
   "source": [
    "# get number of accidental gun deaths in each race\n",
    "race_counts_accident = countDeaths(data, 7, \\\n",
    "                        filterInd=\"3\", filterVal=\"Accidental\")\n",
    "print(race_counts_accident)\n",
    "\n",
    "# get accidental get deaths per 100,000\n",
    "race_per_hunredk_accident = getDeathsPerSample(race_counts_accident, mappingRace, 100000)\n",
    "print(race_per_hunredk_accident)\n",
    "getChanges(race_per_hunredk_accident, 'Race', 'Deaths', \\\n",
    "           'Accidental gun deaths per race in every 100000 people', \\\n",
    "           'bar', xTicksRotation=90)"
   ]
  },
  {
   "cell_type": "markdown",
   "metadata": {},
   "source": [
    "Accidental death rates were much lower than [homicidal death rates](#Get-number-of-gundeaths-per-race-in-every-100,000-people---now-look-at-only-homicides). With black people showing highest rate, white and native American/Alaskan groups showed considerably high rate as well. Asian/Pacific Islander group were still least likely to have died accidental gun deaths."
   ]
  },
  {
   "cell_type": "markdown",
   "metadata": {},
   "source": [
    "## 7.2. Rate of accidental gun deaths per sex"
   ]
  },
  {
   "cell_type": "code",
   "execution_count": null,
   "metadata": {},
   "outputs": [],
   "source": [
    "# get number of accidental gun deaths in each sex\n",
    "sex_counts_accident = countDeaths(data, 5, \\\n",
    "                        filterInd=\"3\", filterVal=\"Accidental\")\n",
    "\n",
    "# display denominator (whole population)\n",
    "print(mappingSex)\n",
    "\n",
    "# get accidental gun death rate per sex\n",
    "sex_per_hunredk_accident = getDeathsPerSample(sex_counts_accident, mappingSex, 100000)\n",
    "print(sex_per_hunredk_accident)\n",
    "getChanges(sex_per_hunredk_accident, 'Sex', 'Deaths', \\\n",
    "           'Accidental gun deaths per sex in every 100,000 people', \\\n",
    "           'bar')"
   ]
  },
  {
   "cell_type": "markdown",
   "metadata": {},
   "source": [
    "Compared to [homicides](#6.2.-Rate-of-homicide-gun-deaths-per-sex), accidental gun deaths were much rarer than  for both sexes whereas the proportion of each sex remained similar."
   ]
  },
  {
   "cell_type": "markdown",
   "metadata": {},
   "source": [
    "# 8. Further investigation - places and education in relation with gun deaths\n",
    "\n",
    "Now you've reached the last part of this project.\n",
    "\n",
    "Up to this point, we have looked at gun death rates in relation with time (month, year) and people (gender, race). What about other factors? Are gun deaths more prevalent in some areas or among more/less educated people?"
   ]
  },
  {
   "cell_type": "markdown",
   "metadata": {},
   "source": [
    "## 8.1. Death rates by places"
   ]
  },
  {
   "cell_type": "code",
   "execution_count": null,
   "metadata": {
    "scrolled": false
   },
   "outputs": [],
   "source": [
    "# get gun deaths per place\n",
    "place_counts = countDeaths(data, 9)\n",
    "\n",
    "# get denominator (whole population)\n",
    "mappingPlaces = {}\n",
    "for place in place_counts:\n",
    "    mappingPlaces[place] = popul\n",
    "\n",
    "# get accidental gun death rate per place\n",
    "place_per_hunredk = getDeathsPerSample(place_counts, mappingPlaces, 100000)\n",
    "print(place_per_hunredk)\n",
    "getChanges(place_per_hunredk, 'Place', 'Deaths', \\\n",
    "           'Gun deaths per place in every 100,000 people', \\\n",
    "           'bar', xTicksRotation=90)"
   ]
  },
  {
   "cell_type": "markdown",
   "metadata": {},
   "source": [
    "Most gun deaths happened at home, with noticeable amount of deaths observed on the street or other places."
   ]
  },
  {
   "cell_type": "markdown",
   "metadata": {},
   "source": [
    "## 8.2. Death rates by education"
   ]
  },
  {
   "cell_type": "code",
   "execution_count": null,
   "metadata": {},
   "outputs": [],
   "source": [
    "# get gun deaths per education level\n",
    "edu_counts = countDeaths(data, 10)\n",
    "\n",
    "edu_counts[\"1 - Less than High School\"] = edu_counts.pop('1')\n",
    "edu_counts[\"2 - Graduated from High School or equivalent\"] = edu_counts.pop(\"2\")\n",
    "edu_counts[\"3 - Some College\"] = edu_counts.pop(\"3\")\n",
    "edu_counts[\"4 - At least graduated from College\"] = edu_counts.pop(\"4\")\n",
    "edu_counts[\"5 - NA\"] = edu_counts.pop(\"5\")\n",
    "edu_counts[\"5 - NA\"] += edu_counts.pop(\"NA\")\n",
    "print(edu_counts)\n",
    "\n",
    "# get denominator (whole population)\n",
    "mappingEdu = {}\n",
    "for edu in edu_counts:\n",
    "    mappingEdu[edu] = popul\n",
    "\n",
    "# get accidental gun death rate per place\n",
    "edu_per_hunredk = getDeathsPerSample(edu_counts, mappingEdu, 100000)\n",
    "#print(edu_per_hunredk)\n",
    "getChanges(edu_per_hunredk, 'Education', 'Deaths', \\\n",
    "           'Gun deaths and education in every 100,000 people', \\\n",
    "           'bar', xTicksRotation=90)"
   ]
  },
  {
   "cell_type": "markdown",
   "metadata": {
    "collapsed": true
   },
   "source": [
    "More education generally meant fewer gun deaths.\n",
    "\n",
    "An exception was those who did not graduate from high school. They were about half as likely to have been in gun deaths than those who graduated from high school."
   ]
  },
  {
   "cell_type": "markdown",
   "metadata": {},
   "source": [
    "# 9. Summing up\n",
    "\n",
    "The data showed that gun deaths are a complex issue, which cannot simply be boiled down to one simple factor.\n",
    "\n",
    "Some of the results followed expectations (e.g. higher gun death rate in males than females) while others may have come across as a surprise (e.g. most gun deaths happened at home). Different factors affect each other as well (e.g. overal gun deaths were highest in white people, but homicide gun deaths were highest in black people).\n",
    "\n",
    "This project is only an exploratory and non-statistical one, and therefore I am not making suggestions on policies, etc. based on this."
   ]
  }
 ],
 "metadata": {
  "kernelspec": {
   "display_name": "Python 3",
   "language": "python",
   "name": "python3"
  },
  "language_info": {
   "codemirror_mode": {
    "name": "ipython",
    "version": 3
   },
   "file_extension": ".py",
   "mimetype": "text/x-python",
   "name": "python",
   "nbconvert_exporter": "python",
   "pygments_lexer": "ipython3",
   "version": "3.6.8"
  }
 },
 "nbformat": 4,
 "nbformat_minor": 1
}
